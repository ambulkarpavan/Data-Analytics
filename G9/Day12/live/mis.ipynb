{
 "cells": [
  {
   "cell_type": "code",
   "execution_count": 1,
   "id": "83864aed-45b3-4f55-a780-da9083b796af",
   "metadata": {},
   "outputs": [
    {
     "name": "stdout",
     "output_type": "stream",
     "text": [
      "Original:\n",
      "  col1  col2  col3 col4\n",
      "0    A     2     0    a\n",
      "1    A     1     1    B\n",
      "2    B     9     9    c\n",
      "3  NaN     8     4    D\n",
      "4    D     7     2    e\n",
      "5    C     4     3    F\n"
     ]
    }
   ],
   "source": [
    "import numpy as np\n",
    "import pandas as pd\n",
    "\n",
    "\n",
    "dFrame4 = pd.DataFrame(\n",
    "  {\n",
    "    'col1': ['A', 'A', 'B', np.nan, 'D', 'C'],\n",
    "    'col2': [2, 1, 9, 8, 7, 4],\n",
    "    'col3': [0, 1, 9, 4, 2, 3],\n",
    "    'col4': ['a', 'B', 'c', 'D', 'e', 'F']\n",
    "  }\n",
    ")\n",
    "print(\"Original:\\n\", dFrame4, sep = \"\")\n"
   ]
  },
  {
   "cell_type": "code",
   "execution_count": 2,
   "id": "c1cafad2-62d8-4f49-ae87-9cd15ad615b1",
   "metadata": {},
   "outputs": [
    {
     "name": "stdout",
     "output_type": "stream",
     "text": [
      "[ 0  1  2  3  4 50 60 70 80 90]\n"
     ]
    }
   ],
   "source": [
    "arr_1 = np.arange(10)\n",
    "print(np.where(arr_1 < 5, arr_1, 10 * arr_1))\n"
   ]
  },
  {
   "cell_type": "code",
   "execution_count": 4,
   "id": "1fc772d4-d95d-4330-a194-f8b33f66671d",
   "metadata": {},
   "outputs": [
    {
     "name": "stdout",
     "output_type": "stream",
     "text": [
      "[[0 1 2]\n",
      " [0 2 4]\n",
      " [0 3 6]]\n",
      "[[ 0  1  2]\n",
      " [ 0  2 -1]\n",
      " [ 0  3 -1]]\n"
     ]
    }
   ],
   "source": [
    "arr_2 = np.array([[0, 1, 2], [0, 2, 4], [0, 3, 6]])\n",
    "print(arr_2)\n",
    "print(np.where(arr_2 < 4, arr_2, -1))"
   ]
  },
  {
   "cell_type": "code",
   "execution_count": 5,
   "id": "291090cd-ba54-47b9-be0a-452ec139c365",
   "metadata": {},
   "outputs": [
    {
     "data": {
      "text/plain": [
       "0    NaN\n",
       "1    1.0\n",
       "2    2.0\n",
       "3    3.0\n",
       "4    4.0\n",
       "dtype: float64"
      ]
     },
     "execution_count": 5,
     "metadata": {},
     "output_type": "execute_result"
    }
   ],
   "source": [
    "s = pd.Series(range(5))\n",
    "s.where(s > 0)\n"
   ]
  },
  {
   "cell_type": "code",
   "execution_count": 6,
   "id": "af775786-79af-4c7f-824c-338d0d943cbd",
   "metadata": {},
   "outputs": [
    {
     "data": {
      "text/plain": [
       "0    0.0\n",
       "1    NaN\n",
       "2    NaN\n",
       "3    NaN\n",
       "4    NaN\n",
       "dtype: float64"
      ]
     },
     "execution_count": 6,
     "metadata": {},
     "output_type": "execute_result"
    }
   ],
   "source": [
    "s = pd.Series(range(5))\n",
    "s.mask(s > 0)\n"
   ]
  },
  {
   "cell_type": "code",
   "execution_count": 9,
   "id": "73f59c73-e8ce-4cb0-af2a-c3562e9bcbcd",
   "metadata": {},
   "outputs": [
    {
     "name": "stdout",
     "output_type": "stream",
     "text": [
      "   A  B\n",
      "0  0  1\n",
      "1  2  3\n",
      "2  4  5\n",
      "3  6  7\n",
      "4  8  9\n",
      "   A  B\n",
      "0  0 -1\n",
      "1 -2  3\n",
      "2 -4 -5\n",
      "3  6 -7\n",
      "4 -8  9\n",
      "   A  B\n",
      "0  0  1\n",
      "1  2 -3\n",
      "2  4  5\n",
      "3 -6  7\n",
      "4  8 -9\n"
     ]
    }
   ],
   "source": [
    "dFrame1 = pd.DataFrame(np.arange(10).reshape(-1, 2), columns=['A', 'B'])\n",
    "print(dFrame1)\n",
    "print(dFrame1.where(dFrame1 % 3 == 0, -dFrame1))\n",
    "print(dFrame1.mask(dFrame1 % 3 == 0, -dFrame1))"
   ]
  },
  {
   "cell_type": "code",
   "execution_count": 13,
   "id": "be9eb721-b798-44ab-87d9-b9b99608ad25",
   "metadata": {
    "scrolled": true
   },
   "outputs": [
    {
     "name": "stdout",
     "output_type": "stream",
     "text": [
      "               Riya  Ramit\n",
      "Subject Test              \n",
      "Math    Test1    90     86\n",
      "        Test2    88     89\n",
      "Science Test1    92     94\n",
      "        Test2    85     90\n",
      "Row index levels: 2\n",
      "Row index names: ['Subject', 'Test']\n",
      "       Riya  Ramit\n",
      "Test              \n",
      "Test1    90     86\n",
      "Test2    88     89\n",
      "         Riya  Ramit\n",
      "Subject             \n",
      "Math       90     86\n",
      "Science    92     94\n"
     ]
    }
   ],
   "source": [
    "index = pd.MultiIndex.from_tuples([\n",
    "    ('Math', 'Test1'),\n",
    "    ('Math', 'Test2'),\n",
    "    ('Science', 'Test1'),\n",
    "    ('Science', 'Test2')\n",
    "], names=['Subject', 'Test'])\n",
    "dFrame2 = pd.DataFrame({\n",
    "    'Riya': [90, 88, 92, 85],\n",
    "    'Ramit': [86, 89, 94, 90]\n",
    "}, index=index)\n",
    "\n",
    "print(dFrame2)\n",
    "print(\"Row index levels:\", dFrame2.index.nlevels)\n",
    "print(\"Row index names:\", dFrame2.index.names)\n",
    "print(dFrame2.loc['Math'])\n",
    "\n",
    "print(dFrame2.xs('Test1', level='Test'))\n",
    "\n"
   ]
  },
  {
   "cell_type": "code",
   "execution_count": null,
   "id": "1f86f6a6-935a-46f2-86f2-9b0bd55cd261",
   "metadata": {},
   "outputs": [],
   "source": []
  }
 ],
 "metadata": {
  "kernelspec": {
   "display_name": "Python 3 (ipykernel)",
   "language": "python",
   "name": "python3"
  },
  "language_info": {
   "codemirror_mode": {
    "name": "ipython",
    "version": 3
   },
   "file_extension": ".py",
   "mimetype": "text/x-python",
   "name": "python",
   "nbconvert_exporter": "python",
   "pygments_lexer": "ipython3",
   "version": "3.12.8"
  }
 },
 "nbformat": 4,
 "nbformat_minor": 5
}
