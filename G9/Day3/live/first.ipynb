{
 "cells": [
  {
   "cell_type": "code",
   "execution_count": 3,
   "id": "f94273ee-8433-4cf9-839e-555da2cc9541",
   "metadata": {},
   "outputs": [
    {
     "name": "stdout",
     "output_type": "stream",
     "text": [
      "[15 13 11  9  7  5]\n",
      "[ 5  9 13]\n"
     ]
    }
   ],
   "source": [
    "import numpy as np\n",
    "\n",
    "a = np.arange(15, 4, -2) \n",
    "print(a)\n",
    "print(a[6:0:-2])\n",
    "\n"
   ]
  },
  {
   "cell_type": "code",
   "execution_count": 4,
   "id": "61cdfd75-4059-420f-8565-ea599e47677f",
   "metadata": {},
   "outputs": [
    {
     "name": "stdout",
     "output_type": "stream",
     "text": [
      "[1, 2, 3, 4, 5, 6, 7, 8]\n"
     ]
    }
   ],
   "source": [
    "l1 = [1,2,3,4]\n",
    "l2 = [5,6,7,8]\n",
    "print(l1 + l2)"
   ]
  },
  {
   "cell_type": "code",
   "execution_count": 7,
   "id": "c28514d7-eed6-4a5e-8ea3-132d6aaa2b08",
   "metadata": {},
   "outputs": [
    {
     "name": "stdout",
     "output_type": "stream",
     "text": [
      "[ 6  8 10 12]\n",
      "[-4 -4 -4 -4]\n",
      "[0.2        0.33333333 0.42857143 0.5       ]\n",
      "[ 5 12 21 32]\n",
      "[1 2 3 4]\n",
      "[    1    64  2187 65536]\n"
     ]
    }
   ],
   "source": [
    "l1 = np.array([1,2,3,4]) \n",
    "l2 =np.array([5,6,7,8])\n",
    "print(l1 + l2)\n",
    "print(l1 - l2)\n",
    "print(l1 / l2)\n",
    "print(l1 * l2)\n",
    "print(l1 % l2)\n",
    "print(l1 ** l2)"
   ]
  },
  {
   "cell_type": "code",
   "execution_count": 8,
   "id": "1fd2151c-4947-433b-86d5-03e2621a75bc",
   "metadata": {},
   "outputs": [
    {
     "name": "stdout",
     "output_type": "stream",
     "text": [
      "[[ 6  8 10 12]\n",
      " [14 14 14 14]]\n"
     ]
    }
   ],
   "source": [
    "l1 = np.array([[1,2,3,4], [9,8,7,6]]) \n",
    "l2 =np.array([5,6,7,8])\n",
    "print(l1 + l2)"
   ]
  },
  {
   "cell_type": "code",
   "execution_count": 9,
   "id": "9002108f-cabe-4261-9946-35a20612fdd3",
   "metadata": {},
   "outputs": [
    {
     "name": "stdout",
     "output_type": "stream",
     "text": [
      "[[11 12 13]\n",
      " [24 25 26]]\n"
     ]
    }
   ],
   "source": [
    "a = np.array([[1, 2, 3], [4, 5, 6]])\n",
    "b = np.array([[10], [20]])\n",
    "result = a + b\n",
    "print(result)\n"
   ]
  },
  {
   "cell_type": "code",
   "execution_count": 11,
   "id": "714a2704-300d-4bc7-9199-48374837a5e6",
   "metadata": {},
   "outputs": [
    {
     "name": "stdout",
     "output_type": "stream",
     "text": [
      "[[False False]\n",
      " [False False]]\n",
      "\n",
      "[[ True  True]\n",
      " [ True  True]]\n",
      "\n",
      "[[False False]\n",
      " [False False]]\n",
      "\n",
      "[[ True  True]\n",
      " [ True  True]]\n",
      "\n",
      "[[False False]\n",
      " [False False]]\n",
      "\n",
      "[[ True  True]\n",
      " [ True  True]]\n",
      "\n"
     ]
    }
   ],
   "source": [
    "ar_2 = np.array([[4, 3],[2, 1]])\n",
    "ar_3 = np.array([[5, 4], [3, 2]])\n",
    "print(ar_2 == ar_3, end = '\\n\\n')\n",
    "print(ar_2 != ar_3, end = '\\n\\n')\n",
    "print(ar_2 >= ar_3, end = '\\n\\n')\n",
    "print(ar_2 <= ar_3, end = '\\n\\n')\n",
    "print(ar_2 > ar_3, end = '\\n\\n')\n",
    "print(ar_2 < ar_3, end = '\\n\\n')\n",
    "\n"
   ]
  },
  {
   "cell_type": "code",
   "execution_count": 14,
   "id": "bdd064b3-5519-4e7e-b18e-68c8c6bef1c7",
   "metadata": {},
   "outputs": [
    {
     "name": "stdout",
     "output_type": "stream",
     "text": [
      "[1 2 3 4 5 6]\n"
     ]
    }
   ],
   "source": [
    "ar_4 = np.array([[1, 2, 3], [4, 5, 6]])\n",
    "ar_5 = np.reshape(ar_4 , -1)\n",
    "print(ar_5)\n"
   ]
  },
  {
   "cell_type": "code",
   "execution_count": 18,
   "id": "6c88cd88-6914-4923-bed0-a2dcb2c588d4",
   "metadata": {},
   "outputs": [
    {
     "name": "stdout",
     "output_type": "stream",
     "text": [
      "[ 0  1  2  3  4  5  6  7  8  9 10 11 12 13 14 15]\n",
      "[[ 0  1  2  3]\n",
      " [ 4  5  6  7]\n",
      " [ 8  9 10 11]\n",
      " [12 13 14 15]]\n"
     ]
    }
   ],
   "source": [
    "ar_6 = np.arange(0, 16)\n",
    "print(ar_6)\n",
    "ar_7 = np.reshape(ar_6, (4, 4))\n",
    "print(ar_7)\n"
   ]
  },
  {
   "cell_type": "code",
   "execution_count": 22,
   "id": "eb41d6f6-8e48-4d52-890f-3d680006eb31",
   "metadata": {},
   "outputs": [
    {
     "name": "stdout",
     "output_type": "stream",
     "text": [
      "[[1 2 3 4 5 6 1 2]\n",
      " [3 4 5 6 1 2 3 4]\n",
      " [5 6 1 2 3 4 5 6]\n",
      " [1 2 3 4 5 6 1 2]\n",
      " [3 4 5 6 1 2 3 4]\n",
      " [5 6 1 2 3 4 5 6]]\n"
     ]
    }
   ],
   "source": [
    "ar_8 = np.array([[1, 2, 3], [4, 5, 6]])\n",
    "ar_9 = np.resize(ar_8 , (6, 8))\n",
    "print(ar_9)\n"
   ]
  },
  {
   "cell_type": "code",
   "execution_count": null,
   "id": "af8665d3-d165-47af-9641-6a7f47a69eb4",
   "metadata": {},
   "outputs": [],
   "source": []
  }
 ],
 "metadata": {
  "kernelspec": {
   "display_name": "Python 3 (ipykernel)",
   "language": "python",
   "name": "python3"
  },
  "language_info": {
   "codemirror_mode": {
    "name": "ipython",
    "version": 3
   },
   "file_extension": ".py",
   "mimetype": "text/x-python",
   "name": "python",
   "nbconvert_exporter": "python",
   "pygments_lexer": "ipython3",
   "version": "3.12.8"
  }
 },
 "nbformat": 4,
 "nbformat_minor": 5
}
