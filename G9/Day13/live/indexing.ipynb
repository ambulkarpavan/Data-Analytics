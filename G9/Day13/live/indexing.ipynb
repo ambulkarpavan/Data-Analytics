{
 "cells": [
  {
   "cell_type": "code",
   "execution_count": 2,
   "id": "889beecd-650e-41d1-91b5-41bbffe3c238",
   "metadata": {},
   "outputs": [
    {
     "name": "stdout",
     "output_type": "stream",
     "text": [
      "0       4\n",
      "1    <NA>\n",
      "2       2\n",
      "dtype: Int64\n",
      "0    4\n",
      "2    2\n",
      "dtype: Int64\n"
     ]
    }
   ],
   "source": [
    "import numpy as np\n",
    "import pandas as pd\n",
    "\n",
    "s1 = pd.Series([\"agartala\", None, \"bathinda\"], dtype=\"string\")\n",
    "print(s1.str.count(\"a\"))\n",
    "print(s1.dropna().str.count(\"a\"))"
   ]
  },
  {
   "cell_type": "code",
   "execution_count": 3,
   "id": "09225fae-fed4-41bc-a9ba-562c239532f1",
   "metadata": {},
   "outputs": [
    {
     "name": "stdout",
     "output_type": "stream",
     "text": [
      "2023-10-15 08:30:00\n"
     ]
    }
   ],
   "source": [
    "\n",
    "print(pd.Timestamp(\"2023-10-15 08:30:00\"))\n"
   ]
  },
  {
   "cell_type": "code",
   "execution_count": 4,
   "id": "2ca35141-ca33-4d19-9de6-8498451674d1",
   "metadata": {},
   "outputs": [
    {
     "name": "stdout",
     "output_type": "stream",
     "text": [
      "2023-10\n"
     ]
    }
   ],
   "source": [
    "print(pd.Period(\"2023-10\", freq='M')) "
   ]
  },
  {
   "cell_type": "code",
   "execution_count": 5,
   "id": "f8ba18b6-3fad-4c1a-9e5c-8ceaa5a8f6ac",
   "metadata": {},
   "outputs": [
    {
     "name": "stdout",
     "output_type": "stream",
     "text": [
      "DatetimeIndex(['2023-01-01', '2023-01-02', '2023-01-03'], dtype='datetime64[ns]', freq='D')\n"
     ]
    }
   ],
   "source": [
    "print(pd.date_range(start=\"2023-01-01\", periods=3, freq='D'))"
   ]
  },
  {
   "cell_type": "code",
   "execution_count": 15,
   "id": "a2714de8-631f-414d-80ca-2cf92dce47d4",
   "metadata": {},
   "outputs": [
    {
     "name": "stdout",
     "output_type": "stream",
     "text": [
      "        Date  Temperature\n",
      "0 2023-10-01           22\n",
      "1 2023-10-02           24\n",
      "2 2023-10-03           19\n",
      "            Temperature  Yesterday\n",
      "Date                              \n",
      "2023-10-01           22        NaN\n",
      "2023-10-02           24       22.0\n",
      "2023-10-03           19       24.0\n",
      "            Temperature  Yesterday\n",
      "Date                              \n",
      "2023-10-01           22        NaN\n",
      "2023-10-02           24       22.0\n",
      "2023-10-03           19       24.0\n",
      "            Temperature  Yesterday\n",
      "Date                              \n",
      "2023-10-01           22        NaN\n",
      "2023-10-02           24       22.0\n",
      "Date\n",
      "2023-10-31    21.666667\n",
      "Freq: ME, Name: Temperature, dtype: float64\n",
      "            Temperature  Yesterday  Hour  DayOfWeek\n",
      "Date                                               \n",
      "2023-10-01           22        NaN     0          6\n",
      "2023-10-02           24       22.0     0          0\n",
      "2023-10-03           19       24.0     0          1\n"
     ]
    }
   ],
   "source": [
    "dates = pd.date_range(\"2023-10-01\", periods=3, freq='D')\n",
    "temps = [22, 24, 19]\n",
    "dFrame1 = pd.DataFrame({\"Date\": dates, \"Temperature\": temps})\n",
    "print(dFrame1)\n",
    "\n",
    "dFrame1 = dFrame1.set_index(\"Date\")  # Now index is a DateTimeIndex!\n",
    "dFrame1['Yesterday'] = dFrame1['Temperature'].shift(1)\n",
    "print(dFrame1)\n",
    "\n",
    "\n",
    "oct_data = dFrame1.loc[\"2023-10\"]  \n",
    "print(oct_data)\n",
    "\n",
    "\n",
    "date_range = dFrame1.loc[\"2023-10-01\":\"2023-10-02\"]\n",
    "print(date_range)\n",
    "\n",
    "monthly_avg = dFrame1.resample(\"ME\").mean()\n",
    "print(monthly_avg[\"Temperature\"])\n",
    "\n",
    "dFrame1[\"Hour\"] = dFrame1.index.hour \n",
    "dFrame1[\"DayOfWeek\"] = dFrame1.index.dayofweek\n",
    "print(dFrame1)"
   ]
  },
  {
   "cell_type": "code",
   "execution_count": 16,
   "id": "3c2e3828-e0d4-4208-bce5-43ac19b4282f",
   "metadata": {},
   "outputs": [
    {
     "name": "stdout",
     "output_type": "stream",
     "text": [
      "0   2023-10-01\n",
      "1          NaT\n",
      "2   2023-10-03\n",
      "dtype: datetime64[ns]\n"
     ]
    }
   ],
   "source": [
    "dates = pd.Series([pd.Timestamp(\"2023-10-01\"), None, pd.Timestamp(\"2023-10-03\")])\n",
    "print(dates)\n"
   ]
  },
  {
   "cell_type": "code",
   "execution_count": 17,
   "id": "3d97ff38-1ff2-4980-81b3-a01d3f987797",
   "metadata": {},
   "outputs": [
    {
     "name": "stdout",
     "output_type": "stream",
     "text": [
      "2 days 03:30:00\n"
     ]
    }
   ],
   "source": [
    "print(pd.Timedelta(\"2 days 3 hours 30 minutes\"))"
   ]
  },
  {
   "cell_type": "code",
   "execution_count": 19,
   "id": "74a44d8f-d8ce-4fe0-81bd-b8d731e89ab5",
   "metadata": {},
   "outputs": [
    {
     "name": "stdout",
     "output_type": "stream",
     "text": [
      "1 days 12:00:00\n",
      "7 days 05:00:00\n",
      "1 days 02:10:00\n"
     ]
    }
   ],
   "source": [
    "print(pd.Timedelta(days=1.5))\n",
    "print(pd.Timedelta(weeks=1, hours=5))\n",
    "print(pd.Timedelta(\"P1DT2H10M\"))"
   ]
  },
  {
   "cell_type": "code",
   "execution_count": 20,
   "id": "5a19db9d-7017-48d4-bf7a-974857115be3",
   "metadata": {},
   "outputs": [
    {
     "name": "stdout",
     "output_type": "stream",
     "text": [
      "<class 'pandas._libs.tslibs.nattype.NaTType'>\n",
      "<class 'numpy.datetime64'>\n"
     ]
    }
   ],
   "source": [
    "print(type(pd.NaT))\n",
    "print(type(np.datetime64('NaT')))\n",
    "#print(type(np.NaT)) AttributeError: module 'numpy' has no attribute 'NaT'\n"
   ]
  },
  {
   "cell_type": "code",
   "execution_count": 21,
   "id": "2aa3777f-bc06-4f2c-9d68-3a4c725399c0",
   "metadata": {},
   "outputs": [
    {
     "name": "stdout",
     "output_type": "stream",
     "text": [
      "2 days 03:30:15\n",
      "2 days, 3:30:15\n",
      "<class 'datetime.timedelta'>\n"
     ]
    }
   ],
   "source": [
    "pd_td = pd.Timedelta(\"2 days 3:30:15\")\n",
    "print(pd_td)\n",
    "\n",
    "py_td = pd_td.to_pytimedelta()\n",
    "print(py_td)\n",
    "print(type(py_td))\n"
   ]
  },
  {
   "cell_type": "code",
   "execution_count": 22,
   "id": "ea1ccc0c-33b5-46b7-8e1e-39bc84ffe293",
   "metadata": {},
   "outputs": [
    {
     "name": "stdout",
     "output_type": "stream",
     "text": [
      "1 day, 5:30:00\n",
      "1 days 05:30:00\n",
      "<class 'pandas._libs.tslibs.timedeltas.Timedelta'>\n"
     ]
    }
   ],
   "source": [
    "from datetime import timedelta\n",
    "py_td = timedelta(days=1, hours=5, minutes=30)\n",
    "print(py_td)\n",
    "pd_td = pd.Timedelta(py_td)\n",
    "print(pd_td)\n",
    "print(type(pd_td))\n"
   ]
  },
  {
   "cell_type": "code",
   "execution_count": 23,
   "id": "1bc8ee26-0a3d-4d18-a685-300d06c2c150",
   "metadata": {},
   "outputs": [
    {
     "name": "stdout",
     "output_type": "stream",
     "text": [
      "0 days 03:45:00\n",
      "13500000000000 nanoseconds\n",
      "<class 'numpy.timedelta64'>\n"
     ]
    }
   ],
   "source": [
    "pd_td = pd.Timedelta(\"3 hours 45 minutes\")\n",
    "print(pd_td)\n",
    "\n",
    "np_td = pd_td.to_timedelta64()\n",
    "print(np_td)\n",
    "print(type(np_td))\n"
   ]
  },
  {
   "cell_type": "code",
   "execution_count": 24,
   "id": "bee77b3d-6612-4732-b42d-ccc28adaa2c1",
   "metadata": {},
   "outputs": [
    {
     "name": "stdout",
     "output_type": "stream",
     "text": [
      "2 days\n",
      "2 days 00:00:00\n",
      "<class 'pandas._libs.tslibs.timedeltas.Timedelta'>\n"
     ]
    }
   ],
   "source": [
    "np_td = np.timedelta64(2, 'D')\n",
    "print(np_td)\n",
    "\n",
    "pd_td = pd.Timedelta(np_td)\n",
    "print(pd_td)\n",
    "print(type(pd_td))\n"
   ]
  },
  {
   "cell_type": "code",
   "execution_count": 26,
   "id": "d140c302-3ba9-4f93-bf40-f47650178ee4",
   "metadata": {},
   "outputs": [
    {
     "name": "stdout",
     "output_type": "stream",
     "text": [
      "2023-10-01 06:00:00\n",
      "2 days 00:00:00\n"
     ]
    }
   ],
   "source": [
    "timestamp = pd.Timestamp(\"2023-10-01\")\n",
    "print(timestamp + pd.Timedelta(hours=6))\n",
    "print(pd.Timestamp(\"2023-10-03\") - timestamp)"
   ]
  },
  {
   "cell_type": "code",
   "execution_count": 28,
   "id": "4b6a1c1b-cb36-4d03-83c5-c8d4acf76eb7",
   "metadata": {},
   "outputs": [
    {
     "name": "stdout",
     "output_type": "stream",
     "text": [
      "0 days 03:00:00\n",
      "0 days 03:30:00\n"
     ]
    }
   ],
   "source": [
    "td = pd.Timedelta(\"3 hours 29 min 45 sec\")\n",
    "print(td.round(\"h\"))\n",
    "print(td.round(\"15min\"))"
   ]
  },
  {
   "cell_type": "code",
   "execution_count": null,
   "id": "5d648564-5758-4ee8-807c-c5c9316e5c63",
   "metadata": {},
   "outputs": [],
   "source": []
  }
 ],
 "metadata": {
  "kernelspec": {
   "display_name": "Python 3 (ipykernel)",
   "language": "python",
   "name": "python3"
  },
  "language_info": {
   "codemirror_mode": {
    "name": "ipython",
    "version": 3
   },
   "file_extension": ".py",
   "mimetype": "text/x-python",
   "name": "python",
   "nbconvert_exporter": "python",
   "pygments_lexer": "ipython3",
   "version": "3.12.8"
  }
 },
 "nbformat": 4,
 "nbformat_minor": 5
}
