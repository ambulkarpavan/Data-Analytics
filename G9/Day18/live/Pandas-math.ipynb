{
 "cells": [
  {
   "cell_type": "code",
   "execution_count": 3,
   "id": "c325c254-0b4a-460f-a40c-f1ed0f9d2028",
   "metadata": {},
   "outputs": [
    {
     "name": "stdout",
     "output_type": "stream",
     "text": [
      "           angles  degrees\n",
      "circle          0      360\n",
      "triangle        3      180\n",
      "rectangle       4      360\n",
      "           angles  degrees\n",
      "circle          1      361\n",
      "triangle        4      181\n",
      "rectangle       5      361\n",
      "           angles  degrees\n",
      "circle          1      361\n",
      "triangle        4      181\n",
      "rectangle       5      361\n"
     ]
    }
   ],
   "source": [
    "import pandas as pd\n",
    "import numpy as np\n",
    "\n",
    "dFrame1 = pd.DataFrame(\n",
    "  {\n",
    "    'angles': [0, 3, 4],\n",
    "    'degrees': [360, 180, 360]\n",
    "  },\n",
    "  index=['circle', 'triangle', 'rectangle']\n",
    ")\n",
    "print(dFrame1)\n",
    "print(dFrame1 + 1)\n",
    "print(dFrame1.add(1))\n"
   ]
  },
  {
   "cell_type": "code",
   "execution_count": 11,
   "id": "d634deee-60a1-4fb4-b856-137c8ca72b4e",
   "metadata": {},
   "outputs": [
    {
     "name": "stdout",
     "output_type": "stream",
     "text": [
      "       A      B\n",
      "R1     0  360.0\n",
      "R2     3  180.0\n",
      "R3     4  360.0\n",
      "R4  <NA>   <NA>\n",
      "       A      B\n",
      "R1    10  370.0\n",
      "R2    23  200.0\n",
      "R3    34  390.0\n",
      "R4  <NA>   <NA>\n",
      "       A      B\n",
      "R1  10.0  370.0\n",
      "R2  23.0  200.0\n",
      "R3  <NA>   <NA>\n",
      "R4  <NA>   <NA>\n"
     ]
    }
   ],
   "source": [
    "dFrame2 = pd.DataFrame(\n",
    "  {\n",
    "    'A': pd.Series([0, 3, 4, np.nan], dtype = 'Int64', index=['R1', 'R2', 'R3', 'R4']),\n",
    "    'B': pd.Series([360, 180, 360, np.nan], dtype = 'Float64', index=['R1', 'R2', 'R3', 'R4'])\n",
    "  }\n",
    ")\n",
    "print(dFrame2)\n",
    "# print(dFrame2 + 1)\n",
    "# print(dFrame2.add(1, fill_value = 0))\n",
    "# print(dFrame2 + [10, 20])\n",
    "\n",
    "print(dFrame2.add(pd.Series([10, 20, 30, 40], index = [\"R1\", \"R2\", \"R3\", \"R4\"]), axis = 0))\n",
    "print(dFrame2.add(pd.Series([10, 20], index = [\"R1\", \"R2\"]), axis = 0))"
   ]
  },
  {
   "cell_type": "code",
   "execution_count": 20,
   "id": "6373a41c-63d0-4ec6-b4ee-ddb67ac9c32f",
   "metadata": {
    "scrolled": true
   },
   "outputs": [
    {
     "name": "stdout",
     "output_type": "stream",
     "text": [
      "DataFrame 1:\n",
      "       A  B\n",
      "row1  1  3\n",
      "row2  2  4 \n",
      "\n",
      "DataFrame 2:\n",
      "       B  C\n",
      "row2  5  7\n",
      "row3  6  8 \n",
      "\n",
      "Aligned dFrame3:\n",
      "         A    B   C\n",
      "row1  1.0  3.0 NaN\n",
      "row2  2.0  4.0 NaN\n",
      "row3  NaN  NaN NaN \n",
      "\n",
      "Aligned dFrame4:\n",
      "        A    B    C\n",
      "row1 NaN  NaN  NaN\n",
      "row2 NaN  5.0  7.0\n",
      "row3 NaN  6.0  8.0 \n",
      "\n",
      "Result of aligned dFrame3.add(dFrame4, fill_value=0):\n",
      "         A    B    C\n",
      "row1  1.0  3.0  NaN\n",
      "row2  2.0  9.0  7.0\n",
      "row3  NaN  6.0  8.0 \n",
      "\n"
     ]
    }
   ],
   "source": [
    "dFrame3 = pd.DataFrame(\n",
    "  {\n",
    "    'A': [1, 2],\n",
    "    'B': [3, 4]\n",
    "  }, index=['row1', 'row2']\n",
    ")\n",
    "\n",
    "dFrame4 = pd.DataFrame(\n",
    "  {\n",
    "    'B': [5, 6],\n",
    "    'C': [7, 8]\n",
    "  }, index=['row2', 'row3']\n",
    ")\n",
    "\n",
    "print(\"DataFrame 1:\\n\", dFrame3, \"\\n\")\n",
    "print(\"DataFrame 2:\\n\", dFrame4, \"\\n\")\n",
    "result_plus = dFrame3 + dFrame4\n",
    "# print(\"Result of dFrame3 + dFrame4:\\n\", result_plus, \"\\n\")\n",
    "# result_add_fill = dFrame3.add(dFrame4, fill_value=0)\n",
    "# print(\"Result of dFrame3.add(dFrame4, fill_value=0):\\n\", result_add_fill, \"\\n\")\n",
    "\n",
    "dFrame3_aligned, dFrame4_aligned = dFrame3.align(dFrame4, join='outer')\n",
    "print(\"Aligned dFrame3:\\n\", dFrame3_aligned, \"\\n\")\n",
    "print(\"Aligned dFrame4:\\n\", dFrame4_aligned, \"\\n\")\n",
    "result_aligned_add_fill = dFrame3_aligned.add(dFrame4_aligned, fill_value=0)\n",
    "print(\"Result of aligned dFrame3.add(dFrame4, fill_value=0):\\n\", result_aligned_add_fill, \"\\n\")\n"
   ]
  },
  {
   "cell_type": "code",
   "execution_count": 21,
   "id": "1c12b463-8a14-483a-850f-2f7601383ed0",
   "metadata": {},
   "outputs": [
    {
     "name": "stdout",
     "output_type": "stream",
     "text": [
      "2.0\n"
     ]
    }
   ],
   "source": [
    "\n",
    "ser_1 = pd.Series([1, 2, 3])\n",
    "print(ser_1.mean())\n"
   ]
  },
  {
   "cell_type": "code",
   "execution_count": 23,
   "id": "ea8be303-43bc-4086-b76b-fee497542709",
   "metadata": {},
   "outputs": [
    {
     "name": "stdout",
     "output_type": "stream",
     "text": [
      "       a  b\n",
      "tiger  1  2\n",
      "zebra  2  3\n"
     ]
    },
    {
     "data": {
      "text/plain": [
       "tiger    1.5\n",
       "zebra    2.5\n",
       "dtype: float64"
      ]
     },
     "execution_count": 23,
     "metadata": {},
     "output_type": "execute_result"
    }
   ],
   "source": [
    "dFrame1 = pd.DataFrame(\n",
    "  {\n",
    "    'a': [1, 2],\n",
    "    'b': [2, 3]\n",
    "  },\n",
    "  index=['tiger', 'zebra']\n",
    ")\n",
    "print(dFrame1)\n",
    "dFrame1.mean()\n",
    "dFrame1.mean(axis=1)"
   ]
  },
  {
   "cell_type": "code",
   "execution_count": 24,
   "id": "d8098227-55de-403c-a5a2-4bb6939e77f2",
   "metadata": {},
   "outputs": [
    {
     "name": "stdout",
     "output_type": "stream",
     "text": [
      "2.0\n"
     ]
    }
   ],
   "source": [
    "ser_2 = pd.Series([1, np.nan, 3])\n",
    "print(ser_2.mean())\n"
   ]
  },
  {
   "cell_type": "code",
   "execution_count": 27,
   "id": "d38eabda-0e4a-46b3-8769-2a807144d996",
   "metadata": {},
   "outputs": [
    {
     "name": "stdout",
     "output_type": "stream",
     "text": [
      "       a  b\n",
      "tiger  1  T\n",
      "zebra  2  Z\n"
     ]
    },
    {
     "data": {
      "text/plain": [
       "a    1.5\n",
       "dtype: float64"
      ]
     },
     "execution_count": 27,
     "metadata": {},
     "output_type": "execute_result"
    }
   ],
   "source": [
    "dFrame2 = pd.DataFrame(\n",
    "  {\n",
    "    'a': [1, 2],\n",
    "    'b': ['T', 'Z']\n",
    "  },\n",
    "  index=['tiger', 'zebra']\n",
    ")\n",
    "print(dFrame2)\n",
    "dFrame2.mean(numeric_only=True)\n"
   ]
  },
  {
   "cell_type": "code",
   "execution_count": 28,
   "id": "495346b9-88ce-40a3-b038-4086ac12f9ca",
   "metadata": {},
   "outputs": [
    {
     "name": "stdout",
     "output_type": "stream",
     "text": [
      "2.0\n"
     ]
    }
   ],
   "source": [
    "ser_1 = pd.Series([1, 2, 3])\n",
    "print(ser_1.median())\n"
   ]
  },
  {
   "cell_type": "code",
   "execution_count": 30,
   "id": "99006a7b-3080-4f8c-acae-356b9913e06c",
   "metadata": {},
   "outputs": [
    {
     "name": "stdout",
     "output_type": "stream",
     "text": [
      "       a  b\n",
      "tiger  1  2\n",
      "zebra  2  3\n"
     ]
    },
    {
     "data": {
      "text/plain": [
       "a    1.5\n",
       "b    2.5\n",
       "dtype: float64"
      ]
     },
     "execution_count": 30,
     "metadata": {},
     "output_type": "execute_result"
    }
   ],
   "source": [
    "dFrame1 = pd.DataFrame(\n",
    "  {\n",
    "    'a': [1, 2],\n",
    "    'b': [2, 3]\n",
    "  },\n",
    "  index=['tiger', 'zebra']\n",
    ")\n",
    "print(dFrame1)\n",
    "\n",
    "dFrame1.median()"
   ]
  },
  {
   "cell_type": "code",
   "execution_count": null,
   "id": "a8ab5f98-e764-4954-945a-160a9ab27c1e",
   "metadata": {},
   "outputs": [],
   "source": []
  }
 ],
 "metadata": {
  "kernelspec": {
   "display_name": "Python 3 (ipykernel)",
   "language": "python",
   "name": "python3"
  },
  "language_info": {
   "codemirror_mode": {
    "name": "ipython",
    "version": 3
   },
   "file_extension": ".py",
   "mimetype": "text/x-python",
   "name": "python",
   "nbconvert_exporter": "python",
   "pygments_lexer": "ipython3",
   "version": "3.12.8"
  }
 },
 "nbformat": 4,
 "nbformat_minor": 5
}
