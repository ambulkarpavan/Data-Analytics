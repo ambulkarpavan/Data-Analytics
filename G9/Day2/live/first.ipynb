{
 "cells": [
  {
   "cell_type": "code",
   "execution_count": 1,
   "id": "9dbabdfd-97e7-4b5f-8f85-4fcaadec87c9",
   "metadata": {},
   "outputs": [
    {
     "name": "stdout",
     "output_type": "stream",
     "text": [
      "2.0.2\n",
      "2.2.3\n"
     ]
    }
   ],
   "source": [
    "import numpy as np\n",
    "import pandas as pd\n",
    "print(np.__version__)\n",
    "print(pd.__version__)"
   ]
  },
  {
   "cell_type": "code",
   "execution_count": 7,
   "id": "1d3c5b87-e267-46ec-8cd5-6d76304dc050",
   "metadata": {},
   "outputs": [
    {
     "name": "stdout",
     "output_type": "stream",
     "text": [
      "['10' '20' '30' 'a'] [10. 20. 30.]\n",
      "[1, 2, 3]\n"
     ]
    }
   ],
   "source": [
    "ar_1 = np.array([10,20,30, 'a'])\n",
    "ar_2 = np.array([10,20,30] , dtype = float)\n",
    "l = [1,2,3]\n",
    "print(ar_1, ar_2)\n",
    "print(l)"
   ]
  },
  {
   "cell_type": "code",
   "execution_count": 13,
   "id": "9cbea937-6b77-41e5-8a0f-0be412c7264b",
   "metadata": {},
   "outputs": [
    {
     "name": "stdout",
     "output_type": "stream",
     "text": [
      "[0. 0. 0.]\n",
      "[[0. 0. 0.]\n",
      " [0. 0. 0.]\n",
      " [0. 0. 0.]]\n"
     ]
    }
   ],
   "source": [
    "ar_3 = np.zeros(3)\n",
    "ar_4 = np.zeros((3,3))\n",
    "print(ar_3)\n",
    "print(ar_4)"
   ]
  },
  {
   "cell_type": "code",
   "execution_count": 11,
   "id": "e974dbed-e643-4087-8a23-88be05b2a7bd",
   "metadata": {},
   "outputs": [],
   "source": [
    "arr= [[[1,2],[3,4],[5,6]], [[1,2],[3,4],[5,6]]]"
   ]
  },
  {
   "cell_type": "code",
   "execution_count": 14,
   "id": "90fe3391-0ccd-4ffd-95c8-9af41b1f6293",
   "metadata": {},
   "outputs": [
    {
     "name": "stdout",
     "output_type": "stream",
     "text": [
      "[1. 1. 1.]\n",
      "[[1. 1. 1.]\n",
      " [1. 1. 1.]\n",
      " [1. 1. 1.]]\n"
     ]
    }
   ],
   "source": [
    "ar_5 = np.ones(3)\n",
    "ar_6 = np.ones((3,3))\n",
    "print(ar_5)\n",
    "print(ar_6)"
   ]
  },
  {
   "cell_type": "code",
   "execution_count": 19,
   "id": "0d3f12b8-dbbd-482f-9307-f34c4a7458a9",
   "metadata": {},
   "outputs": [
    {
     "name": "stdout",
     "output_type": "stream",
     "text": [
      "[0 1 2 3 4] 1\n",
      "[1 3 5 7 9]\n"
     ]
    }
   ],
   "source": [
    "arr = np.arange(1,10,2)\n",
    "arr1 = np.arange(5)\n",
    "print(arr1, arr1.ndim)\n",
    "print(arr)"
   ]
  },
  {
   "cell_type": "code",
   "execution_count": 28,
   "id": "e5956907-d79c-4c82-81ac-b52d577f77b5",
   "metadata": {},
   "outputs": [
    {
     "name": "stdout",
     "output_type": "stream",
     "text": [
      "[[1. 1. 1.]\n",
      " [1. 1. 1.]] 2 (2, 3) 6 float64 8\n"
     ]
    }
   ],
   "source": [
    "arr = np.ones((2,3))\n",
    "print(arr, arr.ndim, arr.shape, arr.size, arr.dtype, arr.itemsize)"
   ]
  },
  {
   "cell_type": "code",
   "execution_count": 26,
   "id": "1bdece34-547e-421f-9f70-201050659b34",
   "metadata": {},
   "outputs": [
    {
     "name": "stdout",
     "output_type": "stream",
     "text": [
      "(4,) <U21\n"
     ]
    }
   ],
   "source": [
    "ar_1 = np.array([10,20,30, 'a'])\n",
    "print(ar_1.shape, ar_1.dtype)"
   ]
  },
  {
   "cell_type": "code",
   "execution_count": 33,
   "id": "13583d82-f8cf-4919-9818-8f038fc12391",
   "metadata": {},
   "outputs": [
    {
     "name": "stdout",
     "output_type": "stream",
     "text": [
      "[10 12 14 16 18 20 22 24]\n",
      "24\n",
      "[12 16 20 24]\n"
     ]
    }
   ],
   "source": [
    "ar_11 = np.arange(10, 25, 2)\n",
    "print(ar_11)\n",
    "print(ar_11[-1])\n",
    "print(ar_11[1 : ar_11.size : 2])\n",
    "print(ar_l1[ar_11.size - 1 : 0 : -2])"
   ]
  },
  {
   "cell_type": "code",
   "execution_count": 38,
   "id": "a2b09abe-521e-400a-9fd1-c6fc14f8fd4f",
   "metadata": {},
   "outputs": [
    {
     "name": "stdout",
     "output_type": "stream",
     "text": [
      "[[21 19 17 15 13 11]\n",
      " [10  8  6  4  2  0]\n",
      " [ 0  0  0  0  0  0]]\n",
      "[21 17 13]\n"
     ]
    }
   ],
   "source": [
    "ar_12 = np.array([np.arange(21, 10, -2), np.arange(10, -1, -2), np.zeros(6, dtype = np.int64)])\n",
    "print(ar_12)\n",
    "print(ar_12[0, 0:6:2])\n"
   ]
  },
  {
   "cell_type": "code",
   "execution_count": null,
   "id": "ff41771c-975b-41e7-b9e5-b792d2d8764c",
   "metadata": {},
   "outputs": [],
   "source": []
  }
 ],
 "metadata": {
  "kernelspec": {
   "display_name": "Python 3 (ipykernel)",
   "language": "python",
   "name": "python3"
  },
  "language_info": {
   "codemirror_mode": {
    "name": "ipython",
    "version": 3
   },
   "file_extension": ".py",
   "mimetype": "text/x-python",
   "name": "python",
   "nbconvert_exporter": "python",
   "pygments_lexer": "ipython3",
   "version": "3.12.8"
  }
 },
 "nbformat": 4,
 "nbformat_minor": 5
}
