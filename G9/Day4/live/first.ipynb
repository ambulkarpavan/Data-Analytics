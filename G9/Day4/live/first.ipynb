{
 "cells": [
  {
   "cell_type": "code",
   "execution_count": 6,
   "id": "e8656ab7-ddd3-4d5d-b6af-fee4bf1722a8",
   "metadata": {},
   "outputs": [
    {
     "name": "stdout",
     "output_type": "stream",
     "text": [
      "[1 2 3 4 5 6]\n",
      "\n"
     ]
    }
   ],
   "source": [
    "import numpy as np\n",
    "ar_1 = np.array([[1, 2], [3, 4]])  #No of Rows: 2 No of Col.: 2\n",
    "ar_2 = np.array([[5, 6]])  #No of Rows: 1 No of Col.: 2\n",
    "ar_3 = np.concatenate((ar_1, ar_2.T), axis=None)\n",
    "print(ar_3, end = '\\n\\n')\n"
   ]
  },
  {
   "cell_type": "code",
   "execution_count": 7,
   "id": "deb78b6e-bb09-45d4-98d4-af510a0408ac",
   "metadata": {},
   "outputs": [
    {
     "name": "stdout",
     "output_type": "stream",
     "text": [
      "[1 2 3 4 5 6]\n"
     ]
    }
   ],
   "source": [
    "ar_6 = np.array([1,2,3])  #No of Rows: 1 No of Col.: 3\n",
    "ar_7 = np.array([4,5,6])  #No of Rows: 1 No of Col.: 3\n",
    "ar_8 = np.hstack((ar_6, ar_7))\n",
    "print(ar_8) \n"
   ]
  },
  {
   "cell_type": "code",
   "execution_count": 8,
   "id": "c7da43db-6836-42ba-a20a-0b840367d7ed",
   "metadata": {},
   "outputs": [
    {
     "name": "stdout",
     "output_type": "stream",
     "text": [
      "[[1 2 5 6]\n",
      " [3 4 7 8]]\n"
     ]
    }
   ],
   "source": [
    "a = np.array([[1, 2],[3, 4]])  #No of Rows: 2 No of Col.: 2\n",
    "b = np.array([[5, 6],[7, 8]])  #No of Rows: 2 No of Col.: 2   \n",
    "c = np.hstack((a, b))\n",
    "print(c) \n"
   ]
  },
  {
   "cell_type": "code",
   "execution_count": 9,
   "id": "8e17dfcb-cc79-4b74-8559-366cba47a18c",
   "metadata": {},
   "outputs": [
    {
     "name": "stdout",
     "output_type": "stream",
     "text": [
      "[[1 4]\n",
      " [2 5]\n",
      " [3 6]]\n"
     ]
    }
   ],
   "source": [
    "ar_9 = np.array([[1],[2],[3]])  #No of Rows: 3 No of Col.: 1\n",
    "ar_10 = np.array([[4],[5],[6]])  #No of Rows: 3 No of Col.: 1\n",
    "ar_11 = np.hstack((ar_9, ar_10))\n",
    "print(ar_11) \n"
   ]
  },
  {
   "cell_type": "code",
   "execution_count": 10,
   "id": "16ae03c6-4a5b-4043-a161-6846326361ad",
   "metadata": {},
   "outputs": [
    {
     "name": "stdout",
     "output_type": "stream",
     "text": [
      "[[1 2 3]\n",
      " [4 5 6]]\n"
     ]
    }
   ],
   "source": [
    "ar_12 = np.array([1, 2, 3])  #No of Rows: 1 No of Col.: 3\n",
    "ar_13 = np.array([4, 5, 6])  #No of Rows: 1 No of Col.: 3\n",
    "ar_14 = np.vstack((ar_12, ar_13))\n",
    "print(ar_14)\n"
   ]
  },
  {
   "cell_type": "code",
   "execution_count": 11,
   "id": "948582a8-6e95-4d83-b678-158c1d2c8086",
   "metadata": {},
   "outputs": [
    {
     "name": "stdout",
     "output_type": "stream",
     "text": [
      "[[1]\n",
      " [2]\n",
      " [3]\n",
      " [4]\n",
      " [5]\n",
      " [6]]\n"
     ]
    }
   ],
   "source": [
    "ar_15 = np.array([[1],[2],[3]])  #No of Rows: 3 No of Col.: 1\n",
    "ar_16 = np.array([[4],[5],[6]])  #No of Rows: 3 No of Col.: 1\n",
    "ar_17 = np.vstack((ar_15, ar_16))\n",
    "print(ar_17)\n"
   ]
  },
  {
   "cell_type": "code",
   "execution_count": 13,
   "id": "93463d0e-4159-48e6-98df-32e4367445cb",
   "metadata": {},
   "outputs": [
    {
     "name": "stdout",
     "output_type": "stream",
     "text": [
      "[[1 2 3]\n",
      " [4 5 6]]\n",
      "\n",
      "[[1 4]\n",
      " [2 5]\n",
      " [3 6]]\n",
      "\n"
     ]
    }
   ],
   "source": [
    "ar_18 = np.array([1, 2, 3])   #No of Rows: 1 No of Col.: 3\n",
    "ar_19 = np.array([4, 5, 6])   #No of Rows: 1 No of Col.: 3\n",
    "ar_20  = np.stack((ar_18, ar_19)) #The default value for the axis is 0.\n",
    "print(ar_20, end = '\\n\\n')\n",
    "ar_21 = np.stack((ar_18, ar_19), axis = 1)\n",
    "print(ar_21, end = '\\n\\n')\n",
    "\n"
   ]
  },
  {
   "cell_type": "code",
   "execution_count": 14,
   "id": "f018d627-c5fa-437b-8558-fa66184f7696",
   "metadata": {},
   "outputs": [
    {
     "name": "stdout",
     "output_type": "stream",
     "text": [
      "[[[ 1  2  3]\n",
      "  [ 4  5  6]]\n",
      "\n",
      " [[ 7  8  9]\n",
      "  [10 11 12]]]\n",
      "\n",
      "[[[ 1  2  3]\n",
      "  [ 7  8  9]]\n",
      "\n",
      " [[ 4  5  6]\n",
      "  [10 11 12]]]\n",
      "\n"
     ]
    }
   ],
   "source": [
    "\n",
    "ar_22 = np.array([[1,2,3], [4,5,6]])   #No of Rows: 2 No of Col.: 3\n",
    "ar_23 = np.array([[7,8,9], [10,11,12]])   #No of Rows: 2 No of Col.: 3\n",
    "\n",
    "ar_24 = np.stack((ar_22,ar_23), axis = 0)   #No of depth: 2 No of Rows: 2 No of Col.: 3\n",
    "ar_25 = np.stack((ar_22,ar_23), axis = 1)   #No of depth: 2 No of Rows: 2 No of Col.: 3\n",
    "\n",
    "print(ar_24, end = '\\n\\n')\n",
    "print(ar_25, end = '\\n\\n')\n"
   ]
  },
  {
   "cell_type": "code",
   "execution_count": 18,
   "id": "207ec622-f337-405f-a84f-cbaa7c086a47",
   "metadata": {},
   "outputs": [
    {
     "name": "stdout",
     "output_type": "stream",
     "text": [
      "[[ 0.  1.  2.  3.  4.  5.]\n",
      " [ 6.  7.  8.  9. 10. 11.]\n",
      " [12. 13. 14. 15. 16. 17.]\n",
      " [18. 19. 20. 21. 22. 23.]]\n",
      "[array([[ 0.,  1.,  2.,  3.,  4.,  5.],\n",
      "       [ 6.,  7.,  8.,  9., 10., 11.]]), array([[12., 13., 14., 15., 16., 17.],\n",
      "       [18., 19., 20., 21., 22., 23.]])]\n"
     ]
    }
   ],
   "source": [
    "\n",
    "ar_1 = np.arange(24.0).reshape(4, 6)\n",
    "print(ar_1)\n",
    "print(np.vsplit(ar_1, 2))\n"
   ]
  },
  {
   "cell_type": "code",
   "execution_count": null,
   "id": "7724960e-dba9-444c-8268-36c7d0ae0a78",
   "metadata": {},
   "outputs": [],
   "source": []
  }
 ],
 "metadata": {
  "kernelspec": {
   "display_name": "Python 3 (ipykernel)",
   "language": "python",
   "name": "python3"
  },
  "language_info": {
   "codemirror_mode": {
    "name": "ipython",
    "version": 3
   },
   "file_extension": ".py",
   "mimetype": "text/x-python",
   "name": "python",
   "nbconvert_exporter": "python",
   "pygments_lexer": "ipython3",
   "version": "3.12.8"
  }
 },
 "nbformat": 4,
 "nbformat_minor": 5
}
