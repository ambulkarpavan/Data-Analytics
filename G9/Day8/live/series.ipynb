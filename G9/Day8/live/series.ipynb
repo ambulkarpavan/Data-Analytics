{
 "cells": [
  {
   "cell_type": "code",
   "execution_count": 2,
   "id": "b24560af-98b3-4cb2-9e98-79f05594699f",
   "metadata": {},
   "outputs": [
    {
     "name": "stdout",
     "output_type": "stream",
     "text": [
      "0    10\n",
      "1    20\n",
      "2    30\n",
      "dtype: int64\n",
      "3     Kavi\n",
      "5    Shyam\n",
      "1     Ravi\n",
      "dtype: object\n"
     ]
    }
   ],
   "source": [
    "import pandas as pd\n",
    "import numpy as np\n",
    "series1 = pd.Series([10,20,30])\n",
    "print(series1)\n",
    "series3 = pd.Series([\"Kavi\", \"Shyam\", \"Ravi\"], index=[3, 5,1])\n",
    "print(series3)\n"
   ]
  },
  {
   "cell_type": "code",
   "execution_count": 3,
   "id": "3b3c4063-4233-4815-b361-13ac942f2a79",
   "metadata": {},
   "outputs": [
    {
     "name": "stdout",
     "output_type": "stream",
     "text": [
      "India    NewDelhi\n",
      "UK         London\n",
      "Japan       Tokyo\n",
      "dtype: object\n"
     ]
    }
   ],
   "source": [
    "dict1 = {'India': 'NewDelhi', 'UK': 'London', 'Japan': 'Tokyo'}\n",
    "series5 = pd.Series(dict1)\n",
    "print(series5)\n"
   ]
  },
  {
   "cell_type": "code",
   "execution_count": 13,
   "id": "ee075b62-91b6-4e55-a323-76a5c66bbc1e",
   "metadata": {},
   "outputs": [
    {
     "name": "stdout",
     "output_type": "stream",
     "text": [
      "NewDelhi\n",
      "NewDelhi\n",
      "USA       WashingtonDC\n",
      "UK              London\n",
      "France           Paris\n",
      "dtype: object\n",
      "UK           London\n",
      "USA    WashingtonDC\n",
      "dtype: object\n",
      "10        NewDelhi\n",
      "20    WashingtonDC\n",
      "30          London\n",
      "40           Paris\n",
      "dtype: object\n",
      "USA    WashingtonDC\n",
      "UK           London\n",
      "dtype: object\n",
      "India     NewDelhi\n",
      "USA            abc\n",
      "UK             abc\n",
      "France         abc\n",
      "dtype: object\n"
     ]
    }
   ],
   "source": [
    "country_cap_series = pd.Series(['NewDelhi', 'WashingtonDC', 'London', 'Paris'], index=['India', 'USA', 'UK', 'France'])\n",
    "print(country_cap_series['India'])\n",
    "#print(country_cap_series[‘Uganda’])\n",
    "print(country_cap_series.iloc[0])\n",
    "print(country_cap_series['USA':'France'])\n",
    "print(country_cap_series[['UK','USA']])\n",
    "country_cap_series.index = [10, 20, 30, 40]\n",
    "print(country_cap_series)\n",
    "country_cap_series.index = ['India', 'USA', 'UK', 'France']\n",
    "print(country_cap_series[1: 3])\n",
    "country_cap_series['USA' : 'France'] = 'abc'\n",
    "print(country_cap_series)\n"
   ]
  },
  {
   "cell_type": "code",
   "execution_count": 18,
   "id": "3a24b798-cc6b-44e0-a1a1-3b94e132fb89",
   "metadata": {},
   "outputs": [
    {
     "name": "stdout",
     "output_type": "stream",
     "text": [
      "0    100\n",
      "1    200\n",
      "2    300\n",
      "Name: Salary, dtype: int64\n",
      "EmpID\n",
      "0    100\n",
      "1    200\n",
      "2    300\n",
      "Name: Salary, dtype: int64\n",
      "False\n"
     ]
    }
   ],
   "source": [
    "\n",
    "s = pd.Series([100, 200, 300])\n",
    "s.name = \"Salary\"\n",
    "print(s)\n",
    "s.index.name = \"EmpID\"\n",
    "print(s)\n",
    "\n",
    "empty_series = pd.Series([])\n",
    "print(s.empty)\n"
   ]
  },
  {
   "cell_type": "code",
   "execution_count": 21,
   "id": "34062675-b734-4539-ab50-aa46207cef7a",
   "metadata": {},
   "outputs": [
    {
     "name": "stdout",
     "output_type": "stream",
     "text": [
      "First 2 elements of s1 (head(2)):\n",
      " A    10.0\n",
      "B    20.0\n",
      "dtype: float64\n",
      "\n",
      "Last 3 elements of s2 (tail(3)):\n",
      " D    3\n",
      "E    4\n",
      "F    5\n",
      "dtype: int64\n",
      "3\n"
     ]
    }
   ],
   "source": [
    "s1 = pd.Series([10, 20, np.nan, 40], index=['A', 'B', 'C', 'D'])\n",
    "s2 = pd.Series([1, 2, 3, 4, 5], index=['B', 'C', 'D', 'E', 'F'])\n",
    "\n",
    "print(\"First 2 elements of s1 (head(2)):\\n\", s1.head(2))\n",
    "print(\"\\nLast 3 elements of s2 (tail(3)):\\n\", s2.tail(3))\n",
    "print(s1.count()) \n"
   ]
  },
  {
   "cell_type": "code",
   "execution_count": 24,
   "id": "14a5bfa7-1ca2-47b8-ac99-9884a45ac4f4",
   "metadata": {},
   "outputs": [
    {
     "name": "stdout",
     "output_type": "stream",
     "text": [
      "s1 + s2 (default NaN handling):\n",
      " A     NaN\n",
      "B    21.0\n",
      "C     NaN\n",
      "D    43.0\n",
      "E     NaN\n",
      "F     NaN\n",
      "dtype: float64\n",
      "\n",
      "\n",
      "s1 + s2 (with fill_value=0):\n",
      " A    12.0\n",
      "B    21.0\n",
      "C     4.0\n",
      "D    43.0\n",
      "E     6.0\n",
      "F     7.0\n",
      "dtype: float64\n"
     ]
    }
   ],
   "source": [
    "s1 = pd.Series([10, 20, np.nan, 40], index=['A', 'B', 'C', 'D'])\n",
    "s2 = pd.Series([1, 2, 3, 4, 5], index=['B', 'C', 'D', 'E', 'F'])\n",
    "\n",
    "add_default = s1 + s2\n",
    "print(\"s1 + s2 (default NaN handling):\\n\", add_default)\n",
    "print()\n",
    "add_filled = s1.add(s2, fill_value=2)\n",
    "print(\"\\ns1 + s2 (with fill_value=0):\\n\", add_filled)\n",
    "\n"
   ]
  },
  {
   "cell_type": "code",
   "execution_count": 25,
   "id": "de66fcda-8f26-4ab4-8200-2ff7c7013ae3",
   "metadata": {},
   "outputs": [
    {
     "name": "stdout",
     "output_type": "stream",
     "text": [
      "[10. nan 20. 30. 40.]\n",
      "float64\n"
     ]
    }
   ],
   "source": [
    "\n",
    "ar_1 = np.array([10, np.nan, 20, 30, 40])\n",
    "print(ar_1)\n",
    "print(ar_1.dtype)\n"
   ]
  },
  {
   "cell_type": "code",
   "execution_count": 26,
   "id": "e10183e6-98be-47e9-bd58-e91c22e96f89",
   "metadata": {},
   "outputs": [
    {
     "name": "stdout",
     "output_type": "stream",
     "text": [
      "['Google' 'nan' 'Meta' 'Amazon' 'Apple']\n",
      "<U32\n"
     ]
    }
   ],
   "source": [
    "ar_2 = np.array(['Google', np.nan, 'Meta', 'Amazon', 'Apple'])\n",
    "print(ar_2)\n",
    "print(ar_2.dtype)\n"
   ]
  },
  {
   "cell_type": "code",
   "execution_count": 27,
   "id": "33079cc1-eb69-4660-8cc5-4c533dae277e",
   "metadata": {},
   "outputs": [
    {
     "name": "stdout",
     "output_type": "stream",
     "text": [
      "[nan {'name': 'Google'} 123]\n",
      "object\n"
     ]
    }
   ],
   "source": [
    "ar_3 = np.array([np.nan, {'name': 'Google'}, 123])\n",
    "print(ar_3)\n",
    "print(ar_3.dtype)\n"
   ]
  },
  {
   "cell_type": "code",
   "execution_count": 30,
   "id": "7920f7de-8883-47c8-b04f-c5ec5d89a9b3",
   "metadata": {},
   "outputs": [
    {
     "name": "stdout",
     "output_type": "stream",
     "text": [
      "[False  True False False False]\n",
      "The sum of all element is nan\n",
      "The maximum among of all element is nan\n",
      "The minimum among of all element is nan\n",
      "\n",
      "The index of minimum among of all element is 1\n",
      "The index of maximum among of all element is 1\n",
      "\n",
      "The sum of all element is 26.0\n",
      "The maximum among of all element is 13.0\n",
      "The minimum among of all element is 1.0\n",
      "\n",
      "The index of minimum among of all element is 0\n",
      "The index of maximum among of all element is 4\n"
     ]
    }
   ],
   "source": [
    "ar_4 = np.array([1, np.nan, 4, 8, 13])\n",
    "print(np.isnan(ar_4))\n",
    "print(\"The sum of all element is\", np.sum(ar_4))\n",
    "print(\"The maximum among of all element is\", np.max(ar_4))\n",
    "print(\"The minimum among of all element is\", np.min(ar_4))\n",
    "print()\n",
    "print(\"The index of minimum among of all element is\", np.argmin(ar_4))\n",
    "print(\"The index of maximum among of all element is\", np.argmax(ar_4))\n",
    "print()\n",
    "print(\"The sum of all element is\", np.nansum(ar_4))\n",
    "print(\"The maximum among of all element is\", np.nanmax(ar_4))\n",
    "print(\"The minimum among of all element is\", np.nanmin(ar_4))\n",
    "print()\n",
    "print(\"The index of minimum among of all element is\", np.nanargmin(ar_4))\n",
    "print(\"The index of maximum among of all element is\", np.nanargmax(ar_4))\n"
   ]
  },
  {
   "cell_type": "code",
   "execution_count": 31,
   "id": "96ae4ca2-6bbb-485d-a3c6-554ad0d169f4",
   "metadata": {},
   "outputs": [
    {
     "name": "stdout",
     "output_type": "stream",
     "text": [
      "False\n",
      "True\n"
     ]
    }
   ],
   "source": [
    "a = np.nan\n",
    "b = np.nan\n",
    "print(a == b)\n",
    "print(a is b)\n"
   ]
  },
  {
   "cell_type": "code",
   "execution_count": 32,
   "id": "78b9d049-05e6-4502-883a-a048be2eea5d",
   "metadata": {},
   "outputs": [
    {
     "name": "stdout",
     "output_type": "stream",
     "text": [
      "['Alice' 'Bob' None]\n",
      "object\n"
     ]
    }
   ],
   "source": [
    "ar_5 = np.array([\"Alice\", \"Bob\", None])\n",
    "print(ar_5)\n",
    "print(ar_5.dtype)\n"
   ]
  },
  {
   "cell_type": "code",
   "execution_count": null,
   "id": "ada20245-0228-44b6-b9a7-bb9e77d22349",
   "metadata": {},
   "outputs": [],
   "source": [
    "ar_6 = np.array([1, 2, 3, None])\n",
    "#print(np.sum(ar_6)) \t\t\n",
    "#print(np.nansum(ar_6))\n"
   ]
  }
 ],
 "metadata": {
  "kernelspec": {
   "display_name": "Python 3 (ipykernel)",
   "language": "python",
   "name": "python3"
  },
  "language_info": {
   "codemirror_mode": {
    "name": "ipython",
    "version": 3
   },
   "file_extension": ".py",
   "mimetype": "text/x-python",
   "name": "python",
   "nbconvert_exporter": "python",
   "pygments_lexer": "ipython3",
   "version": "3.12.8"
  }
 },
 "nbformat": 4,
 "nbformat_minor": 5
}
