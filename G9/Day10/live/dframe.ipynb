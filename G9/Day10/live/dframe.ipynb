{
 "cells": [
  {
   "cell_type": "code",
   "execution_count": 40,
   "id": "5eb96290-fec6-4b3f-a3e3-fd2c22e98067",
   "metadata": {},
   "outputs": [
    {
     "name": "stdout",
     "output_type": "stream",
     "text": [
      "         Arnab  Ramit  Samridhi  Riya  Mallika\n",
      "Maths       90     92        89    81       94\n",
      "Science     91     81        91    71       95\n",
      "Hindi       97     96        88    67       99\n",
      "         Arnab  Ramit  Samridhi  Riya  Mallika  preeti\n",
      "Maths       90     92        89    81       94      89\n",
      "Science     91     81        91    71       95      90\n",
      "Hindi       97     96        88    67       99      91\n",
      "         Arnab  Jayesh  Ramit  Samridhi  Riya  Mallika  preeti\n",
      "Maths       90      90     92        89    81       94      89\n",
      "Science     91      95     81        91    71       95      90\n",
      "Hindi       97     100     96        88    67       99      91\n",
      "         Arnab  Jayesh  Ramit  Samridhi  Riya  Mallika  preeti\n",
      "Maths       71      90     92        89    80       94      89\n",
      "Science     81      95     81        91    80       95      90\n",
      "Hindi       91     100     96        88    80       99      91\n",
      "         Arnab  Jayesh  Ramit  Samridhi  Riya  Mallika  preeti\n",
      "Maths       71      90     92        89    80       94      89\n",
      "Science     81      95     81        91    80       95      90\n",
      "Hindi       91     100     96        88    80       99      91\n",
      "English     85      86     83        80    90       89      90\n",
      "      ST-01  Jayesh  Ramit  Samridhi  Riya  ST-02  preeti\n",
      "Sub1     71      90     92        89    80     94      89\n",
      "Sub2     81      95     81        91    80     95      90\n",
      "Sub4     91     100     96        88    80     99      91\n",
      "Sub3     85      86     83        80    90     89      90\n",
      "      ST-01  Jayesh  Samridhi  Riya  ST-02  preeti\n",
      "Sub1     71      90        89    80     94      89\n",
      "Sub2     81      95        91    80     95      90\n",
      "Sub4     91     100        88    80     99      91\n",
      "Sub3     85      86        80    90     89      90\n",
      "      Jayesh  Samridhi  Riya  ST-02  preeti\n",
      "Sub1      90        89    80     94      89\n",
      "Sub2      95        91    80     95      90\n",
      "Sub4     100        88    80     99      91\n",
      "Sub3      86        80    90     89      90\n"
     ]
    }
   ],
   "source": [
    "import numpy as np\n",
    "import pandas as pd\n",
    "\n",
    "ResultSheet={\n",
    "  'Arnab': pd.Series([90, 91, 97], index=['Maths','Science','Hindi']),\n",
    "  'Ramit': pd.Series([92, 81, 96], index=['Maths','Science','Hindi']),\n",
    "  'Samridhi': pd.Series([89, 91, 88], index=['Maths','Science','Hindi']), \n",
    "  'Riya': pd.Series([81, 71, 67], index=['Maths','Science','Hindi']),\n",
    "  'Mallika': pd.Series([94, 95, 99], index=['Maths','Science','Hindi'])\n",
    "}\n",
    "dFrame1 = pd.DataFrame(ResultSheet)\n",
    "print(dFrame1)\n",
    "\n",
    "dFrame1[\"preeti\"] = [89, 90, 91]\n",
    "print(dFrame1)\n",
    "dFrame1.insert(1, \"Jayesh\", np.array([90, 95, 100]))\n",
    "print(dFrame1)\n",
    "dFrame1[\"Arnab\"] = [71, 81, 91]\n",
    "dFrame1[\"Riya\"] = 80\n",
    "print(dFrame1)\n",
    "dFrame1.loc['English'] = [85, 86, 83, 80, 90, 89, 90]\n",
    "print(dFrame1)\n",
    "dFrame1 = dFrame1.rename({'Maths':'Sub1', 'Science':'Sub2','English':'Sub3', 'Hindi':'Sub4'}, axis='index')\n",
    "dFrame1 = dFrame1.rename({'Arnab':'ST-01', 'Mallika':'ST-02'}, axis='columns')\n",
    "print(dFrame1)\n",
    "\n",
    "dFrame1 = dFrame1.drop('Ramit', axis=1)\n",
    "print(dFrame1)\n",
    "\n",
    "del dFrame1['ST-01']\n",
    "print(dFrame1)\n"
   ]
  },
  {
   "cell_type": "code",
   "execution_count": 16,
   "id": "6324e37d-cd70-452b-99c9-7234fddeeb10",
   "metadata": {},
   "outputs": [
    {
     "name": "stdout",
     "output_type": "stream",
     "text": [
      "Id of original dataframe 2543317943744\n",
      "   A  B   C\n",
      "0  1  5   8\n",
      "1  2  6   9\n",
      "2  3  7  10\n",
      "Id of modified dataframe 2543317943744\n",
      "   A   C\n",
      "0  1   8\n",
      "1  2   9\n",
      "2  3  10\n"
     ]
    }
   ],
   "source": [
    "df = pd.DataFrame({'A': [1, 2, 3], 'B': [5, 6, 7], 'C': [8, 9, 10]})\n",
    "print(\"Id of original dataframe\",id(df))\n",
    "print(df)\n",
    "\n",
    "df.drop('B',inplace = True, axis = 1)\n",
    "print(\"Id of modified dataframe\",id(df))\n",
    "print(df)"
   ]
  },
  {
   "cell_type": "code",
   "execution_count": 17,
   "id": "3bee1355-a845-4b59-9d4f-fa139ec5c9bb",
   "metadata": {},
   "outputs": [
    {
     "name": "stdout",
     "output_type": "stream",
     "text": [
      "Help on function drop in module pandas.core.frame:\n",
      "\n",
      "drop(self, labels: 'IndexLabel | None' = None, *, axis: 'Axis' = 0, index: 'IndexLabel | None' = None, columns: 'IndexLabel | None' = None, level: 'Level | None' = None, inplace: 'bool' = False, errors: 'IgnoreRaise' = 'raise') -> 'DataFrame | None'\n",
      "    Drop specified labels from rows or columns.\n",
      "\n",
      "    Remove rows or columns by specifying label names and corresponding\n",
      "    axis, or by directly specifying index or column names. When using a\n",
      "    multi-index, labels on different levels can be removed by specifying\n",
      "    the level. See the :ref:`user guide <advanced.shown_levels>`\n",
      "    for more information about the now unused levels.\n",
      "\n",
      "    Parameters\n",
      "    ----------\n",
      "    labels : single label or list-like\n",
      "        Index or column labels to drop. A tuple will be used as a single\n",
      "        label and not treated as a list-like.\n",
      "    axis : {0 or 'index', 1 or 'columns'}, default 0\n",
      "        Whether to drop labels from the index (0 or 'index') or\n",
      "        columns (1 or 'columns').\n",
      "    index : single label or list-like\n",
      "        Alternative to specifying axis (``labels, axis=0``\n",
      "        is equivalent to ``index=labels``).\n",
      "    columns : single label or list-like\n",
      "        Alternative to specifying axis (``labels, axis=1``\n",
      "        is equivalent to ``columns=labels``).\n",
      "    level : int or level name, optional\n",
      "        For MultiIndex, level from which the labels will be removed.\n",
      "    inplace : bool, default False\n",
      "        If False, return a copy. Otherwise, do operation\n",
      "        in place and return None.\n",
      "    errors : {'ignore', 'raise'}, default 'raise'\n",
      "        If 'ignore', suppress error and only existing labels are\n",
      "        dropped.\n",
      "\n",
      "    Returns\n",
      "    -------\n",
      "    DataFrame or None\n",
      "        Returns DataFrame or None DataFrame with the specified\n",
      "        index or column labels removed or None if inplace=True.\n",
      "\n",
      "    Raises\n",
      "    ------\n",
      "    KeyError\n",
      "        If any of the labels is not found in the selected axis.\n",
      "\n",
      "    See Also\n",
      "    --------\n",
      "    DataFrame.loc : Label-location based indexer for selection by label.\n",
      "    DataFrame.dropna : Return DataFrame with labels on given axis omitted\n",
      "        where (all or any) data are missing.\n",
      "    DataFrame.drop_duplicates : Return DataFrame with duplicate rows\n",
      "        removed, optionally only considering certain columns.\n",
      "    Series.drop : Return Series with specified index labels removed.\n",
      "\n",
      "    Examples\n",
      "    --------\n",
      "    >>> df = pd.DataFrame(np.arange(12).reshape(3, 4),\n",
      "    ...                   columns=['A', 'B', 'C', 'D'])\n",
      "    >>> df\n",
      "       A  B   C   D\n",
      "    0  0  1   2   3\n",
      "    1  4  5   6   7\n",
      "    2  8  9  10  11\n",
      "\n",
      "    Drop columns\n",
      "\n",
      "    >>> df.drop(['B', 'C'], axis=1)\n",
      "       A   D\n",
      "    0  0   3\n",
      "    1  4   7\n",
      "    2  8  11\n",
      "\n",
      "    >>> df.drop(columns=['B', 'C'])\n",
      "       A   D\n",
      "    0  0   3\n",
      "    1  4   7\n",
      "    2  8  11\n",
      "\n",
      "    Drop a row by index\n",
      "\n",
      "    >>> df.drop([0, 1])\n",
      "       A  B   C   D\n",
      "    2  8  9  10  11\n",
      "\n",
      "    Drop columns and/or rows of MultiIndex DataFrame\n",
      "\n",
      "    >>> midx = pd.MultiIndex(levels=[['llama', 'cow', 'falcon'],\n",
      "    ...                              ['speed', 'weight', 'length']],\n",
      "    ...                      codes=[[0, 0, 0, 1, 1, 1, 2, 2, 2],\n",
      "    ...                             [0, 1, 2, 0, 1, 2, 0, 1, 2]])\n",
      "    >>> df = pd.DataFrame(index=midx, columns=['big', 'small'],\n",
      "    ...                   data=[[45, 30], [200, 100], [1.5, 1], [30, 20],\n",
      "    ...                         [250, 150], [1.5, 0.8], [320, 250],\n",
      "    ...                         [1, 0.8], [0.3, 0.2]])\n",
      "    >>> df\n",
      "                    big     small\n",
      "    llama   speed   45.0    30.0\n",
      "            weight  200.0   100.0\n",
      "            length  1.5     1.0\n",
      "    cow     speed   30.0    20.0\n",
      "            weight  250.0   150.0\n",
      "            length  1.5     0.8\n",
      "    falcon  speed   320.0   250.0\n",
      "            weight  1.0     0.8\n",
      "            length  0.3     0.2\n",
      "\n",
      "    Drop a specific index combination from the MultiIndex\n",
      "    DataFrame, i.e., drop the combination ``'falcon'`` and\n",
      "    ``'weight'``, which deletes only the corresponding row\n",
      "\n",
      "    >>> df.drop(index=('falcon', 'weight'))\n",
      "                    big     small\n",
      "    llama   speed   45.0    30.0\n",
      "            weight  200.0   100.0\n",
      "            length  1.5     1.0\n",
      "    cow     speed   30.0    20.0\n",
      "            weight  250.0   150.0\n",
      "            length  1.5     0.8\n",
      "    falcon  speed   320.0   250.0\n",
      "            length  0.3     0.2\n",
      "\n",
      "    >>> df.drop(index='cow', columns='small')\n",
      "                    big\n",
      "    llama   speed   45.0\n",
      "            weight  200.0\n",
      "            length  1.5\n",
      "    falcon  speed   320.0\n",
      "            weight  1.0\n",
      "            length  0.3\n",
      "\n",
      "    >>> df.drop(index='length', level=1)\n",
      "                    big     small\n",
      "    llama   speed   45.0    30.0\n",
      "            weight  200.0   100.0\n",
      "    cow     speed   30.0    20.0\n",
      "            weight  250.0   150.0\n",
      "    falcon  speed   320.0   250.0\n",
      "            weight  1.0     0.8\n",
      "\n"
     ]
    }
   ],
   "source": [
    "help(pd.DataFrame.drop)\n"
   ]
  },
  {
   "cell_type": "code",
   "execution_count": 22,
   "id": "935d56e7-f26b-41d0-9f3f-bffc14e9afe2",
   "metadata": {},
   "outputs": [
    {
     "name": "stdout",
     "output_type": "stream",
     "text": [
      "[10 20 30]\n",
      "int64\n"
     ]
    }
   ],
   "source": [
    "arr1 = np.array([10,20,30])\n",
    "print(arr1)\n",
    "print(arr1.dtype)"
   ]
  },
  {
   "cell_type": "code",
   "execution_count": 23,
   "id": "66a154b4-18f8-4fef-9d66-1458b8aab08a",
   "metadata": {},
   "outputs": [
    {
     "name": "stdout",
     "output_type": "stream",
     "text": [
      "0      10\n",
      "1      20\n",
      "2      30\n",
      "3    <NA>\n",
      "dtype: Int64\n",
      "Int64\n"
     ]
    }
   ],
   "source": [
    "arr1 = pd.Series([10,20,30,np.nan], dtype='Int64')\n",
    "print(arr1)\n",
    "print(arr1.dtype)"
   ]
  },
  {
   "cell_type": "code",
   "execution_count": 24,
   "id": "b80d3596-b477-4de0-9229-ad8a17b27f12",
   "metadata": {},
   "outputs": [
    {
     "name": "stdout",
     "output_type": "stream",
     "text": [
      "['a' 'b' 'c' 'nan']\n",
      "<U32\n"
     ]
    }
   ],
   "source": [
    "arr1 = np.array(['a', 'b', 'c', np.nan])\n",
    "print(arr1)\n",
    "print(arr1.dtype)"
   ]
  },
  {
   "cell_type": "code",
   "execution_count": 26,
   "id": "ebf709cf-13a9-48a9-accb-faac17c50db0",
   "metadata": {},
   "outputs": [
    {
     "name": "stdout",
     "output_type": "stream",
     "text": [
      "0       a\n",
      "1       b\n",
      "2       c\n",
      "3    <NA>\n",
      "dtype: string\n",
      "string\n"
     ]
    }
   ],
   "source": [
    "arr1 = pd.Series(['a', 'b', 'c', np.nan], dtype='string')\n",
    "print(arr1)\n",
    "print(arr1.dtype)"
   ]
  },
  {
   "cell_type": "code",
   "execution_count": 28,
   "id": "93941d19-2485-45b7-9a2e-fae6bae03dcc",
   "metadata": {},
   "outputs": [
    {
     "name": "stdout",
     "output_type": "stream",
     "text": [
      "0     True\n",
      "1    False\n",
      "2     True\n",
      "3      NaN\n",
      "dtype: object\n"
     ]
    }
   ],
   "source": [
    "series_4 = pd.Series([True, False, True, np.nan], dtype=\"boolean\")\n",
    "#is same as series_4 = pd.Series([True, False, True, np.nan], dtype = pd.BooleanDtype())\n",
    "print(series_4)\n"
   ]
  },
  {
   "cell_type": "code",
   "execution_count": 34,
   "id": "09fcd4f7-9233-46be-b349-8bf369920c2c",
   "metadata": {},
   "outputs": [
    {
     "name": "stdout",
     "output_type": "stream",
     "text": [
      "0    2.0\n",
      "1    NaN\n",
      "2    3.0\n",
      "3    NaN\n",
      "dtype: float64\n",
      "\n",
      "0    2.0\n",
      "1    NaN\n",
      "2    NaN\n",
      "3    NaN\n",
      "dtype: float64\n",
      "\n"
     ]
    }
   ],
   "source": [
    "ser = pd.Series([2,np.nan, 3, np.nan])\n",
    "print(ser, end = '\\n\\n')\n",
    "\n",
    "print(ser.cumsum(skipna = False), end = '\\n\\n')"
   ]
  },
  {
   "cell_type": "code",
   "execution_count": 37,
   "id": "5e306170-2a0e-4be9-ac80-e52e5d37480e",
   "metadata": {},
   "outputs": [
    {
     "name": "stdout",
     "output_type": "stream",
     "text": [
      "     0  1    2\n",
      "0  NaN  1  2.0\n",
      "1  1.0  2  NaN\n",
      "2  1.0  2  3.0\n",
      "\n",
      "   1\n",
      "0  1\n",
      "1  2\n",
      "2  2\n",
      "\n"
     ]
    }
   ],
   "source": [
    "df = pd.DataFrame([[np.nan, 1, 2], [1, 2, np.nan], [1, 2, 3]])\n",
    "print(df, end = '\\n\\n')\n",
    "df1 = df.dropna(axis=1)\n",
    "print(df1, end = '\\n\\n')\n"
   ]
  },
  {
   "cell_type": "code",
   "execution_count": 45,
   "id": "a4b9f966-43f8-4726-a2fd-de69780ee3d0",
   "metadata": {},
   "outputs": [
    {
     "name": "stdout",
     "output_type": "stream",
     "text": [
      "DataFrame 1:\n",
      "       A  B\n",
      "row1  1  3\n",
      "row2  2  4 \n",
      "\n",
      "DataFrame 2:\n",
      "       B  C\n",
      "row2  5  7\n",
      "row3  6  8 \n",
      "\n",
      "\n",
      "Aligned dFrame3:\n",
      "         A    B   C\n",
      "row1  1.0  3.0 NaN\n",
      "row2  2.0  4.0 NaN\n",
      "row3  NaN  NaN NaN \n",
      "\n",
      "Aligned dFrame4:\n",
      "        A    B    C\n",
      "row1 NaN  NaN  NaN\n",
      "row2 NaN  5.0  7.0\n",
      "row3 NaN  6.0  8.0 \n",
      "\n",
      "\n",
      "Aligned dFrame3:\n",
      "       B\n",
      "row2  4 \n",
      "\n",
      "Aligned dFrame4:\n",
      "       B\n",
      "row2  5 \n",
      "\n"
     ]
    }
   ],
   "source": [
    "dFrame3 = pd.DataFrame(\n",
    "  {\n",
    "    'A': [1, 2],\n",
    "    'B': [3, 4]\n",
    "  }, index=['row1', 'row2']\n",
    ")\n",
    "\n",
    "dFrame4 = pd.DataFrame(\n",
    "  {\n",
    "    'B': [5, 6],\n",
    "    'C': [7, 8]\n",
    "  }, index=['row2', 'row3']\n",
    ")\n",
    "\n",
    "print(\"DataFrame 1:\\n\", dFrame3, \"\\n\")\n",
    "print(\"DataFrame 2:\\n\", dFrame4, \"\\n\")\n",
    "print()\n",
    "dFrame3_aligned, dFrame4_aligned = dFrame3.align(dFrame4, join='outer')\n",
    "print(\"Aligned dFrame3:\\n\", dFrame3_aligned, \"\\n\")\n",
    "print(\"Aligned dFrame4:\\n\", dFrame4_aligned, \"\\n\")\n",
    "print()\n",
    "dFrame3_aligned, dFrame4_aligned = dFrame3.align(dFrame4, join='inner')\n",
    "print(\"Aligned dFrame3:\\n\", dFrame3_aligned, \"\\n\")\n",
    "print(\"Aligned dFrame4:\\n\", dFrame4_aligned, \"\\n\")\n"
   ]
  },
  {
   "cell_type": "code",
   "execution_count": 48,
   "id": "0f58e483-c3f3-485b-bc37-86f8efbca296",
   "metadata": {},
   "outputs": [
    {
     "name": "stdout",
     "output_type": "stream",
     "text": [
      "0    1\n",
      "1    2\n",
      "2    3\n",
      "dtype: int64\n",
      "2.0\n"
     ]
    }
   ],
   "source": [
    "ser_1 = pd.Series([1, 2, 3])\n",
    "print(ser_1)\n",
    "print(ser_1.mean())"
   ]
  },
  {
   "cell_type": "code",
   "execution_count": 50,
   "id": "5a463aec-e063-4e4d-a4ec-17d3b02d2bb3",
   "metadata": {},
   "outputs": [
    {
     "data": {
      "text/plain": [
       "tiger    1.732051\n",
       "zebra   -1.732051\n",
       "cow      0.000000\n",
       "dtype: float64"
      ]
     },
     "execution_count": 50,
     "metadata": {},
     "output_type": "execute_result"
    }
   ],
   "source": [
    "dFrame8 = pd.DataFrame(\n",
    "  {\n",
    "    'a': [1, 2, 3],\n",
    "    'b': [2, 3, 4],\n",
    "    'c': [1, 3, 5]\n",
    "  },\n",
    "  index=['tiger', 'zebra', 'cow']\n",
    ")\n",
    "dFrame8.skew()\n",
    "dFrame8.skew(axis=1)\n"
   ]
  },
  {
   "cell_type": "code",
   "execution_count": null,
   "id": "33a875df-6930-4695-a6cf-84780895f390",
   "metadata": {},
   "outputs": [],
   "source": []
  }
 ],
 "metadata": {
  "kernelspec": {
   "display_name": "Python 3 (ipykernel)",
   "language": "python",
   "name": "python3"
  },
  "language_info": {
   "codemirror_mode": {
    "name": "ipython",
    "version": 3
   },
   "file_extension": ".py",
   "mimetype": "text/x-python",
   "name": "python",
   "nbconvert_exporter": "python",
   "pygments_lexer": "ipython3",
   "version": "3.12.8"
  }
 },
 "nbformat": 4,
 "nbformat_minor": 5
}
