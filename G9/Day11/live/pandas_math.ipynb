{
 "cells": [
  {
   "cell_type": "code",
   "execution_count": 3,
   "id": "5f40b920-71c9-4d69-ac3a-5a68d4636e99",
   "metadata": {},
   "outputs": [
    {
     "name": "stdout",
     "output_type": "stream",
     "text": [
      "           angles  degrees\n",
      "circle          0      360\n",
      "triangle        3      180\n",
      "rectangle       4      360\n",
      "           angles  degrees\n",
      "circle         -1      359\n",
      "triangle        2      179\n",
      "rectangle       3      359\n",
      "           angles  degrees\n",
      "circle          1      361\n",
      "triangle        4      181\n",
      "rectangle       5      361\n"
     ]
    }
   ],
   "source": [
    "import pandas as pd\n",
    "import numpy as np\n",
    "\n",
    "dFrame1 = pd.DataFrame(\n",
    "  {\n",
    "    'angles': [0, 3, 4],\n",
    "    'degrees': [360, 180, 360]\n",
    "  },\n",
    "  index=['circle', 'triangle', 'rectangle']\n",
    ")\n",
    "print(dFrame1)\n",
    "print(dFrame1 + 1)\n",
    "print(dFrame1.add(1))"
   ]
  },
  {
   "cell_type": "code",
   "execution_count": 9,
   "id": "41e21730-1aab-4ea9-adb9-6cc659af2e8e",
   "metadata": {},
   "outputs": [
    {
     "name": "stdout",
     "output_type": "stream",
     "text": [
      "       A      B\n",
      "R1     0  360.0\n",
      "R2     3  180.0\n",
      "R3     4  360.0\n",
      "R4  <NA>   <NA>\n",
      "       A      B\n",
      "R1     1  361.0\n",
      "R2     4  181.0\n",
      "R3     5  361.0\n",
      "R4  <NA>   <NA>\n",
      "    A      B\n",
      "R1  1  361.0\n",
      "R2  4  181.0\n",
      "R3  5  361.0\n",
      "R4  1    1.0\n",
      "       A      B\n",
      "R1    10  380.0\n",
      "R2    13  200.0\n",
      "R3    14  380.0\n",
      "R4  <NA>   <NA>\n",
      "       A      B\n",
      "R1    10  370.0\n",
      "R2    23  200.0\n",
      "R3    34  390.0\n",
      "R4  <NA>   <NA>\n",
      "       A      B\n",
      "R1  10.0  370.0\n",
      "R2  23.0  200.0\n",
      "R3  <NA>   <NA>\n",
      "R4  <NA>   <NA>\n"
     ]
    }
   ],
   "source": [
    "dFrame2 = pd.DataFrame(\n",
    "  {\n",
    "    'A': pd.Series([0, 3, 4, np.nan], dtype = 'Int64', index=['R1', 'R2', 'R3', 'R4']),\n",
    "    'B': pd.Series([360, 180, 360, np.nan], dtype = 'Float64', index=['R1', 'R2', 'R3', 'R4'])\n",
    "  }\n",
    ")\n",
    "print(dFrame2)\n",
    "print(dFrame2 + 1)\n",
    "print(dFrame2.add(1, fill_value = 0))\n",
    "print(dFrame2 + [10, 20])\n",
    "\n",
    "print(dFrame2.add(pd.Series([10, 20, 30, 40], index = [\"R1\", \"R2\", \"R3\", \"R4\"]), axis = 0))\n",
    "print(dFrame2.add(pd.Series([10, 20], index = [\"R1\", \"R2\"]), axis = 0))"
   ]
  },
  {
   "cell_type": "code",
   "execution_count": 12,
   "id": "21413061-fe3f-49aa-af4c-f73abcc9bbe1",
   "metadata": {},
   "outputs": [
    {
     "name": "stdout",
     "output_type": "stream",
     "text": [
      "DataFrame 1:\n",
      "       A  B\n",
      "row1  1  3\n",
      "row2  2  4 \n",
      "\n",
      "DataFrame 2:\n",
      "       B  C\n",
      "row2  5  7\n",
      "row3  6  8 \n",
      "\n",
      "       A    B   C\n",
      "row1 NaN  NaN NaN\n",
      "row2 NaN  9.0 NaN\n",
      "row3 NaN  NaN NaN\n",
      "Aligned dFrame3:\n",
      "       B\n",
      "row2  4 \n",
      "\n",
      "Aligned dFrame4:\n",
      "       B\n",
      "row2  5 \n",
      "\n"
     ]
    }
   ],
   "source": [
    "dFrame3 = pd.DataFrame(\n",
    "  {\n",
    "    'A': [1, 2],\n",
    "    'B': [3, 4]\n",
    "  }, index=['row1', 'row2']\n",
    ")\n",
    "\n",
    "dFrame4 = pd.DataFrame(\n",
    "  {\n",
    "    'B': [5, 6],\n",
    "    'C': [7, 8]\n",
    "  }, index=['row2', 'row3']\n",
    ")\n",
    "\n",
    "print(\"DataFrame 1:\\n\", dFrame3, \"\\n\")\n",
    "print(\"DataFrame 2:\\n\", dFrame4, \"\\n\")\n",
    "print(dFrame3 + dFrame4)\n",
    "# result_add_fill = dFrame3.add(dFrame4, fill_value=0)\n",
    "# print(\"Result of dFrame3.add(dFrame4, fill_value=0):\\n\", result_add_fill, \"\\n\")\n",
    "\n",
    "dFrame3_aligned, dFrame4_aligned = dFrame3.align(dFrame4, join='inner')\n",
    "print(\"Aligned dFrame3:\\n\", dFrame3_aligned, \"\\n\")\n",
    "print(\"Aligned dFrame4:\\n\", dFrame4_aligned, \"\\n\")\n",
    "\n"
   ]
  },
  {
   "cell_type": "code",
   "execution_count": 13,
   "id": "1a2484fa-f1eb-4183-b6ac-8d2e679a244c",
   "metadata": {},
   "outputs": [
    {
     "name": "stdout",
     "output_type": "stream",
     "text": [
      "2.0\n"
     ]
    }
   ],
   "source": [
    "ser_1 = pd.Series([1, 2, 3])\n",
    "print(ser_1.mean())\n"
   ]
  },
  {
   "cell_type": "code",
   "execution_count": 15,
   "id": "57875595-b743-4388-b792-db2694f41c32",
   "metadata": {},
   "outputs": [
    {
     "data": {
      "text/plain": [
       "tiger    1.5\n",
       "zebra    2.5\n",
       "dtype: float64"
      ]
     },
     "execution_count": 15,
     "metadata": {},
     "output_type": "execute_result"
    }
   ],
   "source": [
    "\n",
    "dFrame1 = pd.DataFrame(\n",
    "  {\n",
    "    'a': [1, 2],\n",
    "    'b': [2, 3]\n",
    "  },\n",
    "  index=['tiger', 'zebra']\n",
    ")\n",
    "dFrame1.mean(axis=1)\n"
   ]
  },
  {
   "cell_type": "code",
   "execution_count": null,
   "id": "3b30a641-e13f-42ff-8a60-4fa7690de5ba",
   "metadata": {},
   "outputs": [],
   "source": []
  }
 ],
 "metadata": {
  "kernelspec": {
   "display_name": "Python 3 (ipykernel)",
   "language": "python",
   "name": "python3"
  },
  "language_info": {
   "codemirror_mode": {
    "name": "ipython",
    "version": 3
   },
   "file_extension": ".py",
   "mimetype": "text/x-python",
   "name": "python",
   "nbconvert_exporter": "python",
   "pygments_lexer": "ipython3",
   "version": "3.12.8"
  }
 },
 "nbformat": 4,
 "nbformat_minor": 5
}
