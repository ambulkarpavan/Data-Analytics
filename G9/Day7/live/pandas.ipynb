{
 "cells": [
  {
   "cell_type": "code",
   "execution_count": 8,
   "id": "dd6ba893-6eaa-47b9-a051-a91746530172",
   "metadata": {},
   "outputs": [
    {
     "name": "stdout",
     "output_type": "stream",
     "text": [
      "[1 1 3 4]\n"
     ]
    }
   ],
   "source": [
    "import numpy as np\n",
    "ar_1 = np.array([[1,4],\n",
    "                 [3,1]])\n",
    "# ar_2 = np.sort(ar_1)\n",
    "# ar_3 = np.sort(ar_1, axis=0)\n",
    "# print(ar_2)\n",
    "# print()\n",
    "# print(ar_3)\n",
    "ar_4 = np.sort(ar_1, axis = None)\n",
    "print(ar_4)\n",
    "\n"
   ]
  },
  {
   "cell_type": "code",
   "execution_count": 12,
   "id": "cf55c8fe-986a-4316-a662-1a7fc2b5c0ad",
   "metadata": {},
   "outputs": [
    {
     "name": "stdout",
     "output_type": "stream",
     "text": [
      "[('Arthur', 1.8, 41) ('Lancelot', 1.9, 38) ('Galahad', 1.7, 38)]\n",
      "\n",
      "[('Galahad', 1.7, 38) ('Lancelot', 1.9, 38) ('Arthur', 1.8, 41)]\n",
      "\n"
     ]
    }
   ],
   "source": [
    "values = [('Arthur', 1.8, 41), ('Lancelot', 1.9, 38), ('Galahad', 1.7, 38)]\n",
    "dtype = [('name', 'U10'), ('height', float), ('age', int)]\n",
    "ar_5 = np.array(values, dtype=dtype)\n",
    "print(ar_5, end = '\\n\\n')\n",
    "ar_6 = np.sort(ar_5, order=['age', 'height'])\n",
    "print(ar_6, end = '\\n\\n')\n",
    "\n"
   ]
  },
  {
   "cell_type": "code",
   "execution_count": 13,
   "id": "4ac3b693-e434-4e79-883c-ac605504376c",
   "metadata": {},
   "outputs": [
    {
     "name": "stdout",
     "output_type": "stream",
     "text": [
      "0    10\n",
      "1    20\n",
      "2    30\n",
      "dtype: int64\n"
     ]
    }
   ],
   "source": [
    "import pandas as pd\n",
    "import numpy as np\n",
    "series1 = pd.Series([10,20,30])\n",
    "print(series1)\n"
   ]
  },
  {
   "cell_type": "code",
   "execution_count": 19,
   "id": "9ec90322-9f9a-454c-a5ba-a1c8b594ed5a",
   "metadata": {},
   "outputs": [
    {
     "name": "stdout",
     "output_type": "stream",
     "text": [
      "0    10\n",
      "1    15\n",
      "2    20\n",
      "3    25\n",
      "4    30\n",
      "dtype: int64\n",
      "['NewDelhi' 'London' 'Tokyo' nan]\n",
      "object\n"
     ]
    }
   ],
   "source": [
    "array1 = np.arange(10, 31, 5)\n",
    "series2 = pd.Series(array1)\n",
    "print(series2)\n",
    "arr = series6 .to_numpy()\n",
    "print(arr)\n",
    "print(arr.dtype)\n",
    "\n"
   ]
  },
  {
   "cell_type": "code",
   "execution_count": 15,
   "id": "fa690485-c037-4ef4-83f5-0a9d5467cc50",
   "metadata": {},
   "outputs": [
    {
     "name": "stdout",
     "output_type": "stream",
     "text": [
      "3     Kavi\n",
      "5    Shyam\n",
      "1     Ravi\n",
      "dtype: object\n"
     ]
    }
   ],
   "source": [
    "series3 = pd.Series([\"Kavi\", \"Shyam\", \"Ravi\"], index=[3, 5,1])\n",
    "print(series3)\n"
   ]
  },
  {
   "cell_type": "code",
   "execution_count": 17,
   "id": "70d79d3a-17d0-4c78-a5b8-cbbca35a3127",
   "metadata": {},
   "outputs": [
    {
     "name": "stdout",
     "output_type": "stream",
     "text": [
      "3    NaN\n",
      "5    NaN\n",
      "1    NaN\n",
      "dtype: object\n"
     ]
    }
   ],
   "source": [
    "dict1 = {'India': 'NewDelhi', 'UK': 'London', 'Japan': 'Tokyo'}\n",
    "series5 = pd.Series(dict1, index=[3, 5,1])\n",
    "print(series5)\n"
   ]
  },
  {
   "cell_type": "code",
   "execution_count": 18,
   "id": "cc68390c-a7cc-4c76-9ee4-49d7a3766ca1",
   "metadata": {},
   "outputs": [
    {
     "name": "stdout",
     "output_type": "stream",
     "text": [
      "India     NewDelhi\n",
      "UK          London\n",
      "Japan        Tokyo\n",
      "France         NaN\n",
      "dtype: object\n"
     ]
    }
   ],
   "source": [
    "dict1 = {'India': 'NewDelhi', 'UK': 'London', 'Japan': 'Tokyo'}\n",
    "series6 = pd.Series(dict1, index = ['India', 'UK', 'Japan', 'France'])\n",
    "print(series6)\n"
   ]
  },
  {
   "cell_type": "code",
   "execution_count": 25,
   "id": "c0f3562c-b28a-478d-a758-c84de6984dd1",
   "metadata": {},
   "outputs": [
    {
     "name": "stdout",
     "output_type": "stream",
     "text": [
      "NewDelhi\n",
      "India        NewDelhi\n",
      "USA      WashingtonDC\n",
      "UK             London\n",
      "dtype: object\n",
      "India         NewDelhi\n",
      "USA       WashingtonDC\n",
      "UK              London\n",
      "France           Paris\n",
      "dtype: object\n",
      "India        abc\n",
      "USA          abc\n",
      "UK        London\n",
      "France     Paris\n",
      "dtype: object\n"
     ]
    }
   ],
   "source": [
    "country_cap_series = pd.Series(['NewDelhi', 'WashingtonDC', 'London', 'Paris'], index=['India', 'USA', 'UK', 'France'])\n",
    "print(country_cap_series['India'])\n",
    "print(country_cap_series[0:3])\n",
    "print(country_cap_series['India':'France'])\n",
    "country_cap_series[0:2] = 'abc'\n",
    "print(country_cap_series)\n"
   ]
  },
  {
   "cell_type": "code",
   "execution_count": 26,
   "id": "8b5c01ff-3e34-4ed3-ae4e-2605ca4247b5",
   "metadata": {},
   "outputs": [
    {
     "name": "stdout",
     "output_type": "stream",
     "text": [
      "[[11 22 33]\n",
      " [14 25 36]]\n"
     ]
    }
   ],
   "source": [
    "a = np.array([[1, 2, 3], [4, 5, 6]])\n",
    "b = np.array([10, 20, 30])\n",
    "result = a + b\n",
    "print(result)\n"
   ]
  },
  {
   "cell_type": "code",
   "execution_count": null,
   "id": "4e995e64-d15a-4f49-a26c-e71e5160d40a",
   "metadata": {},
   "outputs": [],
   "source": []
  }
 ],
 "metadata": {
  "kernelspec": {
   "display_name": "Python 3 (ipykernel)",
   "language": "python",
   "name": "python3"
  },
  "language_info": {
   "codemirror_mode": {
    "name": "ipython",
    "version": 3
   },
   "file_extension": ".py",
   "mimetype": "text/x-python",
   "name": "python",
   "nbconvert_exporter": "python",
   "pygments_lexer": "ipython3",
   "version": "3.12.8"
  }
 },
 "nbformat": 4,
 "nbformat_minor": 5
}
