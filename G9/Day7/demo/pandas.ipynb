{
 "cells": [
  {
   "cell_type": "code",
   "execution_count": 5,
   "id": "041c0764-697f-4ad5-89e5-4f8c5f071409",
   "metadata": {},
   "outputs": [
    {
     "name": "stdout",
     "output_type": "stream",
     "text": [
      "NewDelhi\n",
      "Paris\n",
      "None\n",
      "NewDelhi\n",
      "Paris\n",
      "USA    WashingtonDC\n",
      "UK           London\n",
      "dtype: object\n"
     ]
    }
   ],
   "source": [
    "import numpy as np\n",
    "import pandas as pd\n",
    "country_cap_series = pd.Series(['NewDelhi', 'WashingtonDC', 'London', 'Paris'], index=['India', 'USA', 'UK', 'France'])\n",
    "print(country_cap_series['India'])\n",
    "#print(country_cap_series['Uganda'])\n",
    "print(country_cap_series.get('France'))\n",
    "print(country_cap_series.get('Uganda'))\n",
    "print(country_cap_series.iloc[0])\n",
    "print(country_cap_series.iloc[-1])\n",
    "print(country_cap_series.iloc[1:3])\n",
    "\n",
    "\n"
   ]
  },
  {
   "cell_type": "code",
   "execution_count": 9,
   "id": "941055ee-645e-41c2-99ec-23d21519a857",
   "metadata": {},
   "outputs": [
    {
     "name": "stdout",
     "output_type": "stream",
     "text": [
      "[False False False  True False False]\n",
      "The sum of all element is nan\n",
      "The maximum among of all element is nan\n",
      "The minimum among of all element is nan\n",
      "\n",
      "The index of minimum among of all element is 3\n",
      "The index of maximum among of all element is 3\n",
      "\n",
      "The sum of all element is 29.0\n",
      "The maximum among of all element is 13.0\n",
      "The minimum among of all element is 1.0\n",
      "\n",
      "The index of minimum among of all element is 0\n",
      "The index of maximum among of all element is 5\n"
     ]
    }
   ],
   "source": [
    "ar_4 = np.array([1, 3, 4,np.nan, 8, 13])\n",
    "print(np.isnan(ar_4))\n",
    "print(\"The sum of all element is\", np.sum(ar_4))\n",
    "print(\"The maximum among of all element is\", np.max(ar_4))\n",
    "print(\"The minimum among of all element is\", np.min(ar_4))\n",
    "print()\n",
    "print(\"The index of minimum among of all element is\", np.argmin(ar_4))\n",
    "print(\"The index of maximum among of all element is\", np.argmax(ar_4))\n",
    "print()\n",
    "print(\"The sum of all element is\", np.nansum(ar_4))\n",
    "print(\"The maximum among of all element is\", np.nanmax(ar_4))\n",
    "print(\"The minimum among of all element is\", np.nanmin(ar_4))\n",
    "print()\n",
    "print(\"The index of minimum among of all element is\", np.nanargmin(ar_4))\n",
    "print(\"The index of maximum among of all element is\", np.nanargmax(ar_4))\n",
    "\n",
    "\n"
   ]
  },
  {
   "cell_type": "code",
   "execution_count": 10,
   "id": "cc3afa15-fd49-4729-8097-9d8bc3b50311",
   "metadata": {},
   "outputs": [
    {
     "name": "stdout",
     "output_type": "stream",
     "text": [
      "False\n",
      "True\n"
     ]
    }
   ],
   "source": [
    "a = np.nan\n",
    "b = np.nan\n",
    "print(a == b)\n",
    "print(a is b)\n"
   ]
  },
  {
   "cell_type": "code",
   "execution_count": 11,
   "id": "a22d5739-cca1-49cc-ba48-2daa5fe57cb7",
   "metadata": {},
   "outputs": [
    {
     "name": "stdout",
     "output_type": "stream",
     "text": [
      "True\n",
      "True\n"
     ]
    }
   ],
   "source": [
    "a = None\n",
    "b = None\n",
    "print(a == b)\t#True\n",
    "print(a is b)\n"
   ]
  },
  {
   "cell_type": "code",
   "execution_count": 21,
   "id": "d161514b-6618-4679-83bd-d5c783f015ca",
   "metadata": {},
   "outputs": [
    {
     "name": "stdout",
     "output_type": "stream",
     "text": [
      "         Arnab  Ramit  Samridhi  Riya  Mallika\n",
      "Maths       90     92        89    81       94\n",
      "Science     91     81        91    71       95\n",
      "Hindi       97     96        88    67       99\n",
      "         Arnab  Ramit  Samridhi  Riya  Mallika  preeti\n",
      "Maths       71     92        89    80       94      89\n",
      "Science     81     81        91    80       95      90\n",
      "Hindi       91     96        88    80       99      91\n",
      "         Arnab  Mallika  preeti\n",
      "Maths       71       94      89\n",
      "Science     81       95      90\n",
      "Hindi       91       99      91\n"
     ]
    }
   ],
   "source": [
    "ResultSheet={\n",
    "  'Arnab': pd.Series([90, 91, 97], index=['Maths','Science','Hindi']),\n",
    "  'Ramit': pd.Series([92, 81, 96], index=['Maths','Science','Hindi']),\n",
    "  'Samridhi': pd.Series([89, 91, 88], index=['Maths','Science','Hindi']), \n",
    "  'Riya': pd.Series([81, 71, 67], index=['Maths','Science','Hindi']),\n",
    "  'Mallika': pd.Series([94, 95, 99], index=['Maths','Science','Hindi'])\n",
    "}\n",
    "dFrame1 = pd.DataFrame(ResultSheet)\n",
    "print(dFrame1)\n",
    "dFrame1[\"preeti\"] = [89, 90, 91]\n",
    "dFrame1[\"Arnab\"] = [71, 81, 91]\n",
    "dFrame1[\"Riya\"] = 80\n",
    "print(dFrame1)\n",
    "\n",
    "dFrame2 = dFrame1.drop(['Samridhi','Ramit','Riya'], axis=1)\n",
    "print(dFrame2)\n",
    "\n",
    "\n"
   ]
  },
  {
   "cell_type": "code",
   "execution_count": null,
   "id": "1dbc59e3-6e81-417f-b411-2c658874fd45",
   "metadata": {},
   "outputs": [],
   "source": []
  }
 ],
 "metadata": {
  "kernelspec": {
   "display_name": "Python 3 (ipykernel)",
   "language": "python",
   "name": "python3"
  },
  "language_info": {
   "codemirror_mode": {
    "name": "ipython",
    "version": 3
   },
   "file_extension": ".py",
   "mimetype": "text/x-python",
   "name": "python",
   "nbconvert_exporter": "python",
   "pygments_lexer": "ipython3",
   "version": "3.12.8"
  }
 },
 "nbformat": 4,
 "nbformat_minor": 5
}
