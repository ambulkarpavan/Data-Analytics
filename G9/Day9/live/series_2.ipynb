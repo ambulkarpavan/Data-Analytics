{
 "cells": [
  {
   "cell_type": "code",
   "execution_count": 4,
   "id": "d8dfe1e9-e8e5-4ef3-bb7c-983785388c3c",
   "metadata": {},
   "outputs": [
    {
     "name": "stdout",
     "output_type": "stream",
     "text": [
      "['a' 'b' 'c' 'nan']\n",
      "<U32\n",
      "A    10.0\n",
      "B    20.0\n",
      "C     NaN\n",
      "D    40.0\n",
      "dtype: float64\n",
      "float64\n"
     ]
    }
   ],
   "source": [
    "import numpy as np\n",
    "import pandas as pd\n",
    "\n",
    "s1 = np.array(['a', 'b', 'c', np.nan])\n",
    "print(s1)\n",
    "print(s1.dtype)\n",
    "\n",
    "s2 = pd.Series([10, 20, np.nan, 40], index=['A', 'B', 'C', 'D'])\n",
    "print(s2)\n",
    "print(s2.dtype)"
   ]
  },
  {
   "cell_type": "code",
   "execution_count": 6,
   "id": "70ad2a7c-0aa5-42ea-8662-fbc91471c591",
   "metadata": {},
   "outputs": [
    {
     "name": "stdout",
     "output_type": "stream",
     "text": [
      "[nan {'name': 'Google'} 123]\n",
      "object\n",
      "[False  True False False False]\n"
     ]
    }
   ],
   "source": [
    "ar_3 = np.array([np.nan, {'name': 'Google'}, 123])\n",
    "print(ar_3)\n",
    "print(ar_3.dtype)\n",
    "ar_4 = np.array([1, np.nan, 4, 8, 13])\n",
    "print(np.isnan(ar_4))\n"
   ]
  },
  {
   "cell_type": "code",
   "execution_count": 7,
   "id": "a90dd90b-5020-45ac-b3cc-cab7c1e339c8",
   "metadata": {},
   "outputs": [
    {
     "name": "stdout",
     "output_type": "stream",
     "text": [
      "['Alice' 'Bob' None]\n",
      "object\n"
     ]
    }
   ],
   "source": [
    "ar_5 = np.array([\"Alice\", \"Bob\", None])\n",
    "print(ar_5)\n",
    "print(ar_5.dtype)\n"
   ]
  },
  {
   "cell_type": "code",
   "execution_count": 8,
   "id": "69b3381d-ec7c-4c2e-adee-045e0296d877",
   "metadata": {},
   "outputs": [
    {
     "name": "stdout",
     "output_type": "stream",
     "text": [
      "Empty DataFrame\n",
      "Columns: []\n",
      "Index: []\n"
     ]
    }
   ],
   "source": [
    "\n",
    "dFrameEmt = pd.DataFrame()\n",
    "print(dFrameEmt)\n"
   ]
  },
  {
   "cell_type": "code",
   "execution_count": 9,
   "id": "bcc8885b-8965-41df-8299-d05f8bba849b",
   "metadata": {},
   "outputs": [
    {
     "name": "stdout",
     "output_type": "stream",
     "text": [
      "     A    B    C     D\n",
      "0   10   20   30   NaN\n",
      "1  -10  -20  -30 -40.0\n",
      "2  100  200  300   NaN\n"
     ]
    }
   ],
   "source": [
    "array1 = np.array([10,20,30])\n",
    "array2 = np.array([100,200,300])\n",
    "array3 = np.array([-10,-20,-30, -40])\n",
    "dFrame2 = pd.DataFrame([array1, array3, array2], columns=[ 'A', 'B', 'C', 'D'])\n",
    "print(dFrame2)\n"
   ]
  },
  {
   "cell_type": "code",
   "execution_count": 10,
   "id": "994c36c4-fe3e-431f-8142-61041d60ba1d",
   "metadata": {},
   "outputs": [
    {
     "name": "stdout",
     "output_type": "stream",
     "text": [
      "    a   b     c\n",
      "0  10  20   NaN\n",
      "1   5  10  20.0\n"
     ]
    }
   ],
   "source": [
    "listDict = [{'a':10, 'b':20}, {'a':5, 'b':10, 'c':20}]\n",
    "dFrame3 = pd.DataFrame(listDict)\n",
    "print(dFrame3)\n"
   ]
  },
  {
   "cell_type": "code",
   "execution_count": 12,
   "id": "374f6452-85af-42c2-8c1f-a94241ede0b5",
   "metadata": {},
   "outputs": [
    {
     "name": "stdout",
     "output_type": "stream",
     "text": [
      "    State      VDF  GArea\n",
      "0   Assam  2797.00  78438\n",
      "1   Delhi     6.72   1483\n",
      "2  Kerala  1663.00  38852\n"
     ]
    }
   ],
   "source": [
    "\n",
    "dictForest = {'State': ['Assam', 'Delhi', 'Kerala'], 'GArea': [78438, 1483, 38852] ,'VDF' : [2797, 6.72,1663]}\n",
    "dFrame4 = pd.DataFrame(dictForest, columns = ['State','VDF', 'GArea'])\n",
    "print(dFrame4)\n"
   ]
  },
  {
   "cell_type": "code",
   "execution_count": 13,
   "id": "6d74089f-90a5-407b-a75b-6860c10281e5",
   "metadata": {},
   "outputs": [
    {
     "name": "stdout",
     "output_type": "stream",
     "text": [
      "        a       b       c       d       e     z     y\n",
      "0     1.0     2.0     3.0     4.0     5.0   NaN   NaN\n",
      "1  1000.0  2000.0 -1000.0 -5000.0  1000.0   NaN   NaN\n",
      "2   -10.0     NaN   -50.0     NaN   100.0  10.0  20.0\n"
     ]
    }
   ],
   "source": [
    "seriesA = pd.Series([1,2,3,4,5], index = ['a', 'b', 'c', 'd', 'e'])\n",
    "seriesB = pd.Series ([1000,2000,-1000,-5000,1000], index = ['a', 'b', 'c', 'd', 'e'])\n",
    "seriesC = pd.Series([10,20,-10,-50,100], index = ['z', 'y', 'a', 'c', 'e'])\n",
    "dFrame6 = pd.DataFrame([seriesA, seriesB, seriesC])\n",
    "print(dFrame6)\n"
   ]
  },
  {
   "cell_type": "code",
   "execution_count": 14,
   "id": "46cc90f7-ae22-41ef-8725-321874beb8d1",
   "metadata": {},
   "outputs": [
    {
     "name": "stdout",
     "output_type": "stream",
     "text": [
      "         Arnab  Ramit  Samridhi  Riya  Mallika\n",
      "Maths       90     92        89    81       94\n",
      "Science     91     81        91    71       95\n",
      "Hindi       97     96        88    67       99\n"
     ]
    }
   ],
   "source": [
    "ResultSheet={\n",
    "  'Arnab': pd.Series([90, 91, 97], index=['Maths','Science','Hindi']),\n",
    "  'Ramit': pd.Series([92, 81, 96], index=['Maths','Science','Hindi']),\n",
    "  'Samridhi': pd.Series([89, 91, 88], index=['Maths','Science','Hindi']), \n",
    "  'Riya': pd.Series([81, 71, 67], index=['Maths','Science','Hindi']),\n",
    "  'Mallika': pd.Series([94, 95, 99], index=['Maths','Science','Hindi'])\n",
    "}\n",
    "\n",
    "# x = {'a':10, 'b':20}\n",
    "dFrame7 = pd.DataFrame(ResultSheet)\n",
    "print(dFrame7)\n"
   ]
  },
  {
   "cell_type": "code",
   "execution_count": 16,
   "id": "7f0cef4d-2c66-4f65-9750-13f3d7b6c60d",
   "metadata": {},
   "outputs": [
    {
     "name": "stdout",
     "output_type": "stream",
     "text": [
      "    C1  C2  C3   C4\n",
      "R1   1   2   3  4.0\n",
      "R2  10   9   8  7.0\n",
      "R3  15  14  13  NaN\n",
      "<class 'pandas.core.frame.DataFrame'>\n",
      "Index: 3 entries, R1 to R3\n",
      "Data columns (total 4 columns):\n",
      " #   Column  Non-Null Count  Dtype  \n",
      "---  ------  --------------  -----  \n",
      " 0   C1      3 non-null      int64  \n",
      " 1   C2      3 non-null      int64  \n",
      " 2   C3      3 non-null      int64  \n",
      " 3   C4      2 non-null      float64\n",
      "dtypes: float64(1), int64(3)\n",
      "memory usage: 120.0+ bytes\n"
     ]
    }
   ],
   "source": [
    "array_2D = [np.arange(1, 5, 1), np.arange(10, 6, -1), np.arange(15, 12, -1)]\n",
    "dFrame8 = pd.DataFrame(array_2D,\n",
    "                       index = ['R1', 'R2', 'R3'],\n",
    "                       columns = ['C1', 'C2', 'C3', 'C4'])\n",
    "print(dFrame8)\n",
    "dFrame8.info()"
   ]
  },
  {
   "cell_type": "code",
   "execution_count": 19,
   "id": "f336f72f-09c7-4bd7-8976-28338dd4f864",
   "metadata": {},
   "outputs": [
    {
     "name": "stdout",
     "output_type": "stream",
     "text": [
      "      Name   Age      City\n",
      "0    Alice  25.0  New York\n",
      "1      Bob   NaN     Paris\n",
      "2  Charlie  35.0    London\n",
      "df.dtypes :\n",
      " Name     object\n",
      "Age     float64\n",
      "City     object\n",
      "dtype: object\n",
      "\n",
      "df.shape : (3, 3)\n",
      "df.size : 9\n",
      "df.empty : False\n"
     ]
    }
   ],
   "source": [
    "data = {\n",
    "    'Name': ['Alice', 'Bob', 'Charlie'],\n",
    "    'Age': [25, np.nan, 35],\n",
    "    'City': ['New York', 'Paris', 'London']\n",
    "}\n",
    "\n",
    "df = pd.DataFrame(data)\n",
    "print(df)\n",
    "\n",
    "# print(\"df.index :\", df.index)\n",
    "# print(\"df.columns :\", df.columns)\n",
    "# print(\"df.values :\\n\", df.values)\n",
    "# print(\"df.T :\\n\", df.T)\n",
    "print(\"df.dtypes :\\n\", df.dtypes)\n",
    "print(\"\\ndf.shape :\", df.shape)\n",
    "print(\"df.size :\", df.size)\n",
    "print(\"df.empty :\", df.empty)\n"
   ]
  },
  {
   "cell_type": "code",
   "execution_count": 34,
   "id": "e68c4a51-7cd7-45de-82a4-f9b145a4e852",
   "metadata": {},
   "outputs": [
    {
     "name": "stdout",
     "output_type": "stream",
     "text": [
      "         Arnab  Ramit  Samridhi  Riya  Mallika\n",
      "Maths       90     92        89    81       94\n",
      "Science     91     81        91    71       95\n",
      "Hindi       97     96        88    67       99\n",
      "Maths      90\n",
      "Science    91\n",
      "Name: Arnab, dtype: int64\n",
      "         Arnab  Ramit  Samridhi\n",
      "Maths       90     92        89\n",
      "Science     91     81        91\n",
      "         Arnab  Samridhi\n",
      "Maths       90        89\n",
      "Science     91        91\n"
     ]
    }
   ],
   "source": [
    "ResultSheet = {\n",
    "  'Arnab': pd.Series([90, 91, 97], index=['Maths','Science','Hindi']),\n",
    "  'Ramit': pd.Series([92, 81, 96], index=['Maths','Science','Hindi']),\n",
    "  'Samridhi': pd.Series([89, 91, 88], index=['Maths','Science','Hindi']), \n",
    "  'Riya': pd.Series([81, 71, 67], index=['Maths','Science','Hindi']),\n",
    "  'Mallika': pd.Series([94, 95, 99], index=['Maths','Science','Hindi'])\n",
    "}\n",
    "dFrame1 = pd.DataFrame(ResultSheet)\n",
    "print(dFrame1)\n",
    "# print(dFrame1.at['Maths', 'Samridhi'], end = '\\n\\n')\n",
    "# print(dFrame1.iat[0, 2], end = '\\n\\n')\n",
    "# print(dFrame1[['Arnab', 'Riya']])\n",
    "# print(dFrame1.loc['Maths'])\n",
    "# print(dFrame1.loc['Maths':'Hindi'])\n",
    "# print(dFrame1.iloc[0:2])\n",
    "\n",
    "# print(dFrame1.loc['Maths'] > 90)\n",
    "\n",
    "# print(dFrame1.loc[[True, False, True]])\n",
    "\n",
    "\n",
    "print(dFrame1.loc['Maths': 'Science', 'Arnab'])\n",
    "print(dFrame1.loc['Maths': 'Science', 'Arnab':'Samridhi'])\n",
    "print(dFrame1.loc['Maths': 'Science',['Arnab','Samridhi']])"
   ]
  },
  {
   "cell_type": "code",
   "execution_count": 37,
   "id": "70d68f87-46b6-4762-90fb-d830327e1abc",
   "metadata": {},
   "outputs": [
    {
     "name": "stdout",
     "output_type": "stream",
     "text": [
      "0     True\n",
      "1    False\n",
      "2     True\n",
      "dtype: bool\n"
     ]
    }
   ],
   "source": [
    "series_4 = pd.Series([True, False, True])\n",
    "#is same as series_4 = pd.Series([True, False, True, np.nan], dtype = pd.BooleanDtype())\n",
    "print(series_4)\n"
   ]
  },
  {
   "cell_type": "code",
   "execution_count": null,
   "id": "af801dfa-e019-4ddb-90e1-f2946204c440",
   "metadata": {},
   "outputs": [],
   "source": []
  }
 ],
 "metadata": {
  "kernelspec": {
   "display_name": "Python 3 (ipykernel)",
   "language": "python",
   "name": "python3"
  },
  "language_info": {
   "codemirror_mode": {
    "name": "ipython",
    "version": 3
   },
   "file_extension": ".py",
   "mimetype": "text/x-python",
   "name": "python",
   "nbconvert_exporter": "python",
   "pygments_lexer": "ipython3",
   "version": "3.12.8"
  }
 },
 "nbformat": 4,
 "nbformat_minor": 5
}
