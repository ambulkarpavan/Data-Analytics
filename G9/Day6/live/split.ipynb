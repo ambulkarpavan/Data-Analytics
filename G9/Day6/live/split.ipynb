{
 "cells": [
  {
   "cell_type": "code",
   "execution_count": 4,
   "id": "64bc76ed-8201-42aa-8b6b-aacd2c293793",
   "metadata": {},
   "outputs": [
    {
     "name": "stdout",
     "output_type": "stream",
     "text": [
      "[[ 0.  1.  2.  3.  4.  5.]\n",
      " [ 6.  7.  8.  9. 10. 11.]\n",
      " [12. 13. 14. 15. 16. 17.]\n",
      " [18. 19. 20. 21. 22. 23.]]\n",
      "[array([[0., 1., 2., 3., 4., 5.]]), array([[ 6.,  7.,  8.,  9., 10., 11.]]), array([[12., 13., 14., 15., 16., 17.]]), array([[18., 19., 20., 21., 22., 23.]])]\n",
      "\n"
     ]
    }
   ],
   "source": [
    "import numpy as np\n",
    "ar_1 = np.arange(24.0).reshape(4, 6)\n",
    "print(ar_1)\n",
    "print(np.vsplit(ar_1, 4), end = \"\\n\\n\")\n",
    "\n"
   ]
  },
  {
   "cell_type": "code",
   "execution_count": 10,
   "id": "5a6e1f66-f199-44a7-9fe0-c308ddcce92e",
   "metadata": {},
   "outputs": [
    {
     "name": "stdout",
     "output_type": "stream",
     "text": [
      "[array([0, 1, 2, 3]), array([4, 5, 6, 7])]\n",
      "\n",
      "[array([0, 1]), array([2, 3, 4, 5]), array([6, 7])]\n"
     ]
    }
   ],
   "source": [
    "ar_2 = np.arange(8)\n",
    "print(np.split(ar_2, 2))\n",
    "print()\n",
    "print(np.split(ar_2, (2,6)))\n",
    "\n"
   ]
  },
  {
   "cell_type": "code",
   "execution_count": 11,
   "id": "c49f7d8d-5f16-42e5-8185-622b3aa83bbe",
   "metadata": {},
   "outputs": [
    {
     "name": "stdout",
     "output_type": "stream",
     "text": [
      "[array([[0, 1, 2, 3],\n",
      "       [4, 5, 6, 7]]), array([[ 8,  9, 10, 11],\n",
      "       [12, 13, 14, 15]])]\n",
      "[array([[ 0,  1],\n",
      "       [ 4,  5],\n",
      "       [ 8,  9],\n",
      "       [12, 13]]), array([[ 2,  3],\n",
      "       [ 6,  7],\n",
      "       [10, 11],\n",
      "       [14, 15]])]\n",
      "\n",
      "[array([[0, 1, 2, 3]]), array([[ 4,  5,  6,  7],\n",
      "       [ 8,  9, 10, 11],\n",
      "       [12, 13, 14, 15]]), array([], shape=(0, 4), dtype=int64)]\n"
     ]
    }
   ],
   "source": [
    "ar_3 = np.arange(16).reshape(4, 4)\n",
    "print(np.split(ar_3, 2))\n",
    "print(np.split(ar_3, 2, axis = 1))\n",
    "print()\n",
    "print(np.split(ar_3, [1, 4]))\n"
   ]
  },
  {
   "cell_type": "code",
   "execution_count": 12,
   "id": "31cec124-81b8-4960-8031-b5d191a25f46",
   "metadata": {},
   "outputs": [
    {
     "name": "stdout",
     "output_type": "stream",
     "text": [
      "[array([0., 1., 2.]), array([3., 4., 5.]), array([6., 7.])]\n"
     ]
    }
   ],
   "source": [
    "ar_4 = np.arange(8.0)\n",
    "print(np.array_split(ar_4, 3))\n",
    "\n"
   ]
  },
  {
   "cell_type": "code",
   "execution_count": 16,
   "id": "a7a2dc12-b83d-40c5-a6a1-34c394fb48a9",
   "metadata": {},
   "outputs": [
    {
     "name": "stdout",
     "output_type": "stream",
     "text": [
      "[array([[0, 1, 2, 3]]), array([[4, 5, 6, 7]]), array([[ 8,  9, 10, 11]]), array([], shape=(0, 4), dtype=int64)]\n",
      "[array([[0, 1],\n",
      "       [4, 5],\n",
      "       [8, 9]]), array([[ 2],\n",
      "       [ 6],\n",
      "       [10]]), array([[ 3],\n",
      "       [ 7],\n",
      "       [11]])]\n"
     ]
    }
   ],
   "source": [
    "ar_5 = np.arange(12).reshape((3, 4))\n",
    "print(np.array_split(ar_5, 4))\n",
    "print(np.array_split(ar_5, 3, axis = 1))\n"
   ]
  },
  {
   "cell_type": "code",
   "execution_count": 17,
   "id": "56d3f99c-0325-4a19-ba4d-5beafa1d83c4",
   "metadata": {},
   "outputs": [
    {
     "name": "stdout",
     "output_type": "stream",
     "text": [
      "[1 2 3 4 5 6 7 8 9]\n"
     ]
    }
   ],
   "source": [
    "\n",
    "ar_1 = np.arange(1, 4)\n",
    "ar_2 = np.arange(4, 10).reshape(2,3)\n",
    "ar_3 = np.append(ar_1, ar_2)\n",
    "print(ar_3)\n"
   ]
  },
  {
   "cell_type": "code",
   "execution_count": 18,
   "id": "667ae0ec-8365-4f84-99ff-9e1372542fc0",
   "metadata": {},
   "outputs": [
    {
     "name": "stdout",
     "output_type": "stream",
     "text": [
      "[[1 2 3]\n",
      " [4 5 6]\n",
      " [7 8 9]]\n"
     ]
    }
   ],
   "source": [
    "ar_4 = np.arange(1, 7).reshape(2, 3)\n",
    "ar_5 = np.arange(7, 10).reshape(1, 3)\n",
    "ar_6 = np.append(ar_4, ar_5, axis=0)\n",
    "print(ar_6)\n"
   ]
  },
  {
   "cell_type": "code",
   "execution_count": 19,
   "id": "b741edac-d741-48fd-a79a-e16901804080",
   "metadata": {},
   "outputs": [
    {
     "name": "stdout",
     "output_type": "stream",
     "text": [
      "[[1 2 5]\n",
      " [3 4 6]]\n"
     ]
    }
   ],
   "source": [
    "ar_7 = np.array([[1, 2], [3, 4]])\n",
    "ar_8 = np.array([[5], [6]])\n",
    "result = np.append(ar_7, ar_8, axis=1)\n",
    "print(result)\n"
   ]
  },
  {
   "cell_type": "code",
   "execution_count": 20,
   "id": "88ef49da-5e2d-4c60-b35a-de9c2095cfb8",
   "metadata": {},
   "outputs": [
    {
     "name": "stdout",
     "output_type": "stream",
     "text": [
      "[0 6 1 2 3 4 5]\n"
     ]
    }
   ],
   "source": [
    "\n",
    "ar_10 = np.insert(ar_9, 1, 6)\n",
    "print(ar_10)\n"
   ]
  },
  {
   "cell_type": "code",
   "execution_count": 21,
   "id": "4d02dcfa-9366-4429-918c-d49a155168a6",
   "metadata": {},
   "outputs": [
    {
     "name": "stdout",
     "output_type": "stream",
     "text": [
      "[[0 6 1]\n",
      " [2 6 3]\n",
      " [4 6 5]]\n"
     ]
    }
   ],
   "source": [
    "ar_9 = np.arange(6).reshape(3, 2)\n",
    "ar_11 = np.insert(ar_9, 1, 6, axis=1)\n",
    "print(ar_11)\n"
   ]
  },
  {
   "cell_type": "code",
   "execution_count": 23,
   "id": "f9de0a8a-1c00-4ead-b207-c5585102ed26",
   "metadata": {},
   "outputs": [
    {
     "name": "stdout",
     "output_type": "stream",
     "text": [
      "[[0 7 1]\n",
      " [2 8 3]\n",
      " [4 9 5]]\n",
      "[[0 7 8 9 1]\n",
      " [2 7 8 9 3]\n",
      " [4 7 8 9 5]]\n"
     ]
    }
   ],
   "source": [
    "ar_9 = np.arange(6).reshape(3, 2)\n",
    "ar_12 = np.insert(ar_9, [1], [[7],[8],[9]], axis=1)\n",
    "print(ar_12 )\n",
    "a = np.arange(6).reshape(3, 2)\n",
    "b = np.insert(a, 1, [[7],[8],[9]], axis=1)\n",
    "print(b)\n",
    "\n"
   ]
  },
  {
   "cell_type": "code",
   "execution_count": 24,
   "id": "07e02d03-df52-4127-a172-ff00f01cb5ca",
   "metadata": {},
   "outputs": [
    {
     "name": "stdout",
     "output_type": "stream",
     "text": [
      "[[ 1  2  3  4]\n",
      " [ 9 10 11 12]]\n"
     ]
    }
   ],
   "source": [
    "ar_13 = np.array([[1,2,3,4], [5,6,7,8], [9,10,11,12]])\n",
    "ar_14 = np.delete(ar_13, 1, axis = 0)\n",
    "print(ar_14)\n"
   ]
  },
  {
   "cell_type": "code",
   "execution_count": 25,
   "id": "f9df1824-f850-4dd6-9975-1d08525e48ee",
   "metadata": {},
   "outputs": [
    {
     "name": "stdout",
     "output_type": "stream",
     "text": [
      "[ 1  3  5  7  8  9 10 11 12]\n"
     ]
    }
   ],
   "source": [
    "a = np.arange(1, 13).reshape(3, 4)\n",
    "b = np.delete(a, [1,3,5], None)\n",
    "print(b)\n"
   ]
  },
  {
   "cell_type": "code",
   "execution_count": null,
   "id": "d083ebc8-d65d-40f2-9204-20d54c548daa",
   "metadata": {},
   "outputs": [],
   "source": []
  }
 ],
 "metadata": {
  "kernelspec": {
   "display_name": "Python 3 (ipykernel)",
   "language": "python",
   "name": "python3"
  },
  "language_info": {
   "codemirror_mode": {
    "name": "ipython",
    "version": 3
   },
   "file_extension": ".py",
   "mimetype": "text/x-python",
   "name": "python",
   "nbconvert_exporter": "python",
   "pygments_lexer": "ipython3",
   "version": "3.12.8"
  }
 },
 "nbformat": 4,
 "nbformat_minor": 5
}
