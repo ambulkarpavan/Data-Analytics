{
 "cells": [
  {
   "cell_type": "code",
   "execution_count": 6,
   "id": "6c3e5436-be61-487a-92ae-d4bbe4acffb4",
   "metadata": {},
   "outputs": [
    {
     "name": "stdout",
     "output_type": "stream",
     "text": [
      "[[ 0.  1.  2.  3.  4.  5.]\n",
      " [ 6.  7.  8.  9. 10. 11.]\n",
      " [12. 13. 14. 15. 16. 17.]\n",
      " [18. 19. 20. 21. 22. 23.]]\n",
      "[array([[ 0.,  1.,  2.,  3.,  4.,  5.],\n",
      "       [ 6.,  7.,  8.,  9., 10., 11.]]), array([[12., 13., 14., 15., 16., 17.],\n",
      "       [18., 19., 20., 21., 22., 23.]])]\n",
      "\n"
     ]
    }
   ],
   "source": [
    "import numpy as np\n",
    "ar_1 = np.arange(24.0).reshape(4, 6)\n",
    "print(ar_1)\n",
    "print(np.vsplit(ar_1,2 ), end = \"\\n\\n\")\n",
    "\n"
   ]
  },
  {
   "cell_type": "code",
   "execution_count": 8,
   "id": "997c31e6-2039-42e1-9e53-a8c720982ff8",
   "metadata": {},
   "outputs": [
    {
     "name": "stdout",
     "output_type": "stream",
     "text": [
      "[array([0, 1, 2, 3]), array([4, 5, 6, 7])]\n",
      "[array([0, 1]), array([2, 3, 4, 5]), array([6, 7])]\n"
     ]
    }
   ],
   "source": [
    "ar_2 = np.arange(8)\n",
    "print(np.split(ar_2, 2))\n",
    "print(np.split(ar_2, (2,6)))\n"
   ]
  },
  {
   "cell_type": "code",
   "execution_count": 11,
   "id": "29c0ca57-ca74-4ac5-b5c9-a120038623c8",
   "metadata": {},
   "outputs": [
    {
     "name": "stdout",
     "output_type": "stream",
     "text": [
      "[[ 0  1  2  3]\n",
      " [ 4  5  6  7]\n",
      " [ 8  9 10 11]\n",
      " [12 13 14 15]]\n",
      "\n",
      "[array([[ 0,  1],\n",
      "       [ 4,  5],\n",
      "       [ 8,  9],\n",
      "       [12, 13]]), array([[ 2,  3],\n",
      "       [ 6,  7],\n",
      "       [10, 11],\n",
      "       [14, 15]])]\n"
     ]
    }
   ],
   "source": [
    "ar_3 = np.arange(16).reshape(4, 4)\n",
    "print(ar_3)\n",
    "print()\n",
    "print(np.split(ar_3, 2, axis = 1))\n",
    "\n"
   ]
  },
  {
   "cell_type": "code",
   "execution_count": 15,
   "id": "e9225262-b71f-4374-8d22-7e4669747400",
   "metadata": {},
   "outputs": [
    {
     "name": "stdout",
     "output_type": "stream",
     "text": [
      "[array([0., 1., 2.]), array([3., 4., 5.]), array([6., 7.])]\n",
      "[[ 0  1  2  3]\n",
      " [ 4  5  6  7]\n",
      " [ 8  9 10 11]]\n",
      "\n",
      "[array([[0, 1, 2, 3]]), array([[4, 5, 6, 7]]), array([[ 8,  9, 10, 11]]), array([], shape=(0, 4), dtype=int64)]\n"
     ]
    }
   ],
   "source": [
    "ar_4 = np.arange(8.0)\n",
    "print(np.array_split(ar_4, 3))\n",
    "ar_5 = np.arange(12).reshape((3, 4))\n",
    "print(ar_5)\n",
    "print()\n",
    "print(np.array_split(ar_5, 4))\n",
    "\n"
   ]
  },
  {
   "cell_type": "code",
   "execution_count": 16,
   "id": "47d02881-07e9-4a0d-be60-97cfde48b2d4",
   "metadata": {},
   "outputs": [
    {
     "name": "stdout",
     "output_type": "stream",
     "text": [
      "[1 2 3 4 5 6 7 8 9]\n"
     ]
    }
   ],
   "source": [
    "\n",
    "ar_1 = np.arange(1, 4)\n",
    "ar_2 = np.arange(4, 10).reshape(2,3)\n",
    "ar_3 = np.append(ar_1, ar_2)\n",
    "print(ar_3)\n"
   ]
  },
  {
   "cell_type": "code",
   "execution_count": 17,
   "id": "f2ab578b-1867-4385-a0b5-b18b8a50ea89",
   "metadata": {},
   "outputs": [
    {
     "name": "stdout",
     "output_type": "stream",
     "text": [
      "[[1 2 3]\n",
      " [4 5 6]\n",
      " [7 8 9]]\n"
     ]
    }
   ],
   "source": [
    "ar_4 = np.arange(1, 7).reshape(2, 3)\n",
    "ar_5 = np.arange(7, 10).reshape(1, 3)\n",
    "ar_6 = np.append(ar_4, ar_5, axis=0)\n",
    "print(ar_6)\n"
   ]
  },
  {
   "cell_type": "code",
   "execution_count": 18,
   "id": "68c68332-6acb-4307-9508-202098d45cbd",
   "metadata": {},
   "outputs": [
    {
     "name": "stdout",
     "output_type": "stream",
     "text": [
      "[[1 2 5]\n",
      " [3 4 6]]\n"
     ]
    }
   ],
   "source": [
    "ar_7 = np.array([[1, 2], [3, 4]])\n",
    "ar_8 = np.array([[5], [6]])\n",
    "result = np.append(ar_7, ar_8, axis=1)\n",
    "print(result)\n"
   ]
  },
  {
   "cell_type": "code",
   "execution_count": 19,
   "id": "aad26fb4-fdb0-4b5c-855e-cd509f148b79",
   "metadata": {},
   "outputs": [
    {
     "ename": "ValueError",
     "evalue": "all the input arrays must have same number of dimensions, but the array at index 0 has 2 dimension(s) and the array at index 1 has 1 dimension(s)",
     "output_type": "error",
     "traceback": [
      "\u001b[31m---------------------------------------------------------------------------\u001b[39m",
      "\u001b[31mValueError\u001b[39m                                Traceback (most recent call last)",
      "\u001b[36mCell\u001b[39m\u001b[36m \u001b[39m\u001b[32mIn[19]\u001b[39m\u001b[32m, line 1\u001b[39m\n\u001b[32m----> \u001b[39m\u001b[32m1\u001b[39m \u001b[38;5;28mprint\u001b[39m(\u001b[43mnp\u001b[49m\u001b[43m.\u001b[49m\u001b[43mappend\u001b[49m\u001b[43m(\u001b[49m\u001b[43m[\u001b[49m\u001b[43m[\u001b[49m\u001b[32;43m1\u001b[39;49m\u001b[43m,\u001b[49m\u001b[43m \u001b[49m\u001b[32;43m2\u001b[39;49m\u001b[43m,\u001b[49m\u001b[43m \u001b[49m\u001b[32;43m3\u001b[39;49m\u001b[43m]\u001b[49m\u001b[43m,\u001b[49m\u001b[43m \u001b[49m\u001b[43m[\u001b[49m\u001b[32;43m4\u001b[39;49m\u001b[43m,\u001b[49m\u001b[43m \u001b[49m\u001b[32;43m5\u001b[39;49m\u001b[43m,\u001b[49m\u001b[43m \u001b[49m\u001b[32;43m6\u001b[39;49m\u001b[43m]\u001b[49m\u001b[43m]\u001b[49m\u001b[43m,\u001b[49m\u001b[43m \u001b[49m\u001b[43m[\u001b[49m\u001b[32;43m7\u001b[39;49m\u001b[43m,\u001b[49m\u001b[43m \u001b[49m\u001b[32;43m8\u001b[39;49m\u001b[43m,\u001b[49m\u001b[43m \u001b[49m\u001b[32;43m9\u001b[39;49m\u001b[43m]\u001b[49m\u001b[43m,\u001b[49m\u001b[43m \u001b[49m\u001b[43maxis\u001b[49m\u001b[43m=\u001b[49m\u001b[32;43m0\u001b[39;49m\u001b[43m)\u001b[49m)\n",
      "\u001b[36mFile \u001b[39m\u001b[32m~\\AppData\\Local\\Programs\\Python\\Python312\\Lib\\site-packages\\numpy\\lib\\_function_base_impl.py:5821\u001b[39m, in \u001b[36mappend\u001b[39m\u001b[34m(arr, values, axis)\u001b[39m\n\u001b[32m   5819\u001b[39m     values = ravel(values)\n\u001b[32m   5820\u001b[39m     axis = arr.ndim-\u001b[32m1\u001b[39m\n\u001b[32m-> \u001b[39m\u001b[32m5821\u001b[39m \u001b[38;5;28;01mreturn\u001b[39;00m \u001b[43mconcatenate\u001b[49m\u001b[43m(\u001b[49m\u001b[43m(\u001b[49m\u001b[43marr\u001b[49m\u001b[43m,\u001b[49m\u001b[43m \u001b[49m\u001b[43mvalues\u001b[49m\u001b[43m)\u001b[49m\u001b[43m,\u001b[49m\u001b[43m \u001b[49m\u001b[43maxis\u001b[49m\u001b[43m=\u001b[49m\u001b[43maxis\u001b[49m\u001b[43m)\u001b[49m\n",
      "\u001b[31mValueError\u001b[39m: all the input arrays must have same number of dimensions, but the array at index 0 has 2 dimension(s) and the array at index 1 has 1 dimension(s)"
     ]
    }
   ],
   "source": [
    "print(np.append([[1, 2, 3], [4, 5, 6]], [7, 8, 9], axis=0))"
   ]
  },
  {
   "cell_type": "code",
   "execution_count": 25,
   "id": "904b1fd7-8fc6-4304-a998-5a4bbcd398a4",
   "metadata": {},
   "outputs": [
    {
     "name": "stdout",
     "output_type": "stream",
     "text": [
      "[[0 1]\n",
      " [2 3]\n",
      " [4 5]]\n",
      "[[0 7 8 9 1]\n",
      " [2 7 8 9 3]\n",
      " [4 7 8 9 5]]\n"
     ]
    }
   ],
   "source": [
    "ar_9 = np.arange(6).reshape(3, 2)\n",
    "print(ar_9)\n",
    "# ar_10 = np.insert(ar_9, 1, 6)\n",
    "# print(ar_10)\n",
    "\n",
    "# ar_11 = np.insert(ar_9, 1, 6, axis=1)\n",
    "# print(ar_11)\n",
    "# print()\n",
    "ar_12 = np.insert(ar_9, 1, [[7],[8],[9]], axis=1)\n",
    "print(ar_12 )\n",
    "\n"
   ]
  },
  {
   "cell_type": "code",
   "execution_count": 26,
   "id": "152959a0-5c5c-4e93-a38e-1b0a45d9960a",
   "metadata": {},
   "outputs": [
    {
     "name": "stdout",
     "output_type": "stream",
     "text": [
      "[[ 1  2  3  4]\n",
      " [ 9 10 11 12]]\n"
     ]
    }
   ],
   "source": [
    "\n",
    "\n",
    "ar_13 = np.array([[1,2,3,4], [5,6,7,8], [9,10,11,12]])\n",
    "ar_14 = np.delete(ar_13, 1, 0)\n",
    "print(ar_14)\n"
   ]
  },
  {
   "cell_type": "code",
   "execution_count": 28,
   "id": "205d288d-3105-4907-a5bd-e9c6c78e163f",
   "metadata": {},
   "outputs": [
    {
     "name": "stdout",
     "output_type": "stream",
     "text": [
      "[[ 1  2  3  4]\n",
      " [ 5  6  7  8]\n",
      " [ 9 10 11 12]]\n",
      "[ 1  3  5  7  8  9 10 11 12]\n"
     ]
    }
   ],
   "source": [
    "a = np.arange(1, 13).reshape(3, 4)\n",
    "print(a)\n",
    "b = np.delete(a, [1,3,5], None)\n",
    "print(b)\n"
   ]
  },
  {
   "cell_type": "code",
   "execution_count": 32,
   "id": "906472d5-a4af-4ffd-8be4-58a6d355b01e",
   "metadata": {},
   "outputs": [
    {
     "name": "stdout",
     "output_type": "stream",
     "text": [
      "[[1 4]\n",
      " [1 3]]\n"
     ]
    }
   ],
   "source": [
    "ar_1 = np.array([[1,4],[3,1]])\n",
    "ar_2 = np.sort(ar_1,  axis = 1)\n",
    "print(ar_2)\n"
   ]
  },
  {
   "cell_type": "code",
   "execution_count": null,
   "id": "d5a113c2-72f5-47b0-a47d-a8832294e742",
   "metadata": {},
   "outputs": [],
   "source": []
  }
 ],
 "metadata": {
  "kernelspec": {
   "display_name": "Python 3 (ipykernel)",
   "language": "python",
   "name": "python3"
  },
  "language_info": {
   "codemirror_mode": {
    "name": "ipython",
    "version": 3
   },
   "file_extension": ".py",
   "mimetype": "text/x-python",
   "name": "python",
   "nbconvert_exporter": "python",
   "pygments_lexer": "ipython3",
   "version": "3.12.8"
  }
 },
 "nbformat": 4,
 "nbformat_minor": 5
}
