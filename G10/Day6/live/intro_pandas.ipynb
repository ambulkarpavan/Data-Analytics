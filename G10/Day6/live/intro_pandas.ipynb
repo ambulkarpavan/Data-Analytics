{
 "cells": [
  {
   "cell_type": "code",
   "execution_count": 3,
   "id": "1603ea32-24ed-41a8-b359-90d2f1bb365d",
   "metadata": {},
   "outputs": [
    {
     "name": "stdout",
     "output_type": "stream",
     "text": [
      "[10 20 30]\n",
      "0    10\n",
      "1    20\n",
      "2    30\n",
      "dtype: int64\n"
     ]
    }
   ],
   "source": [
    "import pandas as pd\n",
    "import numpy as np\n",
    "arr = np.array([10,20,30])\n",
    "print(arr)\n",
    "series1 = pd.Series([10,20,30])\n",
    "print(series1)\n"
   ]
  },
  {
   "cell_type": "code",
   "execution_count": 4,
   "id": "2b85a112-c1d6-4b2b-83a1-c4eaf42f66e1",
   "metadata": {},
   "outputs": [
    {
     "name": "stdout",
     "output_type": "stream",
     "text": [
      "[10 15 20 25 30]\n",
      "0    10\n",
      "1    15\n",
      "2    20\n",
      "3    25\n",
      "4    30\n",
      "dtype: int64\n"
     ]
    }
   ],
   "source": [
    "array1 = np.arange(10, 31, 5)\n",
    "print(array1)\n",
    "series2 = pd.Series(array1)\n",
    "print(series2)\n"
   ]
  },
  {
   "cell_type": "code",
   "execution_count": 5,
   "id": "e964090a-43a3-49f3-909c-3d482c6290d6",
   "metadata": {},
   "outputs": [
    {
     "name": "stdout",
     "output_type": "stream",
     "text": [
      "{'India': 'NewDelhi', 'UK': 'London', 'Japan': 'Tokyo'}\n",
      "India    NewDelhi\n",
      "UK         London\n",
      "Japan       Tokyo\n",
      "dtype: object\n"
     ]
    }
   ],
   "source": [
    "dict1 = {'India': 'NewDelhi', 'UK': 'London', 'Japan': 'Tokyo'}\n",
    "print(dict1)\n",
    "series4 = pd.Series(dict1)\n",
    "print(series4)\n"
   ]
  },
  {
   "cell_type": "code",
   "execution_count": 8,
   "id": "ac554130-5058-4d44-a512-586bc73c1d4f",
   "metadata": {},
   "outputs": [
    {
     "name": "stdout",
     "output_type": "stream",
     "text": [
      "A     Kavi\n",
      "B    Shyam\n",
      "C     Ravi\n",
      "dtype: object\n"
     ]
    }
   ],
   "source": [
    "series3 = pd.Series([\"Kavi\", \"Shyam\", \"Ravi\"], index=['A', 'B','C'])\n",
    "print(series3)\n"
   ]
  },
  {
   "cell_type": "code",
   "execution_count": 18,
   "id": "5b391609-5754-4787-8608-b829436402d9",
   "metadata": {},
   "outputs": [
    {
     "name": "stdout",
     "output_type": "stream",
     "text": [
      "USA       WashingtonDC\n",
      "UK              London\n",
      "France           Paris\n",
      "dtype: object\n"
     ]
    }
   ],
   "source": [
    "country_cap_series = pd.Series(['NewDelhi', 'WashingtonDC', 'London', 'Paris'], index=['India', 'USA', 'UK', 'France'])\n",
    "\n",
    "# country_cap_series.index = [10, 20, 30, 40]\n",
    "# print(country_cap_series)\n",
    "# print(country_cap_series[1:3])\n",
    "# print()\n",
    "print(country_cap_series['USA':'France'])\n",
    "\n"
   ]
  },
  {
   "cell_type": "code",
   "execution_count": 19,
   "id": "ddc1bb1a-67eb-4397-b6e0-5e10a6e895d7",
   "metadata": {},
   "outputs": [
    {
     "name": "stdout",
     "output_type": "stream",
     "text": [
      "a    10\n",
      "b    50\n",
      "c    50\n",
      "d    13\n",
      "e    14\n",
      "f    15\n",
      "dtype: int64\n"
     ]
    }
   ],
   "source": [
    "seriesAlph = pd.Series(np.arange(10, 16, 1), index = ['a', 'b', 'c', 'd', 'e', 'f'])\n",
    "seriesAlph[1:3] = 50\n",
    "print(seriesAlph)\n"
   ]
  },
  {
   "cell_type": "code",
   "execution_count": 24,
   "id": "0e642f13-8465-44b2-9878-882b372f30dc",
   "metadata": {},
   "outputs": [
    {
     "name": "stdout",
     "output_type": "stream",
     "text": [
      "0    100\n",
      "1    200\n",
      "2    300\n",
      "Name: Salary, dtype: int64\n",
      "EmpID\n",
      "0    100\n",
      "1    200\n",
      "2    300\n",
      "Name: Salary, dtype: int64\n",
      "False\n"
     ]
    }
   ],
   "source": [
    "import pandas as pd\n",
    "s = pd.Series([100, 200, 300])\n",
    "s.name = \"Salary\"\n",
    "print(s)\n",
    "s.index.name = \"EmpID\"\n",
    "print(s)\n",
    "print(s.empty)\n",
    "\n"
   ]
  },
  {
   "cell_type": "code",
   "execution_count": 28,
   "id": "d53c6a97-0153-4b28-9934-46ef404b6b44",
   "metadata": {},
   "outputs": [
    {
     "name": "stdout",
     "output_type": "stream",
     "text": [
      "First 2 elements of s1 (head(2)):\n",
      " A    10.0\n",
      "B    20.0\n",
      "dtype: float64\n",
      "\n",
      "Last 3 elements of s2 (tail(3)):\n",
      " B    1\n",
      "C    2\n",
      "D    3\n",
      "E    4\n",
      "F    5\n",
      "dtype: int64\n",
      "\n",
      "Number of non-NaN values in s1 (count()): 3\n"
     ]
    }
   ],
   "source": [
    "s1 = pd.Series([10, 20, np.nan, 40], index=['A', 'B', 'C', 'D'])\n",
    "s2 = pd.Series([1, 2, 3, 4, 5], index=['B', 'C', 'D', 'E', 'F'])\n",
    "\n",
    "print(\"First 2 elements of s1 (head(2)):\\n\", s1.head(2))\n",
    "print(\"\\nLast 3 elements of s2 (tail(3)):\\n\", s2.tail())\n",
    "print(\"\\nNumber of non-NaN values in s1 (count()):\", s1.count())\n",
    "\n",
    "\n"
   ]
  },
  {
   "cell_type": "code",
   "execution_count": 30,
   "id": "8d4e028f-1396-466d-be97-37c95c45e562",
   "metadata": {},
   "outputs": [
    {
     "name": "stdout",
     "output_type": "stream",
     "text": [
      "s1 + s2 (default NaN handling):\n",
      " A     NaN\n",
      "B    21.0\n",
      "C     NaN\n",
      "D    43.0\n",
      "E     NaN\n",
      "F     NaN\n",
      "dtype: float64\n",
      "\n",
      "s1 + s2 (with fill_value=0):\n",
      " A    10.0\n",
      "B    21.0\n",
      "C     2.0\n",
      "D    43.0\n",
      "E     4.0\n",
      "F     5.0\n",
      "dtype: float64\n"
     ]
    }
   ],
   "source": [
    "s1 = pd.Series([10, 20, np.nan, 40], index=['A', 'B', 'C', 'D'])\n",
    "s2 = pd.Series([1, 2, 3, 4, 5], index=['B', 'C', 'D', 'E', 'F'])\n",
    "\n",
    "add_default = s1 + s2\n",
    "print(\"s1 + s2 (default NaN handling):\\n\", add_default)\n",
    "add_filled = s1.add(s2, fill_value=0)\n",
    "print(\"\\ns1 + s2 (with fill_value=0):\\n\", add_filled)\n",
    "\n"
   ]
  },
  {
   "cell_type": "code",
   "execution_count": 31,
   "id": "4b8f57c7-58df-43bb-a7fb-5d3195a6d4e0",
   "metadata": {},
   "outputs": [
    {
     "name": "stdout",
     "output_type": "stream",
     "text": [
      "[('Arthur', 1.8, 41) ('Lancelot', 1.9, 38) ('Galahad', 1.7, 38)]\n",
      "\n"
     ]
    }
   ],
   "source": [
    "values = [('Arthur', 1.8, 41), ('Lancelot', 1.9, 38), ('Galahad', 1.7, 38)]\n",
    "\n",
    "\n",
    "dtype = [('name', 'U10'), ('height', float), ('age', int)]\n",
    "\n",
    "\n",
    "ar_5 = np.array(values, dtype=dtype)\n",
    "print(ar_5, end = '\\n\\n')\n"
   ]
  },
  {
   "cell_type": "code",
   "execution_count": null,
   "id": "da163ab9-b9d3-48ee-8e35-bc15693ef07d",
   "metadata": {},
   "outputs": [],
   "source": []
  }
 ],
 "metadata": {
  "kernelspec": {
   "display_name": "Python 3 (ipykernel)",
   "language": "python",
   "name": "python3"
  },
  "language_info": {
   "codemirror_mode": {
    "name": "ipython",
    "version": 3
   },
   "file_extension": ".py",
   "mimetype": "text/x-python",
   "name": "python",
   "nbconvert_exporter": "python",
   "pygments_lexer": "ipython3",
   "version": "3.12.8"
  }
 },
 "nbformat": 4,
 "nbformat_minor": 5
}
