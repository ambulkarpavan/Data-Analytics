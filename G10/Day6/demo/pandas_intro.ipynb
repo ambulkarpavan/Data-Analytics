{
 "cells": [
  {
   "cell_type": "code",
   "execution_count": 4,
   "id": "8bff9ccf-b14d-4a9b-9322-260f9afd1dcd",
   "metadata": {},
   "outputs": [
    {
     "name": "stdout",
     "output_type": "stream",
     "text": [
      "A       10\n",
      "B       20\n",
      "C      NaN\n",
      "D    pavan\n",
      "E       40\n",
      "dtype: object\n"
     ]
    }
   ],
   "source": [
    "import pandas as pd\n",
    "import numpy as np\n",
    "s1 = pd.Series([10, 20, np.nan, 'pavan', 40], index=['A', 'B', 'C', 'D', 'E'])\n",
    "print(s1)"
   ]
  },
  {
   "cell_type": "code",
   "execution_count": 5,
   "id": "d23735cc-9aa8-41db-83e2-34214c287561",
   "metadata": {},
   "outputs": [
    {
     "name": "stdout",
     "output_type": "stream",
     "text": [
      "0    100\n",
      "1    200\n",
      "2    300\n",
      "Name: Salary, dtype: int64\n",
      "EmpID\n",
      "0    100\n",
      "1    200\n",
      "2    300\n",
      "Name: Salary, dtype: int64\n",
      "[100 200 300]\n",
      "3\n",
      "True\n",
      "False\n"
     ]
    }
   ],
   "source": [
    "\n",
    "s = pd.Series([100, 200, 300])\n",
    "s.name = \"Salary\"\n",
    "print(s)\n",
    "s.index.name = \"EmpID\"\n",
    "print(s)\n",
    "print(s.values)\n",
    "print(s.size)\n",
    "\n",
    "empty_series = pd.Series([])\n",
    "print(empty_series.empty)  # True\n",
    "print(s.empty)             # False\n"
   ]
  },
  {
   "cell_type": "code",
   "execution_count": 6,
   "id": "4529a153-5f5e-4417-912b-b32ca0a5cfd9",
   "metadata": {},
   "outputs": [
    {
     "name": "stdout",
     "output_type": "stream",
     "text": [
      "s1 + s2 (default NaN handling):\n",
      " A     NaN\n",
      "B    21.0\n",
      "C     NaN\n",
      "D    43.0\n",
      "E     NaN\n",
      "F     NaN\n",
      "dtype: float64\n"
     ]
    }
   ],
   "source": [
    "s1 = pd.Series([10, 20, np.nan, 40], index=['A', 'B', 'C', 'D'])\n",
    "s2 = pd.Series([1, 2, 3, 4, 5], index=['B', 'C', 'D', 'E', 'F'])\n",
    "\n",
    "add_default = s1 + s2\n",
    "print(\"s1 + s2 (default NaN handling):\\n\", add_default)\n"
   ]
  },
  {
   "cell_type": "code",
   "execution_count": 7,
   "id": "683e5cfc-657a-44ca-831e-a324160cfc43",
   "metadata": {},
   "outputs": [
    {
     "name": "stdout",
     "output_type": "stream",
     "text": [
      "\n",
      "s1 + s2 (with fill_value=0):\n",
      " A    10.0\n",
      "B    21.0\n",
      "C     2.0\n",
      "D    43.0\n",
      "E     4.0\n",
      "F     5.0\n",
      "dtype: float64\n"
     ]
    }
   ],
   "source": [
    "add_filled = s1.add(s2, fill_value=0)\n",
    "print(\"\\ns1 + s2 (with fill_value=0):\\n\", add_filled)\n"
   ]
  },
  {
   "cell_type": "code",
   "execution_count": 14,
   "id": "725efe65-a0b7-4b8c-9d6d-746a1ff527cb",
   "metadata": {},
   "outputs": [
    {
     "name": "stdout",
     "output_type": "stream",
     "text": [
      "Empty DataFrame\n",
      "Columns: []\n",
      "Index: []\n",
      "     A    B    C     D\n",
      "0   10   20   30   NaN\n",
      "1  -10  -20  -30 -40.0\n",
      "2  100  200  300   NaN\n",
      "A      int64\n",
      "B      int64\n",
      "C      int64\n",
      "D    float64\n",
      "dtype: object\n"
     ]
    }
   ],
   "source": [
    "# print(np.append([[1, 2, 3], [4, 5, 6]], [7, 8, 9], axis=1))\n",
    "import pandas as pd\n",
    "dFrameEmt = pd.DataFrame()\n",
    "print(dFrameEmt)\n",
    "\n",
    "array1 = np.array([10,20,30])\n",
    "array2 = np.array([100,200,300])\n",
    "array3 = np.array([-10,-20,-30, -40])\n",
    "dFrame2 = pd.DataFrame([array1, array3, array2], columns=[ 'A', 'B', 'C', 'D'])\n",
    "print(dFrame2)\n",
    "print(dFrame2.dtypes)\n",
    "\n"
   ]
  },
  {
   "cell_type": "code",
   "execution_count": 18,
   "id": "03d0b3b0-36d5-4f9e-8ab2-348db4676091",
   "metadata": {},
   "outputs": [
    {
     "name": "stdout",
     "output_type": "stream",
     "text": [
      "a    float64\n",
      "b    float64\n",
      "c    float64\n",
      "d    float64\n",
      "e    float64\n",
      "z    float64\n",
      "y    float64\n",
      "dtype: object\n",
      "\n",
      "    A   B   C   D\n",
      "0 NaN NaN NaN NaN\n",
      "1 NaN NaN NaN NaN\n",
      "2 NaN NaN NaN NaN\n",
      "A    float64\n",
      "B    float64\n",
      "C    float64\n",
      "D    float64\n",
      "dtype: object\n"
     ]
    }
   ],
   "source": [
    "seriesA = pd.Series([1,2,3,4,5], index = ['a', 'b', 'c', 'd', 'e'])\n",
    "seriesB = pd.Series ([1000,2000,-1000,-5000,1000], index = ['a', 'b', 'c', 'd', 'e'])\n",
    "seriesC = pd.Series([10,20,-10,-50,100], index = ['z', 'y', 'a', 'c', 'e'])\n",
    "dFrame6 = pd.DataFrame([seriesA, seriesB, seriesC])\n",
    "print(dFrame6.dtypes)\n",
    "print()\n",
    "\n"
   ]
  },
  {
   "cell_type": "code",
   "execution_count": 19,
   "id": "c69fc6b7-8a58-4b5a-8fb3-47a169af8fd7",
   "metadata": {},
   "outputs": [
    {
     "name": "stdout",
     "output_type": "stream",
     "text": [
      "     A    B    C     D\n",
      "0   10   20   30   NaN\n",
      "1  -10  -20  -30 -40.0\n",
      "2  100  200  300   NaN\n"
     ]
    }
   ],
   "source": [
    "array1 = [10, 20, 30]\n",
    "array2 = [100, 200, 300]\n",
    "array3 = [-10, -20, -30, -40]\n",
    "\n",
    "df = pd.DataFrame([array1, array3, array2], columns=['A', 'B', 'C', 'D'])\n",
    "print(df)\n"
   ]
  },
  {
   "cell_type": "code",
   "execution_count": 23,
   "id": "d9f75bae-bf98-474c-bb43-a7fca7c2d2be",
   "metadata": {},
   "outputs": [
    {
     "name": "stdout",
     "output_type": "stream",
     "text": [
      "       a      b      c     e\n",
      "0   10.0   20.0   30.0   NaN\n",
      "1  -10.0  -20.0  -30.0 -40.0\n",
      "2  100.0  200.0  300.0   NaN\n",
      "a    float64\n",
      "b    float64\n",
      "c    float64\n",
      "e    float64\n",
      "dtype: object\n"
     ]
    }
   ],
   "source": [
    "array1 = pd.Series([10,20,30],  index = ['a', 'b', 'c'])\n",
    "array2 = pd.Series([100,200,300], index = ['a', 'b', 'c'])\n",
    "array3 = pd.Series([-10,-20,-30, -40], index = ['a', 'b', 'c', 'e'])\n",
    "dFrame2 = pd.DataFrame([array1, array3, array2])\n",
    "print(dFrame2)\n",
    "print(dFrame2.dtypes)"
   ]
  },
  {
   "cell_type": "code",
   "execution_count": 24,
   "id": "808bb891-e7bf-4315-886b-c4dd641789c1",
   "metadata": {},
   "outputs": [
    {
     "name": "stdout",
     "output_type": "stream",
     "text": [
      "         Arnab  Ramit  Samridhi  Riya  Mallika\n",
      "Maths       90     92        89    81       94\n",
      "Science     91     81        91    71       95\n",
      "Hindi       97     96        88    67       99\n"
     ]
    }
   ],
   "source": [
    "\n",
    "ResultSheet={\n",
    "  'Arnab': pd.Series([90, 91, 97], index=['Maths','Science','Hindi']),\n",
    "  'Ramit': pd.Series([92, 81, 96], index=['Maths','Science','Hindi']),\n",
    "  'Samridhi': pd.Series([89, 91, 88], index=['Maths','Science','Hindi']), \n",
    "  'Riya': pd.Series([81, 71, 67], index=['Maths','Science','Hindi']),\n",
    "  'Mallika': pd.Series([94, 95, 99], index=['Maths','Science','Hindi'])\n",
    "}\n",
    "dFrame7 = pd.DataFrame(ResultSheet)\n",
    "print(dFrame7)\n"
   ]
  },
  {
   "cell_type": "code",
   "execution_count": 25,
   "id": "cf9f2a29-2483-4496-844d-a88e718b9ffc",
   "metadata": {},
   "outputs": [
    {
     "name": "stdout",
     "output_type": "stream",
     "text": [
      "      Name   Age      City\n",
      "0    Alice  25.0  New York\n",
      "1      Bob   NaN     Paris\n",
      "2  Charlie  35.0    London\n",
      "df.index → RangeIndex(start=0, stop=3, step=1)\n",
      "\n",
      "df.columns → Index(['Name', 'Age', 'City'], dtype='object')\n",
      "\n",
      "df.dtypes →\n",
      " Name     object\n",
      "Age     float64\n",
      "City     object\n",
      "dtype: object\n",
      "\n",
      "df.values →\n",
      " [['Alice' 25.0 'New York']\n",
      " ['Bob' nan 'Paris']\n",
      " ['Charlie' 35.0 'London']]\n",
      "\n",
      "df.shape → (3, 3)\n",
      "\n",
      "df.empty → False\n",
      "\n",
      "df.size → 9\n",
      "\n",
      "df.T →\n",
      "              0      1        2\n",
      "Name     Alice    Bob  Charlie\n",
      "Age       25.0    NaN     35.0\n",
      "City  New York  Paris   London\n"
     ]
    }
   ],
   "source": [
    "data = {\n",
    "    'Name': ['Alice', 'Bob', 'Charlie'],\n",
    "    'Age': [25, np.nan, 35],\n",
    "    'City': ['New York', 'Paris', 'London']\n",
    "}\n",
    "\n",
    "df = pd.DataFrame(data)\n",
    "print(df)\n",
    "\n",
    "print(\"df.index →\", df.index)\n",
    "print()\n",
    "print(\"df.columns →\", df.columns)\n",
    "print()\n",
    "print(\"df.dtypes →\\n\", df.dtypes)\n",
    "print()\n",
    "print(\"df.values →\\n\", df.values)\n",
    "print()\n",
    "print(\"df.shape →\", df.shape)\n",
    "print()\n",
    "print(\"df.empty →\", df.empty)\n",
    "print()\n",
    "print(\"df.size →\", df.size)\n",
    "print()\n",
    "print(\"df.T →\\n\", df.T)\n"
   ]
  },
  {
   "cell_type": "code",
   "execution_count": 27,
   "id": "61aa7680-07e3-47ee-881e-6c064f717d34",
   "metadata": {},
   "outputs": [
    {
     "name": "stdout",
     "output_type": "stream",
     "text": [
      "      Name   Age      City\n",
      "0    Alice  25.0  New York\n",
      "1      Bob   NaN     Paris\n",
      "2  Charlie  35.0    London\n",
      "3    David  28.0       NaN\n",
      "4      Eva  30.0    Berlin\n",
      "First 3 rows (head(3)):\n",
      "       Name   Age      City\n",
      "0    Alice  25.0  New York\n",
      "1      Bob   NaN     Paris\n",
      "2  Charlie  35.0    London\n",
      "\n",
      "Last 2 rows (tail(2)):\n",
      "     Name   Age    City\n",
      "3  David  28.0     NaN\n",
      "4    Eva  30.0  Berlin\n",
      "\n",
      "Non-NaN counts (count()):\n",
      " Name    5\n",
      "Age     4\n",
      "City    4\n",
      "dtype: int64\n"
     ]
    }
   ],
   "source": [
    "data = {\n",
    "    'Name': ['Alice', 'Bob', 'Charlie', 'David', 'Eva'],\n",
    "    'Age': [25, np.nan, 35, 28, 30],\n",
    "    'City': ['New York', 'Paris', 'London', np.nan, 'Berlin']\n",
    "}\n",
    "\n",
    "df = pd.DataFrame(data)\n",
    "print(df)\n",
    "\n",
    "print(\"First 3 rows (head(3)):\\n\", df.head(3))\n",
    "print(\"\\nLast 2 rows (tail(2)):\\n\", df.tail(2))\n",
    "print(\"\\nNon-NaN counts (count()):\\n\", df.count())\n"
   ]
  },
  {
   "cell_type": "code",
   "execution_count": 29,
   "id": "12762556-4e72-439d-95c0-77ec5de38b7c",
   "metadata": {},
   "outputs": [
    {
     "name": "stdout",
     "output_type": "stream",
     "text": [
      "[10. nan 20. 30. 40.]\n",
      "float64\n"
     ]
    }
   ],
   "source": [
    "import numpy as np\n",
    "ar_1 = np.array([10, np.nan, 20, 30, 40])\n",
    "print(ar_1)\n",
    "print(ar_1.dtype)\n"
   ]
  },
  {
   "cell_type": "code",
   "execution_count": 30,
   "id": "206ce6ea-1859-46e0-8ef2-84be214bd7c8",
   "metadata": {},
   "outputs": [
    {
     "name": "stdout",
     "output_type": "stream",
     "text": [
      "['Google' 'nan' 'Meta' 'Amazon' 'Apple']\n",
      "<U32\n"
     ]
    }
   ],
   "source": [
    "ar_2 = np.array(['Google', np.nan, 'Meta', 'Amazon', 'Apple'])\n",
    "print(ar_2)\n",
    "print(ar_2.dtype)\n"
   ]
  },
  {
   "cell_type": "code",
   "execution_count": null,
   "id": "791c4d0f-2751-4709-ad59-9bbcd703002e",
   "metadata": {},
   "outputs": [],
   "source": []
  }
 ],
 "metadata": {
  "kernelspec": {
   "display_name": "Python 3 (ipykernel)",
   "language": "python",
   "name": "python3"
  },
  "language_info": {
   "codemirror_mode": {
    "name": "ipython",
    "version": 3
   },
   "file_extension": ".py",
   "mimetype": "text/x-python",
   "name": "python",
   "nbconvert_exporter": "python",
   "pygments_lexer": "ipython3",
   "version": "3.12.8"
  }
 },
 "nbformat": 4,
 "nbformat_minor": 5
}
