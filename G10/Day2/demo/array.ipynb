{
 "cells": [
  {
   "cell_type": "code",
   "execution_count": 3,
   "id": "d283944b-d2d3-49e8-a59c-b00d34f9a48f",
   "metadata": {},
   "outputs": [
    {
     "name": "stdout",
     "output_type": "stream",
     "text": [
      "[10 20 30 40 50]\n",
      "[10. 20. 30. 40. 50.]\n",
      "['1' '2' '3' '4']\n",
      "[[ 10  20]\n",
      " [100  90]]\n",
      "The dimension of  ['1' '2' '3' '4'] is 1\n",
      "The dimension of  [[ 10  20]\n",
      " [100  90]] is 2\n",
      "The shape of  ['1' '2' '3' '4'] is (4,)\n",
      "The shape of  [[ 10  20]\n",
      " [100  90]] is (2, 2)\n"
     ]
    }
   ],
   "source": [
    "\n",
    "import numpy as np\n",
    "ar_1 = np.array([10, 20, 30, 40, 50])\n",
    "print(ar_1)\n",
    "\n",
    "ar_2 = np.array([10, 20, 30, 40, 50], dtype = float)\n",
    "print(ar_2)\n",
    "\n",
    "ar_3 = np.array([1, 2, '3', 4])\n",
    "print(ar_3)\n",
    "\n",
    "ar_4 = np.array([[10, 20], [100, 90]])\n",
    "print(ar_4)\n",
    "\n",
    "\n",
    "print(\"The dimension of \", ar_3, \"is\", ar_3.ndim)\n",
    "print(\"The dimension of \", ar_4, \"is\", ar_4.ndim)\n",
    "\n",
    "print(\"The shape of \", ar_3, \"is\", ar_3.shape)\n",
    "print(\"The shape of \", ar_4, \"is\", ar_4.shape)\n",
    "\n",
    "\n"
   ]
  },
  {
   "cell_type": "code",
   "execution_count": 5,
   "id": "63eff78e-17df-45e3-9caf-6f1150cd561a",
   "metadata": {},
   "outputs": [
    {
     "name": "stdout",
     "output_type": "stream",
     "text": [
      "[1, 2, 3, 4]\n"
     ]
    }
   ],
   "source": [
    "b = [1,2,3,4,5]\n",
    "print(b[:-1])"
   ]
  },
  {
   "cell_type": "code",
   "execution_count": 10,
   "id": "f49d2eee-d504-4114-be90-a4e322f95311",
   "metadata": {},
   "outputs": [
    {
     "name": "stdout",
     "output_type": "stream",
     "text": [
      "2\n"
     ]
    }
   ],
   "source": [
    "a = np.array([[1,2,3], [4,5,6], [9,8,7]])\n",
    "print(a.ndim)"
   ]
  },
  {
   "cell_type": "code",
   "execution_count": 11,
   "id": "aba931ee-c3b2-4cd8-bb49-cf7916a14484",
   "metadata": {},
   "outputs": [
    {
     "name": "stdout",
     "output_type": "stream",
     "text": [
      "[10 12 14 16 18 20 22 24]\n",
      "ar_11[1] = 12\n"
     ]
    }
   ],
   "source": [
    "ar_11 = np.arange(10, 25, 2)\n",
    "print(ar_11)\n",
    "print(\"ar_11[1] =\",ar_11[1])\n",
    "\n"
   ]
  },
  {
   "cell_type": "code",
   "execution_count": 14,
   "id": "61b772b9-8208-4dbc-b9d1-128b3d976d72",
   "metadata": {},
   "outputs": [
    {
     "name": "stdout",
     "output_type": "stream",
     "text": [
      "[[21 19 17 15 13 11]\n",
      " [10  8  6  4  2  0]\n",
      " [ 0  0  0  0  0  0]]\n",
      "ar_12[0, 0] = 21\n",
      "ar_12[-1,- 2] = 0\n",
      "ar_12[0, 0:6:2] = [21 17 13]\n",
      "ar_12[1:2, 5:0:-2] = [[0 4 8]]\n",
      "ar_12[-2::-1, -3:-1] = [[ 4  2]\n",
      " [15 13]]\n"
     ]
    }
   ],
   "source": [
    "ar_12 = np.array([np.arange(21, 10, -2), np.arange(10, -1, -2), np.zeros(6, dtype = np.int64)])\n",
    "print(ar_12)\n",
    "print(\"ar_12[0, 0] =\",ar_12[0, 0]) # 21\n",
    "print(\"ar_12[-1,- 2] =\",ar_12[-1,- 2]) # 0\n",
    "print(\"ar_12[0, 0:6:2] =\",ar_12[0, 0:6:2]) #[21 17 13]\n",
    "print(\"ar_12[1:2, 5:0:-2] =\",ar_12[1:2, 5:0:-2]) #[[0 4 8]]\n",
    "print(\"ar_12[-2::-1, -3:-1] =\",ar_12[-2::-1, -3:-1]) #[[ 4  2] [15 13]]\n"
   ]
  },
  {
   "cell_type": "code",
   "execution_count": 16,
   "id": "3c8e9aee-8dec-4b2d-8b09-423f04878546",
   "metadata": {},
   "outputs": [
    {
     "name": "stdout",
     "output_type": "stream",
     "text": [
      "[[5.e-323 4.e-323 3.e-323]\n",
      " [2.e-323 1.e-323 0.e+000]]\n"
     ]
    }
   ],
   "source": [
    "a = np.empty((2, 3))\n",
    "print(a)"
   ]
  },
  {
   "cell_type": "code",
   "execution_count": null,
   "id": "b028b712-a18c-4cd5-bcc3-c283a71ac167",
   "metadata": {},
   "outputs": [],
   "source": []
  }
 ],
 "metadata": {
  "kernelspec": {
   "display_name": "Python 3 (ipykernel)",
   "language": "python",
   "name": "python3"
  },
  "language_info": {
   "codemirror_mode": {
    "name": "ipython",
    "version": 3
   },
   "file_extension": ".py",
   "mimetype": "text/x-python",
   "name": "python",
   "nbconvert_exporter": "python",
   "pygments_lexer": "ipython3",
   "version": "3.12.8"
  }
 },
 "nbformat": 4,
 "nbformat_minor": 5
}
