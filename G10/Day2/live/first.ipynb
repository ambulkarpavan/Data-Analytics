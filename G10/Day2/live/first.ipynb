{
 "cells": [
  {
   "cell_type": "code",
   "execution_count": 1,
   "id": "a5a208cf-1b90-4128-b629-0f4b472e383e",
   "metadata": {},
   "outputs": [
    {
     "name": "stdout",
     "output_type": "stream",
     "text": [
      "Hello\n"
     ]
    }
   ],
   "source": [
    "print('Hello')"
   ]
  },
  {
   "cell_type": "code",
   "execution_count": 6,
   "id": "77f14635-b743-459a-affa-a00d53b90ccc",
   "metadata": {},
   "outputs": [
    {
     "name": "stdout",
     "output_type": "stream",
     "text": [
      "['10' '20' 'abc']\n",
      "[1, 2, 3]\n"
     ]
    }
   ],
   "source": [
    "import numpy as np\n",
    "\n",
    "ar_1 = np.array([10, 20, 'abc'])\n",
    "print(ar_1)\n",
    "\n",
    "l1 = [1,2,3]\n",
    "print(l1)\n",
    "\n"
   ]
  },
  {
   "cell_type": "code",
   "execution_count": null,
   "id": "7e0b78c5-389b-4d59-aaad-61f3123645ee",
   "metadata": {},
   "outputs": [],
   "source": []
  },
  {
   "cell_type": "code",
   "execution_count": 7,
   "id": "53b99255-5f7f-4c71-ad79-c9511cd6da13",
   "metadata": {},
   "outputs": [
    {
     "name": "stdout",
     "output_type": "stream",
     "text": [
      "[10. 20. 30. 40. 50.]\n"
     ]
    }
   ],
   "source": [
    "ar_2 = np.array([10, 20, 30, 40, 50], dtype = float)\n",
    "print(ar_2)\n"
   ]
  },
  {
   "cell_type": "code",
   "execution_count": 16,
   "id": "5955234e-261b-42a8-b899-f5c60a681faa",
   "metadata": {},
   "outputs": [
    {
     "name": "stdout",
     "output_type": "stream",
     "text": [
      "[[10 20]\n",
      " [30 40]]\n",
      "The dimension of  [[10 20]\n",
      " [30 40]] is 2\n"
     ]
    }
   ],
   "source": [
    "ar_4 = np.array([[10,20],[30,40]])\n",
    "print(ar_4)\n",
    "print(\"The dimension of \", ar_4, \"is\", ar_4.ndim)\n"
   ]
  },
  {
   "cell_type": "code",
   "execution_count": 9,
   "id": "5ce8ed34-5da2-43be-bba3-da5bf8f256e0",
   "metadata": {},
   "outputs": [
    {
     "name": "stdout",
     "output_type": "stream",
     "text": [
      "[0. 0. 0.]\n"
     ]
    }
   ],
   "source": [
    "ar_5 = np.zeros(3)\n",
    "print(ar_5)\n"
   ]
  },
  {
   "cell_type": "code",
   "execution_count": 10,
   "id": "8aa2eeb5-c0af-4f78-984e-5f64431a59d8",
   "metadata": {},
   "outputs": [
    {
     "name": "stdout",
     "output_type": "stream",
     "text": [
      "[[0. 0. 0. 0.]\n",
      " [0. 0. 0. 0.]\n",
      " [0. 0. 0. 0.]]\n"
     ]
    }
   ],
   "source": [
    "ar_6 = np.zeros((3,4))\n",
    "print(ar_6)\n",
    "\n"
   ]
  },
  {
   "cell_type": "code",
   "execution_count": 11,
   "id": "ca6b5b1b-674e-4a6d-86c8-8e06c1bed241",
   "metadata": {},
   "outputs": [
    {
     "name": "stdout",
     "output_type": "stream",
     "text": [
      "[1. 1. 1. 1. 1.]\n"
     ]
    }
   ],
   "source": [
    "ar_7 = np.ones(5)\n",
    "print(ar_7)\n"
   ]
  },
  {
   "cell_type": "code",
   "execution_count": 12,
   "id": "a9f9e49d-2bae-4e82-b50f-7ddcd0dc581f",
   "metadata": {},
   "outputs": [
    {
     "name": "stdout",
     "output_type": "stream",
     "text": [
      "[[1. 1. 1.]\n",
      " [1. 1. 1.]]\n"
     ]
    }
   ],
   "source": [
    "ar_8 = np.ones((2,3))\n",
    "print(ar_8)\n"
   ]
  },
  {
   "cell_type": "code",
   "execution_count": 13,
   "id": "fdff9568-b335-4a8d-b17b-2594e43ef1bf",
   "metadata": {},
   "outputs": [
    {
     "name": "stdout",
     "output_type": "stream",
     "text": [
      "[0 1 2 3 4 5]\n"
     ]
    }
   ],
   "source": [
    "ar_9 = np.arange(6)\n",
    "print(ar_9)\n"
   ]
  },
  {
   "cell_type": "code",
   "execution_count": 14,
   "id": "f3953b0d-77cd-4a92-8f92-dfd3ec2068fd",
   "metadata": {},
   "outputs": [
    {
     "name": "stdout",
     "output_type": "stream",
     "text": [
      "[ 2  5  8 11 14]\n"
     ]
    }
   ],
   "source": [
    "ar_10 = np.arange(2, 15, 3)\n",
    "print(ar_10)\n"
   ]
  },
  {
   "cell_type": "code",
   "execution_count": 19,
   "id": "dbab9343-41d8-434f-a765-48fcc196d265",
   "metadata": {},
   "outputs": [
    {
     "name": "stdout",
     "output_type": "stream",
     "text": [
      "1\n",
      "(3,)\n"
     ]
    }
   ],
   "source": [
    "a = np.array([1,2,3])\n",
    "print(a.ndim)\n",
    "print(a.shape)"
   ]
  },
  {
   "cell_type": "code",
   "execution_count": 21,
   "id": "b82ab64b-e079-4335-bf43-812ea76574e8",
   "metadata": {},
   "outputs": [
    {
     "name": "stdout",
     "output_type": "stream",
     "text": [
      "(2, 2)\n",
      "4\n"
     ]
    }
   ],
   "source": [
    "ar_4 = np.array([[10,20],[30,40]])\n",
    "print(ar_4.shape)\n",
    "print(ar_4.size)"
   ]
  },
  {
   "cell_type": "code",
   "execution_count": 26,
   "id": "01353740-3237-4c7f-adfe-1503c1ffe1e0",
   "metadata": {},
   "outputs": [
    {
     "name": "stdout",
     "output_type": "stream",
     "text": [
      "int64\n"
     ]
    }
   ],
   "source": [
    "a = np.array([\n",
    "    [[1, 2, 3], [4, 5, 6]],\n",
    "    [[7, 8, 9], [10, 11, 12]]\n",
    "])\n",
    "\n",
    "print(a.dtype)\n",
    "\n"
   ]
  },
  {
   "cell_type": "code",
   "execution_count": 35,
   "id": "701a03b8-fb31-4575-94e5-66c49aa063b1",
   "metadata": {},
   "outputs": [
    {
     "name": "stdout",
     "output_type": "stream",
     "text": [
      "[10 12 14 16 18 20 22 24]\n",
      "ar_11[1] = 24\n",
      "ar_11[1 : ar_11.size : 2] = [24 20 16 12]\n"
     ]
    }
   ],
   "source": [
    "ar_11 = np.arange(10, 25, 2)\n",
    "print(ar_11)\n",
    "print(\"ar_11[1] =\",ar_11[-1])\n",
    "print(\"ar_11[1 : ar_11.size : 2] =\", ar_11[ar_11.size - 1 : 0 : -2])\n",
    "\n",
    "\n"
   ]
  },
  {
   "cell_type": "code",
   "execution_count": 37,
   "id": "d31b3138-18d4-496b-b4fd-5afba13901be",
   "metadata": {},
   "outputs": [
    {
     "name": "stdout",
     "output_type": "stream",
     "text": [
      "[[21 19 17 15 13 11]\n",
      " [10  8  6  4  2  0]\n",
      " [ 0  0  0  0  0  0]]\n",
      "ar_12[0, 0] = 21\n",
      "ar_12[0, 0:6:2] = [21 17 13]\n"
     ]
    }
   ],
   "source": [
    "ar_12 = np.array([np.arange(21, 10, -2), np.arange(10, -1, -2), np.zeros(6, dtype = np.int64)])\n",
    "print(ar_12)\n",
    "print(\"ar_12[0, 0] =\",ar_12[0, 0]) # 21\n",
    "print(\"ar_12[0, 0:6:2] =\",ar_12[0, 0:6:2]) \n",
    "\n"
   ]
  },
  {
   "cell_type": "code",
   "execution_count": null,
   "id": "946d734c-3d8f-4a45-987c-6cb10518f132",
   "metadata": {},
   "outputs": [],
   "source": []
  }
 ],
 "metadata": {
  "kernelspec": {
   "display_name": "Python 3 (ipykernel)",
   "language": "python",
   "name": "python3"
  },
  "language_info": {
   "codemirror_mode": {
    "name": "ipython",
    "version": 3
   },
   "file_extension": ".py",
   "mimetype": "text/x-python",
   "name": "python",
   "nbconvert_exporter": "python",
   "pygments_lexer": "ipython3",
   "version": "3.12.8"
  }
 },
 "nbformat": 4,
 "nbformat_minor": 5
}
