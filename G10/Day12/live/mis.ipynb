{
 "cells": [
  {
   "cell_type": "code",
   "execution_count": 3,
   "id": "31792d8e-16f7-427d-8313-ea664e533091",
   "metadata": {},
   "outputs": [
    {
     "name": "stdout",
     "output_type": "stream",
     "text": [
      "   consumption  co2_emissions\n",
      "A        10.51          37.20\n",
      "B       103.11          19.66\n",
      "C        55.48        1712.00\n",
      "consumption      A\n",
      "co2_emissions    B\n",
      "dtype: object\n",
      "\n",
      "consumption      B\n",
      "co2_emissions    C\n",
      "dtype: object\n"
     ]
    }
   ],
   "source": [
    "import numpy as np\n",
    "import pandas as pd\n",
    "\n",
    "dFrame1 = pd.DataFrame(\n",
    "    {\n",
    "        'consumption': [10.51, 103.11, 55.48],\n",
    "        'co2_emissions': [37.2, 19.66, 1712]\n",
    "    },\n",
    "    index=['A', 'B', 'C']\n",
    ")\n",
    "print(dFrame1)\n",
    "print(dFrame1.idxmin(), end = '\\n\\n')\n",
    "print(dFrame1.idxmax())\n",
    "\n"
   ]
  },
  {
   "cell_type": "code",
   "execution_count": 6,
   "id": "4956a91d-f160-48bf-9160-d8bc00f7637f",
   "metadata": {},
   "outputs": [
    {
     "name": "stdout",
     "output_type": "stream",
     "text": [
      "The original dataframe has shape: (4, 3)\n",
      "The original dataframe is\n",
      "   month  year  sale\n",
      "0      1  2012    55\n",
      "1      4  2014    40\n",
      "2      7  2013    84\n",
      "3     10  2014    31\n",
      "The modified dataframe has shape: (4, 2)\n",
      "The modified dataframe is\n",
      "       year  sale\n",
      "month            \n",
      "1      2012    55\n",
      "4      2014    40\n",
      "7      2013    84\n",
      "10     2014    31\n"
     ]
    }
   ],
   "source": [
    "dFrame3 = pd.DataFrame(\n",
    "  {\n",
    "    'month': [1, 4, 7, 10],\n",
    "    'year': [2012, 2014, 2013, 2014],\n",
    "    'sale': [55, 40, 84, 31]\n",
    "  }\n",
    ")\n",
    "print(\"The original dataframe has shape:\", dFrame3.shape)\n",
    "print(\"The original dataframe is\\n\", dFrame3, sep = \"\")\n",
    "\n",
    "dFrame3 = dFrame3.set_index('month')\n",
    "print(\"The modified dataframe has shape:\", dFrame3.shape)\n",
    "print(\"The modified dataframe is\\n\", dFrame3, sep = \"\")\n",
    "\n"
   ]
  },
  {
   "cell_type": "code",
   "execution_count": 7,
   "id": "ec4ef8c4-a063-42b9-9f9a-0e7404ac1a18",
   "metadata": {},
   "outputs": [
    {
     "name": "stdout",
     "output_type": "stream",
     "text": [
      "[ 0  1  2  3  4 50 60 70 80 90]\n"
     ]
    }
   ],
   "source": [
    "arr_1 = np.arange(10)\n",
    "print(np.where(arr_1 < 5, arr_1, 10 * arr_1))\n"
   ]
  },
  {
   "cell_type": "code",
   "execution_count": 9,
   "id": "69e4ef03-eed3-4d23-8430-5f5b9b1364e5",
   "metadata": {},
   "outputs": [
    {
     "name": "stdout",
     "output_type": "stream",
     "text": [
      "[[0 1 2]\n",
      " [0 2 4]\n",
      " [0 3 6]]\n",
      "[[ 0  1  2]\n",
      " [ 0  2 -1]\n",
      " [ 0  3 -1]]\n"
     ]
    }
   ],
   "source": [
    "arr_2 = np.array([[0, 1, 2], [0, 2, 4], [0, 3, 6]])\n",
    "print(arr_2)\n",
    "print(np.where(arr_2 < 4, arr_2, -1))\n"
   ]
  },
  {
   "cell_type": "code",
   "execution_count": 12,
   "id": "1605e48d-aa29-4cf0-8d16-2b4b49c2a932",
   "metadata": {},
   "outputs": [
    {
     "name": "stdout",
     "output_type": "stream",
     "text": [
      "0    0\n",
      "1    1\n",
      "2    2\n",
      "3    3\n",
      "4    4\n",
      "dtype: int64\n"
     ]
    },
    {
     "data": {
      "text/plain": [
       "0    0.0\n",
       "1    NaN\n",
       "2    NaN\n",
       "3    NaN\n",
       "4    NaN\n",
       "dtype: float64"
      ]
     },
     "execution_count": 12,
     "metadata": {},
     "output_type": "execute_result"
    }
   ],
   "source": [
    "s = pd.Series(range(5))\n",
    "print(s)\n",
    "s.where(s > 0)\n",
    "s = pd.Series(range(5))\n",
    "s.mask(s > 0)\n"
   ]
  },
  {
   "cell_type": "code",
   "execution_count": 15,
   "id": "45adb9e4-5301-4bb8-8950-14885dc2d8ef",
   "metadata": {},
   "outputs": [
    {
     "name": "stdout",
     "output_type": "stream",
     "text": [
      "   A  B\n",
      "0  0  1\n",
      "1  2  3\n",
      "2  4  5\n",
      "3  6  7\n",
      "4  8  9\n",
      "   A  B\n",
      "0  0 -1\n",
      "1 -2  3\n",
      "2 -4 -5\n",
      "3  6 -7\n",
      "4 -8  9\n",
      "   A  B\n",
      "0  0  1\n",
      "1  2 -3\n",
      "2  4  5\n",
      "3 -6  7\n",
      "4  8 -9\n"
     ]
    }
   ],
   "source": [
    "dFrame1 = pd.DataFrame(np.arange(10).reshape(-1, 2), columns=['A', 'B'])\n",
    "print(dFrame1)\n",
    "print(dFrame1.where(dFrame1 % 3 == 0, -dFrame1))\n",
    "print(dFrame1.mask(dFrame1 % 3 == 0, -dFrame1))"
   ]
  },
  {
   "cell_type": "code",
   "execution_count": 22,
   "id": "51b9b4da-f537-4bb7-8884-c23b7c4d1862",
   "metadata": {},
   "outputs": [
    {
     "name": "stdout",
     "output_type": "stream",
     "text": [
      "               Riya  Ramit\n",
      "Subject Test              \n",
      "Math    Test1    90     86\n",
      "        Test2    88     89\n",
      "Science Test1    92     94\n",
      "        Test2    85     90\n",
      "Row index levels: 2\n",
      "Row index names: ['Subject', 'Test']\n",
      "Row columns levels: 1\n",
      "Row columns names: Index(['Riya', 'Ramit'], dtype='object')\n",
      "         Riya  Ramit\n",
      "Subject             \n",
      "Math       90     86\n",
      "Science    92     94\n"
     ]
    }
   ],
   "source": [
    "index = pd.MultiIndex.from_tuples([\n",
    "    ('Math', 'Test1'),\n",
    "    ('Math', 'Test2'),\n",
    "    ('Science', 'Test1'),\n",
    "    ('Science', 'Test2')\n",
    "], names=['Subject', 'Test'])\n",
    "\n",
    "dFrame2 = pd.DataFrame({\n",
    "    'Riya': [90, 88, 92, 85],\n",
    "    'Ramit': [86, 89, 94, 90]\n",
    "}, index=index)\n",
    "\n",
    "print(dFrame2)\n",
    "print(\"Row index levels:\", dFrame2.index.nlevels)\n",
    "print(\"Row index names:\", dFrame2.index.names)\n",
    "print(\"Row columns levels:\", dFrame2.columns.nlevels)\n",
    "print(\"Row columns names:\", dFrame2.columns)\n",
    "\n",
    "# print(dFrame2.loc['Math'])\n",
    "# print(dFrame2['Riya'])\n",
    "print(dFrame2.xs('Test1', level='Test'))"
   ]
  },
  {
   "cell_type": "code",
   "execution_count": null,
   "id": "d5b81286-f4c3-426f-9c8c-014f5868d799",
   "metadata": {},
   "outputs": [],
   "source": []
  }
 ],
 "metadata": {
  "kernelspec": {
   "display_name": "Python 3 (ipykernel)",
   "language": "python",
   "name": "python3"
  },
  "language_info": {
   "codemirror_mode": {
    "name": "ipython",
    "version": 3
   },
   "file_extension": ".py",
   "mimetype": "text/x-python",
   "name": "python",
   "nbconvert_exporter": "python",
   "pygments_lexer": "ipython3",
   "version": "3.12.8"
  }
 },
 "nbformat": 4,
 "nbformat_minor": 5
}
