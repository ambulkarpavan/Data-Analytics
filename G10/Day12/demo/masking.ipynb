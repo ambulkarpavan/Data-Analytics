{
 "cells": [
  {
   "cell_type": "code",
   "execution_count": 3,
   "id": "f03d4e8d-a745-4b3c-a7e7-5fb533396799",
   "metadata": {},
   "outputs": [
    {
     "data": {
      "text/plain": [
       "0    99\n",
       "1     1\n",
       "2    99\n",
       "3    99\n",
       "4    99\n",
       "dtype: int64"
      ]
     },
     "execution_count": 3,
     "metadata": {},
     "output_type": "execute_result"
    }
   ],
   "source": [
    "import numpy as np\n",
    "import pandas as pd\n",
    "\n",
    "s = pd.Series(range(5))\n",
    "t = pd.Series([True, False])\n",
    "# s.where(t, 99)\n",
    "s.mask(t, 99)"
   ]
  },
  {
   "cell_type": "code",
   "execution_count": 12,
   "id": "cb5ef8b9-3fb1-4fb4-bb3a-37e3ab82aee5",
   "metadata": {},
   "outputs": [
    {
     "name": "stdout",
     "output_type": "stream",
     "text": [
      "               Riya  Ramit\n",
      "Subject Test              \n",
      "Math    Test1    90     86\n",
      "        Test2    88     89\n",
      "Science Test1    92     94\n",
      "        Test2    85     90\n",
      "       Riya  Ramit\n",
      "Test              \n",
      "Test1    90     86\n",
      "Test2    88     89\n",
      "Riya     90\n",
      "Ramit    86\n",
      "Name: (Math, Test1), dtype: int64\n",
      "90\n"
     ]
    }
   ],
   "source": [
    "index = pd.MultiIndex.from_tuples([\n",
    "    ('Math', 'Test1'),\n",
    "    ('Math', 'Test2'),\n",
    "    ('Science', 'Test1'),\n",
    "    ('Science', 'Test2')\n",
    "], names=['Subject', 'Test'])\n",
    "\n",
    "dFrame2 = pd.DataFrame({\n",
    "    'Riya': [90, 88, 92, 85],\n",
    "    'Ramit': [86, 89, 94, 90]\n",
    "}, index=index)\n",
    "\n",
    "print(dFrame2)\n",
    "print(dFrame2.xs('Math', level='Subject'))\n",
    "print(dFrame2.loc[('Math', 'Test1')])\n",
    "\n",
    "print(dFrame2.loc[('Math', 'Test1'), 'Riya'])"
   ]
  },
  {
   "cell_type": "code",
   "execution_count": 13,
   "id": "e3c439f6-ddbd-4ffb-92a7-7948e74b5950",
   "metadata": {},
   "outputs": [
    {
     "name": "stdout",
     "output_type": "stream",
     "text": [
      "               Riya  Ramit\n",
      "Subject Test              \n",
      "Math    Test1     1      3\n",
      "History Test1     2      4\n",
      "\n",
      "               Riya  Ramit\n",
      "Subject Test              \n",
      "History Test1   NaN    NaN\n",
      "Math    Test1  91.0   89.0\n",
      "        Test2   NaN    NaN\n",
      "Science Test1   NaN    NaN\n",
      "        Test2   NaN    NaN\n"
     ]
    }
   ],
   "source": [
    "misaligned_index = pd.MultiIndex.from_tuples([\n",
    "    ('Math', 'Test1'),      # Matching\n",
    "    ('History', 'Test1')    # Not in original\n",
    "], names=['Subject', 'Test'])\n",
    "\n",
    "misaligned_df = pd.DataFrame({\n",
    "    'Riya': [1, 2],\n",
    "    'Ramit': [3, 4]\n",
    "}, index=misaligned_index)\n",
    "print(misaligned_df, end = '\\n\\n')\n",
    "print(dFrame2 + misaligned_df)\n"
   ]
  },
  {
   "cell_type": "code",
   "execution_count": 15,
   "id": "f45cfba0-d6d8-4718-ae5f-dcb7ff5a3f82",
   "metadata": {},
   "outputs": [
    {
     "name": "stdout",
     "output_type": "stream",
     "text": [
      "0    a\n",
      "1    b\n",
      "2    c\n",
      "dtype: object\n",
      "0    a\n",
      "1    b\n",
      "2    c\n",
      "dtype: string\n"
     ]
    }
   ],
   "source": [
    "print(pd.Series([\"a\", \"b\", \"c\"]))\n",
    "print(pd.Series([\"a\", \"b\", \"c\"], dtype=\"string\"))"
   ]
  },
  {
   "cell_type": "code",
   "execution_count": null,
   "id": "7de5059e-b909-442f-b3e9-4ca532c2f3c8",
   "metadata": {},
   "outputs": [],
   "source": []
  }
 ],
 "metadata": {
  "kernelspec": {
   "display_name": "Python 3 (ipykernel)",
   "language": "python",
   "name": "python3"
  },
  "language_info": {
   "codemirror_mode": {
    "name": "ipython",
    "version": 3
   },
   "file_extension": ".py",
   "mimetype": "text/x-python",
   "name": "python",
   "nbconvert_exporter": "python",
   "pygments_lexer": "ipython3",
   "version": "3.12.8"
  }
 },
 "nbformat": 4,
 "nbformat_minor": 5
}
