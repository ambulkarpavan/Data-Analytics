{
 "cells": [
  {
   "cell_type": "code",
   "execution_count": 2,
   "id": "4bce43f1-dcd2-4228-8e67-e36a717936e0",
   "metadata": {},
   "outputs": [
    {
     "name": "stdout",
     "output_type": "stream",
     "text": [
      "India     NewDelhi\n",
      "UK          London\n",
      "Japan        Tokyo\n",
      "France         NaN\n",
      "dtype: object\n",
      "['NewDelhi' 'London' 'Tokyo' nan]\n",
      "object\n"
     ]
    }
   ],
   "source": [
    "import numpy as np\n",
    "import pandas as pd\n",
    "\n",
    "dict1 = {'India': 'NewDelhi', 'UK': 'London', 'Japan': 'Tokyo'}\n",
    "series6 = pd.Series(dict1, index = ['India', 'UK', 'Japan', 'France'])\n",
    "print(series6)\n",
    "\n",
    "\n",
    "arr = series6 .to_numpy()\n",
    "print(arr)\n",
    "print(arr.dtype)\n"
   ]
  },
  {
   "cell_type": "code",
   "execution_count": 11,
   "id": "127058b0-c922-4aba-9068-a8f0295297d4",
   "metadata": {},
   "outputs": [
    {
     "name": "stdout",
     "output_type": "stream",
     "text": [
      "NewDelhi\n",
      "UK           London\n",
      "USA    WashingtonDC\n",
      "dtype: object\n",
      "USA    WashingtonDC\n",
      "UK           London\n",
      "dtype: object\n"
     ]
    }
   ],
   "source": [
    "country_cap_series = pd.Series(['NewDelhi', 'WashingtonDC', 'London', 'Paris'], index=['India', 'USA', 'UK', 'France'])\n",
    "print(country_cap_series.iloc[0])\n",
    "print(country_cap_series[['UK','USA']])\n",
    "print(country_cap_series[1: 3])\n",
    "\n"
   ]
  },
  {
   "cell_type": "code",
   "execution_count": 12,
   "id": "ee59e02e-6e34-410e-bbe9-2ae0ae387c1d",
   "metadata": {},
   "outputs": [
    {
     "name": "stdout",
     "output_type": "stream",
     "text": [
      "a    10\n",
      "b    50\n",
      "c    50\n",
      "d    13\n",
      "e    14\n",
      "f    15\n",
      "dtype: int64\n"
     ]
    }
   ],
   "source": [
    "seriesAlph = pd.Series(np.arange(10, 16, 1), index = ['a', 'b', 'c', 'd', 'e', 'f'])\n",
    "seriesAlph[1:3] = 50\n",
    "print(seriesAlph)\n"
   ]
  },
  {
   "cell_type": "code",
   "execution_count": 13,
   "id": "716df0ca-04a2-44c7-82cf-fda66bd5f413",
   "metadata": {},
   "outputs": [
    {
     "name": "stdout",
     "output_type": "stream",
     "text": [
      "s1 + s2 (default NaN handling):\n",
      " A     NaN\n",
      "B    21.0\n",
      "C     NaN\n",
      "D    43.0\n",
      "E     NaN\n",
      "F     NaN\n",
      "dtype: float64\n"
     ]
    }
   ],
   "source": [
    "s1 = pd.Series([10, 20, np.nan, 40], index=['A', 'B', 'C', 'D'])\n",
    "s2 = pd.Series([1, 2, 3, 4, 5], index=['B', 'C', 'D', 'E', 'F'])\n",
    "\n",
    "add_default = s1 + s2\n",
    "print(\"s1 + s2 (default NaN handling):\\n\", add_default)\n"
   ]
  },
  {
   "cell_type": "code",
   "execution_count": 15,
   "id": "ca41e90e-4ddd-43d6-832f-c1f306f57b35",
   "metadata": {},
   "outputs": [
    {
     "name": "stdout",
     "output_type": "stream",
     "text": [
      "[10. nan 20. 30. 40.]\n",
      "float64\n",
      "['Google' 'nan' 'Meta' 'Amazon' 'Apple']\n",
      "<U32\n",
      "[nan {'name': 'Google'} 123]\n",
      "object\n"
     ]
    }
   ],
   "source": [
    "import numpy as np\n",
    "ar_1 = np.array([10, np.nan, 20, 30, 40])\n",
    "print(ar_1)\n",
    "print(ar_1.dtype)\n",
    "ar_2 = np.array(['Google', np.nan, 'Meta', 'Amazon', 'Apple'])\n",
    "print(ar_2)\n",
    "print(ar_2.dtype)\n",
    "ar_3 = np.array([np.nan, {'name': 'Google'}, 123])\n",
    "print(ar_3)\n",
    "print(ar_3.dtype)\n",
    "\n"
   ]
  },
  {
   "cell_type": "code",
   "execution_count": 18,
   "id": "c4e68953-ae78-4bc1-a40a-e418f48b8702",
   "metadata": {},
   "outputs": [
    {
     "name": "stdout",
     "output_type": "stream",
     "text": [
      "The sum of all element is 26.0\n",
      "The maximum among of all element is 13.0\n",
      "The minimum among of all element is 1.0\n",
      "\n",
      "The index of minimum among of all element is 0\n",
      "The index of maximum among of all element is 4\n"
     ]
    }
   ],
   "source": [
    "ar_4 = np.array([1, np.nan, 4, 8, 13])\n",
    "# print(\"The sum of all element is\", np.sum(ar_4))\n",
    "# print(\"The maximum among of all element is\", np.max(ar_4))\n",
    "# print(\"The minimum among of all element is\", np.min(ar_4))\n",
    "# print()\n",
    "# print(\"The index of minimum among of all element is\", np.argmin(ar_4))\n",
    "# print(\"The index of maximum among of all element is\", np.argmax(ar_4))\n",
    "print(\"The sum of all element is\", np.nansum(ar_4))\n",
    "print(\"The maximum among of all element is\", np.nanmax(ar_4))\n",
    "print(\"The minimum among of all element is\", np.nanmin(ar_4))\n",
    "print()\n",
    "print(\"The index of minimum among of all element is\", np.nanargmin(ar_4))\n",
    "print(\"The index of maximum among of all element is\", np.nanargmax(ar_4))\n",
    "\n"
   ]
  },
  {
   "cell_type": "code",
   "execution_count": 19,
   "id": "2cb15f9b-24ff-4e34-8555-722014cab45c",
   "metadata": {},
   "outputs": [
    {
     "name": "stdout",
     "output_type": "stream",
     "text": [
      "False\n",
      "True\n"
     ]
    }
   ],
   "source": [
    "a = np.nan\n",
    "b = np.nan\n",
    "print(a == b)\n",
    "print(a is b)\n"
   ]
  },
  {
   "cell_type": "code",
   "execution_count": 20,
   "id": "53727576-9ecd-410e-a720-8bf88557bb2a",
   "metadata": {},
   "outputs": [
    {
     "name": "stdout",
     "output_type": "stream",
     "text": [
      "['Alice' 'Bob' None]\n",
      "object\n"
     ]
    }
   ],
   "source": [
    "ar_5 = np.array([\"Alice\", \"Bob\", None])\n",
    "print(ar_5)\n",
    "print(ar_5.dtype)\n"
   ]
  },
  {
   "cell_type": "code",
   "execution_count": 23,
   "id": "bcb38b5b-8c7f-4f57-bda0-c3bdb6b65081",
   "metadata": {},
   "outputs": [
    {
     "name": "stdout",
     "output_type": "stream",
     "text": [
      "True\n",
      "True\n"
     ]
    }
   ],
   "source": [
    "ar_6 = np.array([1, 2, 3, None])\n",
    "# print(np.sum(ar_6)) \t\n",
    "# print(np.nansum(ar_6))\n",
    "a = None\n",
    "b = None\n",
    "print(a == b)\t\n",
    "print(a is b)\n",
    "\n"
   ]
  },
  {
   "cell_type": "code",
   "execution_count": 24,
   "id": "e29a608b-ccb8-4c36-980d-72b04722ff28",
   "metadata": {},
   "outputs": [
    {
     "name": "stdout",
     "output_type": "stream",
     "text": [
      "Empty DataFrame\n",
      "Columns: []\n",
      "Index: []\n"
     ]
    }
   ],
   "source": [
    "\n",
    "dFrameEmt = pd.DataFrame()\n",
    "print(dFrameEmt)\n"
   ]
  },
  {
   "cell_type": "code",
   "execution_count": 26,
   "id": "51270738-ce63-4052-802d-c61f6786b017",
   "metadata": {},
   "outputs": [
    {
     "name": "stdout",
     "output_type": "stream",
     "text": [
      "     A    B    C     D\n",
      "0   10   20   30  None\n",
      "1  -10  -20  -30   -40\n",
      "2  100  200  300  None\n",
      "3    a    b    c     d\n"
     ]
    }
   ],
   "source": [
    "array1 = np.array([10,20,30])\n",
    "array2 = np.array([100,200,300])\n",
    "array3 = np.array([-10,-20,-30, -40])\n",
    "array4 = np.array(['a', 'b', 'c', 'd'])\n",
    "dFrame2 = pd.DataFrame([array1, array3, array2, array4], columns=[ 'A', 'B', 'C', 'D'])\n",
    "print(dFrame2)\n"
   ]
  },
  {
   "cell_type": "code",
   "execution_count": 27,
   "id": "56d9c66c-d9b2-4c81-8530-6823191426da",
   "metadata": {},
   "outputs": [
    {
     "name": "stdout",
     "output_type": "stream",
     "text": [
      "    a   b     c\n",
      "0  10  20   NaN\n",
      "1   5  10  20.0\n"
     ]
    }
   ],
   "source": [
    "listDict = [{'a':10, 'b':20}, {'a':5, 'b':10, 'c':20}]\n",
    "dFrame3 = pd.DataFrame(listDict)\n",
    "print(dFrame3)\n"
   ]
  },
  {
   "cell_type": "code",
   "execution_count": 28,
   "id": "043f09ef-9267-4fc9-bf08-fcaf00cdc602",
   "metadata": {},
   "outputs": [
    {
     "name": "stdout",
     "output_type": "stream",
     "text": [
      "    State  GArea      VDF\n",
      "0   Assam  78438  2797.00\n",
      "1   Delhi   1483     6.72\n",
      "2  Kerala  38852  1663.00\n"
     ]
    }
   ],
   "source": [
    "dictForest = {'State': ['Assam', 'Delhi', 'Kerala'], 'GArea': [78438, 1483, 38852] ,'VDF' : [2797, 6.72,1663]}\n",
    "dFrame4 = pd.DataFrame(dictForest)\n",
    "print(dFrame4)\n"
   ]
  },
  {
   "cell_type": "code",
   "execution_count": null,
   "id": "c0bfcdf4-bee5-4461-b698-04fe0ee0fd75",
   "metadata": {},
   "outputs": [],
   "source": []
  }
 ],
 "metadata": {
  "kernelspec": {
   "display_name": "Python 3 (ipykernel)",
   "language": "python",
   "name": "python3"
  },
  "language_info": {
   "codemirror_mode": {
    "name": "ipython",
    "version": 3
   },
   "file_extension": ".py",
   "mimetype": "text/x-python",
   "name": "python",
   "nbconvert_exporter": "python",
   "pygments_lexer": "ipython3",
   "version": "3.12.8"
  }
 },
 "nbformat": 4,
 "nbformat_minor": 5
}
