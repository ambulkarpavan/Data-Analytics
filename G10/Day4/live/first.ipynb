{
 "cells": [
  {
   "cell_type": "code",
   "execution_count": 4,
   "id": "e7782612-1280-4fc8-9e60-7859f5432f8c",
   "metadata": {},
   "outputs": [
    {
     "name": "stdout",
     "output_type": "stream",
     "text": [
      "[1 2 3 4 5 6]\n",
      "\n"
     ]
    }
   ],
   "source": [
    "import numpy as np\n",
    "ar_1 = np.array([[1, 2], [3, 4]])  #No of Rows: 2 No of Col.: 2\n",
    "ar_2 = np.array([[5, 6]])  #No of Rows: 1 No of Col.: 2\n",
    "ar_3 = np.concatenate((ar_1, ar_2), axis=None)\n",
    "print(ar_3, end = '\\n\\n')\n"
   ]
  },
  {
   "cell_type": "code",
   "execution_count": 5,
   "id": "5339e3b6-6402-46d1-a6c7-12e0380797a7",
   "metadata": {},
   "outputs": [
    {
     "name": "stdout",
     "output_type": "stream",
     "text": [
      "[1 2 3 4 5 6]\n"
     ]
    }
   ],
   "source": [
    "ar_6 = np.array((1,2,3))  #No of Rows: 1 No of Col.: 3\n",
    "ar_7 = np.array((4,5,6))  #No of Rows: 1 No of Col.: 3\n",
    "ar_8 = np.hstack((ar_6, ar_7))\n",
    "print(ar_8) \n"
   ]
  },
  {
   "cell_type": "code",
   "execution_count": 6,
   "id": "aad3c223-6595-4b55-ac99-a2faa26e14b5",
   "metadata": {},
   "outputs": [
    {
     "name": "stdout",
     "output_type": "stream",
     "text": [
      "[[1 2 5 6]\n",
      " [3 4 7 8]]\n"
     ]
    }
   ],
   "source": [
    "a = np.array([[1, 2],[3, 4]])  #No of Rows: 2 No of Col.: 2\n",
    "b = np.array([[5, 6],[7, 8]])  #No of Rows: 2 No of Col.: 2   \n",
    "c = np.hstack((a, b))\n",
    "print(c) \n"
   ]
  },
  {
   "cell_type": "code",
   "execution_count": 7,
   "id": "53b0b98c-88f4-4e6b-855b-1a6c9111f336",
   "metadata": {},
   "outputs": [
    {
     "name": "stdout",
     "output_type": "stream",
     "text": [
      "[[1 4]\n",
      " [2 5]\n",
      " [3 6]]\n"
     ]
    }
   ],
   "source": [
    "ar_9 = np.array([[1],[2],[3]])  #No of Rows: 3 No of Col.: 1\n",
    "ar_10 = np.array([[4],[5],[6]])  #No of Rows: 3 No of Col.: 1\n",
    "ar_11 = np.hstack((ar_9, ar_10))\n",
    "print(ar_11) \n"
   ]
  },
  {
   "cell_type": "code",
   "execution_count": 8,
   "id": "218a4c2a-05b0-4087-bd51-9db748feb4a8",
   "metadata": {},
   "outputs": [
    {
     "name": "stdout",
     "output_type": "stream",
     "text": [
      "[[1 2 3]\n",
      " [4 5 6]]\n"
     ]
    }
   ],
   "source": [
    "ar_12 = np.array([1, 2, 3])  #No of Rows: 1 No of Col.: 3\n",
    "ar_13 = np.array([4, 5, 6])  #No of Rows: 1 No of Col.: 3\n",
    "ar_14 = np.vstack((ar_12, ar_13))\n",
    "print(ar_14)\n"
   ]
  },
  {
   "cell_type": "code",
   "execution_count": 9,
   "id": "01a05eec-14a6-49de-83b2-9496dbe2067e",
   "metadata": {},
   "outputs": [
    {
     "name": "stdout",
     "output_type": "stream",
     "text": [
      "[[1]\n",
      " [2]\n",
      " [3]\n",
      " [4]\n",
      " [5]\n",
      " [6]]\n"
     ]
    }
   ],
   "source": [
    "ar_15 = np.array([[1],[2],[3]])  #No of Rows: 3 No of Col.: 1\n",
    "ar_16 = np.array([[4],[5],[6]])  #No of Rows: 3 No of Col.: 1\n",
    "ar_17 = np.vstack((ar_15, ar_16))\n",
    "print(ar_17) \n"
   ]
  },
  {
   "cell_type": "code",
   "execution_count": 12,
   "id": "7ae3477f-1158-44de-94e9-c3ba441bee38",
   "metadata": {},
   "outputs": [
    {
     "ename": "TypeError",
     "evalue": "'NoneType' object cannot be interpreted as an integer",
     "output_type": "error",
     "traceback": [
      "\u001b[31m---------------------------------------------------------------------------\u001b[39m",
      "\u001b[31mTypeError\u001b[39m                                 Traceback (most recent call last)",
      "\u001b[36mCell\u001b[39m\u001b[36m \u001b[39m\u001b[32mIn[12]\u001b[39m\u001b[32m, line 4\u001b[39m\n\u001b[32m      2\u001b[39m ar_19 = np.array([\u001b[32m4\u001b[39m, \u001b[32m5\u001b[39m, \u001b[32m6\u001b[39m])   \u001b[38;5;66;03m#No of Rows: 1 No of Col.: 3\u001b[39;00m\n\u001b[32m      3\u001b[39m \u001b[38;5;66;03m# ar_20  = np.stack((ar_18, ar_19)) #The default value for the axis is 0.\u001b[39;00m\n\u001b[32m----> \u001b[39m\u001b[32m4\u001b[39m ar_21 = \u001b[43mnp\u001b[49m\u001b[43m.\u001b[49m\u001b[43mstack\u001b[49m\u001b[43m(\u001b[49m\u001b[43m(\u001b[49m\u001b[43mar_18\u001b[49m\u001b[43m,\u001b[49m\u001b[43m \u001b[49m\u001b[43mar_19\u001b[49m\u001b[43m)\u001b[49m\u001b[43m,\u001b[49m\u001b[43m \u001b[49m\u001b[43maxis\u001b[49m\u001b[43m \u001b[49m\u001b[43m=\u001b[49m\u001b[43m \u001b[49m\u001b[38;5;28;43;01mNone\u001b[39;49;00m\u001b[43m)\u001b[49m\n\u001b[32m      5\u001b[39m \u001b[38;5;28mprint\u001b[39m(ar_21, end = \u001b[33m'\u001b[39m\u001b[38;5;130;01m\\n\u001b[39;00m\u001b[38;5;130;01m\\n\u001b[39;00m\u001b[33m'\u001b[39m)\n",
      "\u001b[36mFile \u001b[39m\u001b[32m~\\AppData\\Local\\Programs\\Python\\Python312\\Lib\\site-packages\\numpy\\_core\\shape_base.py:451\u001b[39m, in \u001b[36mstack\u001b[39m\u001b[34m(arrays, axis, out, dtype, casting)\u001b[39m\n\u001b[32m    448\u001b[39m     \u001b[38;5;28;01mraise\u001b[39;00m \u001b[38;5;167;01mValueError\u001b[39;00m(\u001b[33m'\u001b[39m\u001b[33mall input arrays must have the same shape\u001b[39m\u001b[33m'\u001b[39m)\n\u001b[32m    450\u001b[39m result_ndim = arrays[\u001b[32m0\u001b[39m].ndim + \u001b[32m1\u001b[39m\n\u001b[32m--> \u001b[39m\u001b[32m451\u001b[39m axis = \u001b[43mnormalize_axis_index\u001b[49m\u001b[43m(\u001b[49m\u001b[43maxis\u001b[49m\u001b[43m,\u001b[49m\u001b[43m \u001b[49m\u001b[43mresult_ndim\u001b[49m\u001b[43m)\u001b[49m\n\u001b[32m    453\u001b[39m sl = (\u001b[38;5;28mslice\u001b[39m(\u001b[38;5;28;01mNone\u001b[39;00m),) * axis + (_nx.newaxis,)\n\u001b[32m    454\u001b[39m expanded_arrays = [arr[sl] \u001b[38;5;28;01mfor\u001b[39;00m arr \u001b[38;5;129;01min\u001b[39;00m arrays]\n",
      "\u001b[31mTypeError\u001b[39m: 'NoneType' object cannot be interpreted as an integer"
     ]
    }
   ],
   "source": [
    "ar_18 = np.array([1, 2, 3])   #No of Rows: 1 No of Col.: 3\n",
    "ar_19 = np.array([4, 5, 6])   #No of Rows: 1 No of Col.: 3\n",
    "# ar_20  = np.stack((ar_18, ar_19)) #The default value for the axis is 0.\n",
    "ar_21 = np.stack((ar_18, ar_19), axis = 1)\n",
    "print(ar_21, end = '\\n\\n')\n",
    "\n"
   ]
  },
  {
   "cell_type": "code",
   "execution_count": 13,
   "id": "32574ec0-19e9-4d53-b204-1b6772bdf7c2",
   "metadata": {},
   "outputs": [
    {
     "name": "stdout",
     "output_type": "stream",
     "text": [
      "[[[ 1  2  3]\n",
      "  [ 4  5  6]]\n",
      "\n",
      " [[ 7  8  9]\n",
      "  [10 11 12]]]\n",
      "\n",
      "[[[ 1  2  3]\n",
      "  [ 7  8  9]]\n",
      "\n",
      " [[ 4  5  6]\n",
      "  [10 11 12]]]\n",
      "\n"
     ]
    }
   ],
   "source": [
    "ar_22 = np.array([[1,2,3], [4,5,6]])   #No of Rows: 2 No of Col.: 3\n",
    "ar_23 = np.array([[7,8,9], [10,11,12]])   #No of Rows: 2 No of Col.: 3\n",
    "\n",
    "ar_24 = np.stack((ar_22,ar_23), axis = 0)   #No of depth: 2 No of Rows: 2 No of Col.: 3\n",
    "ar_25 = np.stack((ar_22,ar_23), axis = 1)   #No of depth: 2 No of Rows: 2 No of Col.: 3\n",
    "\n",
    "print(ar_24, end = '\\n\\n')\n",
    "print(ar_25, end = '\\n\\n')\n"
   ]
  },
  {
   "cell_type": "code",
   "execution_count": 20,
   "id": "bb73cf5f-d728-4e4e-bb21-58519f0ee0e6",
   "metadata": {},
   "outputs": [
    {
     "name": "stdout",
     "output_type": "stream",
     "text": [
      "[[ 0.  1.  2.  3.  4.  5.]\n",
      " [ 6.  7.  8.  9. 10. 11.]\n",
      " [12. 13. 14. 15. 16. 17.]\n",
      " [18. 19. 20. 21. 22. 23.]]\n",
      "[array([[0., 1., 2., 3., 4., 5.]]), array([[ 6.,  7.,  8.,  9., 10., 11.]]), array([[12., 13., 14., 15., 16., 17.]]), array([[18., 19., 20., 21., 22., 23.]])]\n",
      "\n"
     ]
    }
   ],
   "source": [
    "import numpy as np\n",
    "ar_1 = np.arange(24.0).reshape(4, 6)\n",
    "print(ar_1)\n",
    "# print(np.hsplit(ar_1, 4), end = \"\\n\\n\")\n",
    "print(np.vsplit(ar_1, 4), end = \"\\n\\n\")\n",
    "\n",
    "\n"
   ]
  },
  {
   "cell_type": "code",
   "execution_count": null,
   "id": "df14f741-77fa-4d7c-9b58-d23b2ac53cc0",
   "metadata": {},
   "outputs": [],
   "source": []
  }
 ],
 "metadata": {
  "kernelspec": {
   "display_name": "Python 3 (ipykernel)",
   "language": "python",
   "name": "python3"
  },
  "language_info": {
   "codemirror_mode": {
    "name": "ipython",
    "version": 3
   },
   "file_extension": ".py",
   "mimetype": "text/x-python",
   "name": "python",
   "nbconvert_exporter": "python",
   "pygments_lexer": "ipython3",
   "version": "3.12.8"
  }
 },
 "nbformat": 4,
 "nbformat_minor": 5
}
