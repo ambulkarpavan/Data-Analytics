{
 "cells": [
  {
   "cell_type": "code",
   "execution_count": 9,
   "id": "a620904c-4064-4626-a3af-dda74553f414",
   "metadata": {},
   "outputs": [
    {
     "name": "stdout",
     "output_type": "stream",
     "text": [
      "[[1 2]\n",
      " [3 4]\n",
      " [5 6]]\n",
      "\n",
      "[[1 2 5]\n",
      " [3 4 6]]\n",
      "\n",
      "[[5]\n",
      " [6]]\n",
      "[1 2 3 4 5 6]\n",
      "\n"
     ]
    }
   ],
   "source": [
    "import numpy as np\n",
    "ar_1 = np.array([[1, 2], [3, 4]])  #No of Rows: 2 No of Col.: 2\n",
    "ar_2 = np.array([[5, 6]])  #No of Rows: 1 No of Col.: 2\n",
    "ar_3 = np.concatenate((ar_1, ar_2), axis=0)\n",
    "print(ar_3, end = '\\n\\n')\n",
    "ar_4 = np.concatenate((ar_1, ar_2.T), axis=1)  #No of Rows: 2 No of Col.: 3\n",
    "print(ar_4, end = '\\n\\n')\n",
    "ar_5 = np.concatenate((ar_1, ar_2), axis=None)  #No of Rows: 1 No of Col.: 6\n",
    "print(ar_5, end = '\\n\\n')\n",
    "\n"
   ]
  },
  {
   "cell_type": "code",
   "execution_count": 13,
   "id": "b7a1aa56-eb66-458b-9426-e880e9d6a664",
   "metadata": {},
   "outputs": [
    {
     "name": "stdout",
     "output_type": "stream",
     "text": [
      "[1 2 3 4 5 6]\n"
     ]
    }
   ],
   "source": [
    "ar_6 = np.array((1,2,3))  #No of Rows: 1 No of Col.: 3\n",
    "ar_7 = np.array((4,5,6))  #No of Rows: 1 No of Col.: 3\n",
    "ar_8 = np.hstack((ar_6, ar_7))\n",
    "print(ar_8)\n"
   ]
  },
  {
   "cell_type": "code",
   "execution_count": 14,
   "id": "e7187bf6-4193-4b92-936e-d3b73970f463",
   "metadata": {},
   "outputs": [
    {
     "ename": "ValueError",
     "evalue": "all the input arrays must have same number of dimensions, but the array at index 0 has 1 dimension(s) and the array at index 1 has 2 dimension(s)",
     "output_type": "error",
     "traceback": [
      "\u001b[31m---------------------------------------------------------------------------\u001b[39m",
      "\u001b[31mValueError\u001b[39m                                Traceback (most recent call last)",
      "\u001b[36mCell\u001b[39m\u001b[36m \u001b[39m\u001b[32mIn[14]\u001b[39m\u001b[32m, line 4\u001b[39m\n\u001b[32m      2\u001b[39m a = np.array([\u001b[32m10\u001b[39m, \u001b[32m20\u001b[39m, \u001b[32m30\u001b[39m])\n\u001b[32m      3\u001b[39m b = np.array([[\u001b[32m100\u001b[39m, \u001b[32m200\u001b[39m,\u001b[32m3\u001b[39m], [\u001b[32m70\u001b[39m, \u001b[32m90\u001b[39m,\u001b[32m4\u001b[39m]])\n\u001b[32m----> \u001b[39m\u001b[32m4\u001b[39m c = \u001b[43mnp\u001b[49m\u001b[43m.\u001b[49m\u001b[43mhstack\u001b[49m\u001b[43m(\u001b[49m\u001b[43m(\u001b[49m\u001b[43ma\u001b[49m\u001b[43m,\u001b[49m\u001b[43m \u001b[49m\u001b[43mb\u001b[49m\u001b[43m)\u001b[49m\u001b[43m)\u001b[49m\n\u001b[32m      5\u001b[39m \u001b[38;5;28mprint\u001b[39m(c.ndim + c.size)\n",
      "\u001b[36mFile \u001b[39m\u001b[32m~\\AppData\\Local\\Programs\\Python\\Python312\\Lib\\site-packages\\numpy\\_core\\shape_base.py:356\u001b[39m, in \u001b[36mhstack\u001b[39m\u001b[34m(tup, dtype, casting)\u001b[39m\n\u001b[32m    354\u001b[39m \u001b[38;5;66;03m# As a special case, dimension 0 of 1-dimensional arrays is \"horizontal\"\u001b[39;00m\n\u001b[32m    355\u001b[39m \u001b[38;5;28;01mif\u001b[39;00m arrs \u001b[38;5;129;01mand\u001b[39;00m arrs[\u001b[32m0\u001b[39m].ndim == \u001b[32m1\u001b[39m:\n\u001b[32m--> \u001b[39m\u001b[32m356\u001b[39m     \u001b[38;5;28;01mreturn\u001b[39;00m \u001b[43m_nx\u001b[49m\u001b[43m.\u001b[49m\u001b[43mconcatenate\u001b[49m\u001b[43m(\u001b[49m\u001b[43marrs\u001b[49m\u001b[43m,\u001b[49m\u001b[43m \u001b[49m\u001b[32;43m0\u001b[39;49m\u001b[43m,\u001b[49m\u001b[43m \u001b[49m\u001b[43mdtype\u001b[49m\u001b[43m=\u001b[49m\u001b[43mdtype\u001b[49m\u001b[43m,\u001b[49m\u001b[43m \u001b[49m\u001b[43mcasting\u001b[49m\u001b[43m=\u001b[49m\u001b[43mcasting\u001b[49m\u001b[43m)\u001b[49m\n\u001b[32m    357\u001b[39m \u001b[38;5;28;01melse\u001b[39;00m:\n\u001b[32m    358\u001b[39m     \u001b[38;5;28;01mreturn\u001b[39;00m _nx.concatenate(arrs, \u001b[32m1\u001b[39m, dtype=dtype, casting=casting)\n",
      "\u001b[31mValueError\u001b[39m: all the input arrays must have same number of dimensions, but the array at index 0 has 1 dimension(s) and the array at index 1 has 2 dimension(s)"
     ]
    }
   ],
   "source": [
    "import numpy as np\n",
    "a = np.array([10, 20, 30])\n",
    "b = np.array([[100, 200,3], [70, 90,4]])\n",
    "c = np.hstack((a, b))\n",
    "print(c.ndim + c.size)\n"
   ]
  },
  {
   "cell_type": "code",
   "execution_count": 16,
   "id": "6fe3e87b-be18-4afc-9810-8f16e9c32969",
   "metadata": {},
   "outputs": [
    {
     "name": "stdout",
     "output_type": "stream",
     "text": [
      "[array([[ 0.,  1.,  2.],\n",
      "       [ 6.,  7.,  8.],\n",
      "       [12., 13., 14.],\n",
      "       [18., 19., 20.]]), array([[ 3.,  4.,  5.],\n",
      "       [ 9., 10., 11.],\n",
      "       [15., 16., 17.],\n",
      "       [21., 22., 23.]])]\n",
      "\n",
      "[array([[ 0.,  1.],\n",
      "       [ 6.,  7.],\n",
      "       [12., 13.],\n",
      "       [18., 19.]]), array([[ 2.,  3.],\n",
      "       [ 8.,  9.],\n",
      "       [14., 15.],\n",
      "       [20., 21.]]), array([[ 4.,  5.],\n",
      "       [10., 11.],\n",
      "       [16., 17.],\n",
      "       [22., 23.]])]\n",
      "\n",
      "[array([[ 0.,  1.,  2.,  3.,  4.,  5.],\n",
      "       [ 6.,  7.,  8.,  9., 10., 11.]]), array([[12., 13., 14., 15., 16., 17.],\n",
      "       [18., 19., 20., 21., 22., 23.]])]\n",
      "\n",
      "[array([[0., 1., 2., 3., 4., 5.]]), array([[ 6.,  7.,  8.,  9., 10., 11.]]), array([[12., 13., 14., 15., 16., 17.]]), array([[18., 19., 20., 21., 22., 23.]])]\n",
      "\n"
     ]
    }
   ],
   "source": [
    "\n",
    "import numpy as np\n",
    "ar_1 = np.arange(24.0).reshape(4, 6)\n",
    "print(np.hsplit(ar_1, 2), end = \"\\n\\n\")\n",
    "print(np.hsplit(ar_1, 3), end = \"\\n\\n\")\n",
    "#print(np.hsplit(ar_1, 4))\n",
    "print(np.vsplit(ar_1, 2), end = \"\\n\\n\")\n",
    "print(np.vsplit(ar_1, 4), end = \"\\n\\n\")\n",
    "#print(np.vsplit(ar_1, 3))\n",
    "\n"
   ]
  },
  {
   "cell_type": "code",
   "execution_count": 17,
   "id": "f37f203f-4ff0-46bd-8979-255c0651c64e",
   "metadata": {},
   "outputs": [
    {
     "name": "stdout",
     "output_type": "stream",
     "text": [
      "[array([0, 1, 2, 3]), array([4, 5, 6, 7])]\n",
      "[array([0, 1]), array([2, 3]), array([4, 5]), array([6, 7])]\n",
      "[array([0, 1]), array([2, 3, 4, 5]), array([6, 7])]\n"
     ]
    }
   ],
   "source": [
    "ar_2 = np.arange(8)\n",
    "print(np.split(ar_2, 2))\n",
    "print(np.split(ar_2, 4))\n",
    "print(np.split(ar_2, (2,6)))\n"
   ]
  },
  {
   "cell_type": "code",
   "execution_count": 18,
   "id": "41af1977-ad79-4fa8-ba9b-d8b7ab96f929",
   "metadata": {},
   "outputs": [
    {
     "name": "stdout",
     "output_type": "stream",
     "text": [
      "[[0 7 8 9 1]\n",
      " [2 7 8 9 3]\n",
      " [4 7 8 9 5]]\n"
     ]
    }
   ],
   "source": [
    "a = np.arange(6).reshape(3, 2)\n",
    "b = np.insert(a, 1, [[7],[8],[9]], axis=1)\n",
    "print(b)"
   ]
  },
  {
   "cell_type": "code",
   "execution_count": 19,
   "id": "7d01c439-33d8-40ed-918a-8d5816b46bf4",
   "metadata": {},
   "outputs": [
    {
     "name": "stdout",
     "output_type": "stream",
     "text": [
      "[0 1 7 0 2 3 4 5]\n"
     ]
    }
   ],
   "source": [
    "b = np.array([0, 1, 2, 3, 4, 5])\n",
    "a = np.insert(b, [2, 2], [7.13, False])\n",
    "print(a)\n",
    "\n"
   ]
  },
  {
   "cell_type": "code",
   "execution_count": 21,
   "id": "0a5feee4-696b-4bdc-b2e1-e81b98d43efa",
   "metadata": {},
   "outputs": [
    {
     "name": "stdout",
     "output_type": "stream",
     "text": [
      "[[1 4]\n",
      " [1 3]]\n"
     ]
    }
   ],
   "source": [
    "import numpy as np\n",
    "ar_1 = np.array([[1,4],[3,1]])\n",
    "ar_2 = np.sort(ar_1, axis = 1)\n",
    "print(ar_2)\n"
   ]
  },
  {
   "cell_type": "code",
   "execution_count": null,
   "id": "da88c4e2-dc07-4587-bd92-65aa9a22777f",
   "metadata": {},
   "outputs": [],
   "source": []
  }
 ],
 "metadata": {
  "kernelspec": {
   "display_name": "Python 3 (ipykernel)",
   "language": "python",
   "name": "python3"
  },
  "language_info": {
   "codemirror_mode": {
    "name": "ipython",
    "version": 3
   },
   "file_extension": ".py",
   "mimetype": "text/x-python",
   "name": "python",
   "nbconvert_exporter": "python",
   "pygments_lexer": "ipython3",
   "version": "3.12.8"
  }
 },
 "nbformat": 4,
 "nbformat_minor": 5
}
