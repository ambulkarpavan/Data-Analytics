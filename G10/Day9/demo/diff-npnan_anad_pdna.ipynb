{
 "cells": [
  {
   "cell_type": "code",
   "execution_count": 2,
   "id": "903edd96-ac04-4399-af73-ee9640dcc3b7",
   "metadata": {},
   "outputs": [
    {
     "name": "stdout",
     "output_type": "stream",
     "text": [
      "[10. 20. 30. nan]\n",
      "float64\n"
     ]
    }
   ],
   "source": [
    "import numpy as np\n",
    "import pandas as pd\n",
    "\n",
    "arr_1 = np.array([10,20, 30, np.nan])\n",
    "print(arr_1)\n",
    "print(arr_1.dtype)\n",
    "\n",
    "#Reason: \n",
    "#1. np.nan type float64\n",
    "#2. int64 not nullable type i.e. cannot handle missing values\n",
    "\n",
    "#Excel file--> column: age"
   ]
  },
  {
   "cell_type": "code",
   "execution_count": 5,
   "id": "196370b2-84c8-4a90-b015-b208c17faa7c",
   "metadata": {},
   "outputs": [
    {
     "name": "stdout",
     "output_type": "stream",
     "text": [
      "0      10\n",
      "1      20\n",
      "2      30\n",
      "3    <NA>\n",
      "dtype: Int64\n"
     ]
    }
   ],
   "source": [
    "ser_1 = pd.Series([10, 20, 30, np.nan], dtype = \"Int64\")\n",
    "print(ser_1)\n",
    "#np.nan --> NA\n",
    "#Data type: Int64 (Nullable data type)"
   ]
  },
  {
   "cell_type": "code",
   "execution_count": 8,
   "id": "ce7a7a62-e170-4f2d-9b5e-74234c9abb00",
   "metadata": {},
   "outputs": [
    {
     "name": "stdout",
     "output_type": "stream",
     "text": [
      "0    10.0\n",
      "1    20.0\n",
      "2    30.0\n",
      "3    <NA>\n",
      "dtype: Float64\n"
     ]
    }
   ],
   "source": [
    "ser_2 = pd.Series([10.0, 20.0, 30.0, np.nan], dtype = \"Float64\")\n",
    "print(ser_2)\n",
    "#np.nan --> NA\n",
    "#Data type: Float64 (Nullable data type)"
   ]
  },
  {
   "cell_type": "code",
   "execution_count": 10,
   "id": "47af1673-93ad-4a2d-a30c-1abb40bec665",
   "metadata": {},
   "outputs": [
    {
     "name": "stdout",
     "output_type": "stream",
     "text": [
      "[10. 20. 30. nan]\n",
      "float64\n"
     ]
    }
   ],
   "source": [
    "arr_2 = np.array([10.0, 20.0, 30.0, np.nan], dtype = \"float64\")\n",
    "print(arr_2)\n",
    "print(arr_2.dtype)\n",
    "#np.nan\n",
    "#Data type: float64 (Nullable data type of numpy)"
   ]
  },
  {
   "cell_type": "code",
   "execution_count": 3,
   "id": "ba339905-8e40-497e-b308-17729e6c1958",
   "metadata": {},
   "outputs": [
    {
     "name": "stdout",
     "output_type": "stream",
     "text": [
      "['Google' 'Meta' 'Apple']\n",
      "<U6\n"
     ]
    }
   ],
   "source": [
    "arr_3 = np.array(['Google', 'Meta', 'Apple', np.nan])\n",
    "print(arr_3)\n",
    "print(arr_3.dtype)\n",
    "#np.nan --> 'nan'\n",
    "#Data type: <U6 (<: little endian, U: unicode, 32: length, not-nullable)"
   ]
  },
  {
   "cell_type": "code",
   "execution_count": 13,
   "id": "b9d61fd0-576a-492f-bdcd-d3afba13a14f",
   "metadata": {},
   "outputs": [
    {
     "name": "stdout",
     "output_type": "stream",
     "text": [
      "0    Google\n",
      "1      Meta\n",
      "2     Apple\n",
      "3      <NA>\n",
      "dtype: string\n"
     ]
    }
   ],
   "source": [
    "ser_3 = pd.Series(['Google', 'Meta', 'Apple', np.nan], dtype = \"string\")\n",
    "print(ser_3)\n",
    "#np.nan --> NA\n",
    "#Data type: string (Nullable data type)"
   ]
  },
  {
   "cell_type": "code",
   "execution_count": 14,
   "id": "c8522f33-a518-44a4-ad1e-fc0c7c384d10",
   "metadata": {},
   "outputs": [
    {
     "name": "stdout",
     "output_type": "stream",
     "text": [
      "0     True\n",
      "1    False\n",
      "2     <NA>\n",
      "dtype: boolean\n"
     ]
    }
   ],
   "source": [
    "ser_4 = pd.Series([True, False, np.nan], dtype = \"boolean\")\n",
    "print(ser_4)\n",
    "#np.nan --> NA\n",
    "#Data type: boolean (Nullable data type)"
   ]
  },
  {
   "cell_type": "code",
   "execution_count": 6,
   "id": "3b398600-52de-40a3-946b-89892fd56d47",
   "metadata": {},
   "outputs": [
    {
     "name": "stdout",
     "output_type": "stream",
     "text": [
      "['Google' {'A': 10} 10.0 nan]\n",
      "object\n"
     ]
    }
   ],
   "source": [
    "arr_4 = np.array(['Google', {'A': 10}, 10.0, np.nan])\n",
    "print(arr_4)\n",
    "print(arr_4.dtype)\n",
    "#np.nan --> nan\n",
    "#Data type: object"
   ]
  },
  {
   "cell_type": "code",
   "execution_count": 16,
   "id": "28b7a17a-25a2-4610-a44c-2f22da763e29",
   "metadata": {},
   "outputs": [
    {
     "name": "stdout",
     "output_type": "stream",
     "text": [
      "0       Google\n",
      "1    {'A': 10}\n",
      "2         10.0\n",
      "3          NaN\n",
      "dtype: object\n"
     ]
    }
   ],
   "source": [
    "ser_5 = pd.Series(['Google', {'A': 10}, 10.0, np.nan])\n",
    "print(ser_5)\n",
    "#np.nan --> NaN\n",
    "#Data type: object"
   ]
  },
  {
   "cell_type": "code",
   "execution_count": 17,
   "id": "3a67f014-bce1-4353-b5be-c6b6dabdad2c",
   "metadata": {},
   "outputs": [
    {
     "name": "stdout",
     "output_type": "stream",
     "text": [
      "0    10.0\n",
      "1    20.0\n",
      "2    30.0\n",
      "3     NaN\n",
      "dtype: float64\n"
     ]
    }
   ],
   "source": [
    "ser_6 = pd.Series([10.0, 20.0, 30.0, np.nan])\n",
    "print(ser_6)\n",
    "#np.nan --> NaN\n",
    "#Data type: float64 (Nullable data type)\n",
    "#pndas is developed on the numpy hence it follows the type conversion rules from numpy"
   ]
  },
  {
   "cell_type": "code",
   "execution_count": 21,
   "id": "6c59b49c-e2d9-4e3f-b4b0-ca1cdf1bb7ed",
   "metadata": {},
   "outputs": [
    {
     "name": "stdout",
     "output_type": "stream",
     "text": [
      "False\n",
      "<NA>\n"
     ]
    }
   ],
   "source": [
    "print(np.nan == np.nan)\n",
    "print(pd.NA == pd.NA)"
   ]
  },
  {
   "cell_type": "code",
   "execution_count": 22,
   "id": "7e87e771-34ba-4ce2-a4f9-5ac258667016",
   "metadata": {},
   "outputs": [
    {
     "name": "stdout",
     "output_type": "stream",
     "text": [
      "<class 'float'>\n",
      "<class 'pandas._libs.missing.NAType'>\n"
     ]
    }
   ],
   "source": [
    "print(type(np.nan))\n",
    "print(type(pd.NA))"
   ]
  },
  {
   "cell_type": "code",
   "execution_count": 23,
   "id": "cdbfb9d9-504f-4aea-890f-47f0547c6dbd",
   "metadata": {},
   "outputs": [
    {
     "name": "stdout",
     "output_type": "stream",
     "text": [
      "True\n"
     ]
    }
   ],
   "source": [
    "a = np.nan\n",
    "b = np.nan\n",
    "print(a is b)"
   ]
  },
  {
   "cell_type": "code",
   "execution_count": 24,
   "id": "4beb3bff-bbc1-4b34-982f-307533552cbc",
   "metadata": {},
   "outputs": [
    {
     "name": "stdout",
     "output_type": "stream",
     "text": [
      "True\n"
     ]
    }
   ],
   "source": [
    "a = pd.NA\n",
    "b = pd.NA\n",
    "print(a is b)"
   ]
  },
  {
   "cell_type": "code",
   "execution_count": 25,
   "id": "2ce71483-22c2-42eb-86dd-b79e8b3c56fe",
   "metadata": {},
   "outputs": [
    {
     "name": "stdout",
     "output_type": "stream",
     "text": [
      "True\n"
     ]
    }
   ],
   "source": [
    "a = np.nan\n",
    "print(np.isnan(a))"
   ]
  },
  {
   "cell_type": "code",
   "execution_count": 27,
   "id": "760b617a-8521-4492-9e9e-0bf2a8a1dae2",
   "metadata": {},
   "outputs": [
    {
     "name": "stdout",
     "output_type": "stream",
     "text": [
      "True\n",
      "False\n"
     ]
    }
   ],
   "source": [
    "b = pd.NA\n",
    "print(pd.isna(b))\n",
    "print(pd.notna(b))"
   ]
  },
  {
   "cell_type": "code",
   "execution_count": 15,
   "id": "68219317-6df8-4390-8e98-819a091c30d4",
   "metadata": {},
   "outputs": [
    {
     "data": {
      "text/plain": [
       "tiger    1.5\n",
       "zebra    2.5\n",
       "abc      5.0\n",
       "dtype: float64"
      ]
     },
     "execution_count": 15,
     "metadata": {},
     "output_type": "execute_result"
    }
   ],
   "source": [
    "df1 = pd.DataFrame(\n",
    "  {\n",
    "    'a': [1, 2, 3],\n",
    "    'b': [2, 3, 7]\n",
    "  },\n",
    "  index=['tiger', 'zebra', 'abc']\n",
    ")\n",
    "# print(df1.mean())\n",
    "# print(df1)\n",
    "\n",
    "df1.mean(axis=1)\n"
   ]
  },
  {
   "cell_type": "code",
   "execution_count": 16,
   "id": "c75b89d5-9db4-4b0b-942c-e80a1a4f9ff8",
   "metadata": {},
   "outputs": [
    {
     "data": {
      "text/plain": [
       "a    1.5\n",
       "b    2.5\n",
       "dtype: float64"
      ]
     },
     "execution_count": 16,
     "metadata": {},
     "output_type": "execute_result"
    }
   ],
   "source": [
    "df1 = pd.DataFrame(\n",
    "  {\n",
    "    'a': [1, 2],\n",
    "    'b': [2, 3]\n",
    "  },\n",
    "  index=['tiger', 'zebra']\n",
    ")\n",
    "df1.median()\n"
   ]
  },
  {
   "cell_type": "code",
   "execution_count": 18,
   "id": "f365e552-302b-44b9-bdfa-f1077493860c",
   "metadata": {},
   "outputs": [
    {
     "name": "stdout",
     "output_type": "stream",
     "text": [
      "           species  legs  wings\n",
      "falcon        bird     2    2.0\n",
      "horse       mammal     4    NaN\n",
      "spider   arthropod     8    0.0\n",
      "ostrich       bird     2    NaN\n"
     ]
    },
    {
     "data": {
      "text/html": [
       "<div>\n",
       "<style scoped>\n",
       "    .dataframe tbody tr th:only-of-type {\n",
       "        vertical-align: middle;\n",
       "    }\n",
       "\n",
       "    .dataframe tbody tr th {\n",
       "        vertical-align: top;\n",
       "    }\n",
       "\n",
       "    .dataframe thead th {\n",
       "        text-align: right;\n",
       "    }\n",
       "</style>\n",
       "<table border=\"1\" class=\"dataframe\">\n",
       "  <thead>\n",
       "    <tr style=\"text-align: right;\">\n",
       "      <th></th>\n",
       "      <th>species</th>\n",
       "      <th>legs</th>\n",
       "      <th>wings</th>\n",
       "    </tr>\n",
       "  </thead>\n",
       "  <tbody>\n",
       "    <tr>\n",
       "      <th>0</th>\n",
       "      <td>bird</td>\n",
       "      <td>2.0</td>\n",
       "      <td>0.0</td>\n",
       "    </tr>\n",
       "    <tr>\n",
       "      <th>1</th>\n",
       "      <td>NaN</td>\n",
       "      <td>NaN</td>\n",
       "      <td>2.0</td>\n",
       "    </tr>\n",
       "  </tbody>\n",
       "</table>\n",
       "</div>"
      ],
      "text/plain": [
       "  species  legs  wings\n",
       "0    bird   2.0    0.0\n",
       "1     NaN   NaN    2.0"
      ]
     },
     "execution_count": 18,
     "metadata": {},
     "output_type": "execute_result"
    }
   ],
   "source": [
    "df3 = pd.DataFrame(\n",
    "  [('bird', 2, 2), ('mammal', 4, np.nan), ('arthropod', 8, 0), ('bird', 2, np.nan)],\n",
    "  index=('falcon', 'horse', 'spider', 'ostrich'),\n",
    "  columns=('species', 'legs', 'wings')\n",
    ")\n",
    "print(df3)\n",
    "df3.mode()\n"
   ]
  },
  {
   "cell_type": "code",
   "execution_count": null,
   "id": "fb2a6290-5204-49ba-bfe0-70a087aa8f97",
   "metadata": {},
   "outputs": [],
   "source": []
  }
 ],
 "metadata": {
  "kernelspec": {
   "display_name": "Python 3 (ipykernel)",
   "language": "python",
   "name": "python3"
  },
  "language_info": {
   "codemirror_mode": {
    "name": "ipython",
    "version": 3
   },
   "file_extension": ".py",
   "mimetype": "text/x-python",
   "name": "python",
   "nbconvert_exporter": "python",
   "pygments_lexer": "ipython3",
   "version": "3.12.8"
  }
 },
 "nbformat": 4,
 "nbformat_minor": 5
}
