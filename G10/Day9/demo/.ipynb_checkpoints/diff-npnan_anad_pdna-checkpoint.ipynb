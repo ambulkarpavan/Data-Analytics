{
 "cells": [
  {
   "cell_type": "code",
   "execution_count": 3,
   "id": "903edd96-ac04-4399-af73-ee9640dcc3b7",
   "metadata": {},
   "outputs": [
    {
     "name": "stdout",
     "output_type": "stream",
     "text": [
      "[10. 20. 30. nan]\n",
      "float64\n"
     ]
    }
   ],
   "source": [
    "import numpy as np\n",
    "import pandas as pd\n",
    "\n",
    "arr_1 = np.array([10,20, 30, np.nan])\n",
    "print(arr_1)\n",
    "print(arr_1.dtype)\n",
    "\n",
    "#Reason: \n",
    "#1. np.nan type float64\n",
    "#2. int64 not nullable type i.e. cannot handle missing values\n",
    "\n",
    "#Excel file--> column: age"
   ]
  },
  {
   "cell_type": "code",
   "execution_count": 5,
   "id": "196370b2-84c8-4a90-b015-b208c17faa7c",
   "metadata": {},
   "outputs": [
    {
     "name": "stdout",
     "output_type": "stream",
     "text": [
      "0      10\n",
      "1      20\n",
      "2      30\n",
      "3    <NA>\n",
      "dtype: Int64\n"
     ]
    }
   ],
   "source": [
    "ser_1 = pd.Series([10, 20, 30, np.nan], dtype = \"Int64\")\n",
    "print(ser_1)\n",
    "#np.nan --> NA\n",
    "#Data type: Int64 (Nullable data type)"
   ]
  },
  {
   "cell_type": "code",
   "execution_count": 7,
   "id": "ce7a7a62-e170-4f2d-9b5e-74234c9abb00",
   "metadata": {},
   "outputs": [
    {
     "name": "stdout",
     "output_type": "stream",
     "text": [
      "0    10.0\n",
      "1    20.0\n",
      "2    30.0\n",
      "3     NaN\n",
      "dtype: float64\n"
     ]
    }
   ],
   "source": [
    "ser_2 = pd.Series([10.0, 20.0, 30.0, np.nan], dtype = \"Float64\")\n",
    "print(ser_2)\n",
    "#np.nan --> NA\n",
    "#Data type: Float64 (Nullable data type)"
   ]
  },
  {
   "cell_type": "code",
   "execution_count": null,
   "id": "47af1673-93ad-4a2d-a30c-1abb40bec665",
   "metadata": {},
   "outputs": [],
   "source": [
    "arr_2 = np.array([10.0, 20.0, 30.0, np.nan], dtype = \"float64\")\n",
    "print(arr_2)\n",
    "#np.nan\n",
    "#Data type: float64 (Nullable data type of numpy)"
   ]
  }
 ],
 "metadata": {
  "kernelspec": {
   "display_name": "Python 3 (ipykernel)",
   "language": "python",
   "name": "python3"
  },
  "language_info": {
   "codemirror_mode": {
    "name": "ipython",
    "version": 3
   },
   "file_extension": ".py",
   "mimetype": "text/x-python",
   "name": "python",
   "nbconvert_exporter": "python",
   "pygments_lexer": "ipython3",
   "version": "3.12.8"
  }
 },
 "nbformat": 4,
 "nbformat_minor": 5
}
