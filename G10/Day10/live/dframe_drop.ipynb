{
 "cells": [
  {
   "cell_type": "code",
   "execution_count": 4,
   "id": "78d64a61-c012-49e5-a8e5-f31a97b3ad27",
   "metadata": {},
   "outputs": [
    {
     "name": "stdout",
     "output_type": "stream",
     "text": [
      "Id of original dataframe 2157053582352\n",
      "   A  B   C\n",
      "0  1  5   8\n",
      "1  2  6   9\n",
      "2  3  7  10\n",
      "Id of modified dataframe 2157053582352\n",
      "   A   C\n",
      "0  1   8\n",
      "1  2   9\n",
      "2  3  10\n"
     ]
    }
   ],
   "source": [
    "import numpy as np\n",
    "import pandas as pd\n",
    "\n",
    "df = pd.DataFrame({'A': [1, 2, 3], 'B': [5, 6, 7], 'C': [8, 9, 10]})\n",
    "print(\"Id of original dataframe\",id(df))\n",
    "print(df)\n",
    "\n",
    "df.drop('B',inplace = True,  axis = 1)\n",
    "print(\"Id of modified dataframe\",id(df))\n",
    "print(df)\n",
    "\n"
   ]
  },
  {
   "cell_type": "code",
   "execution_count": 7,
   "id": "7b10f6c8-c89f-4650-8f7e-c0c7462a56c8",
   "metadata": {},
   "outputs": [
    {
     "name": "stdout",
     "output_type": "stream",
     "text": [
      "[10. nan 20. 30. 40.]\n",
      "float64\n"
     ]
    }
   ],
   "source": [
    "ar_1 = np.array([10, np.nan, 20, 30, 40])\n",
    "print(ar_1)\n",
    "print(ar_1.dtype)\n",
    "\n",
    "# float, object"
   ]
  },
  {
   "cell_type": "code",
   "execution_count": 8,
   "id": "6b6cdb34-2d61-4761-a06d-80e65aab8962",
   "metadata": {},
   "outputs": [
    {
     "name": "stdout",
     "output_type": "stream",
     "text": [
      "['a' 'nan' 'b' 'c' 'd']\n",
      "<U32\n"
     ]
    }
   ],
   "source": [
    "ar_1 = np.array(['a', np.nan, 'b', 'c', 'd'])\n",
    "print(ar_1)\n",
    "print(ar_1.dtype)"
   ]
  },
  {
   "cell_type": "code",
   "execution_count": 11,
   "id": "89e96fd0-f62b-4610-aaa0-f987449b5dd3",
   "metadata": {},
   "outputs": [
    {
     "name": "stdout",
     "output_type": "stream",
     "text": [
      "0      10\n",
      "1    <NA>\n",
      "2      20\n",
      "3      30\n",
      "4      40\n",
      "dtype: Int64\n",
      "Int64\n"
     ]
    }
   ],
   "source": [
    "ar_1 = pd.Series([10, np.nan, 20, 30, 40], dtype=\"Int64\")\n",
    "print(ar_1)\n",
    "print(ar_1.dtype)"
   ]
  },
  {
   "cell_type": "code",
   "execution_count": 14,
   "id": "dd3ca872-88f6-4cec-8a36-493d908ab1f9",
   "metadata": {},
   "outputs": [
    {
     "name": "stdout",
     "output_type": "stream",
     "text": [
      "0       a\n",
      "1    <NA>\n",
      "2       b\n",
      "3       c\n",
      "4       d\n",
      "dtype: string\n",
      "string\n"
     ]
    }
   ],
   "source": [
    "ar_1 = pd.Series(['a', np.nan, 'b', 'c', 'd'], dtype='string')\n",
    "print(ar_1)\n",
    "print(ar_1.dtype)"
   ]
  },
  {
   "cell_type": "code",
   "execution_count": 15,
   "id": "0069dca6-0e83-49ea-9628-3322ae8d6635",
   "metadata": {},
   "outputs": [
    {
     "name": "stdout",
     "output_type": "stream",
     "text": [
      "0     <NA>\n",
      "1    False\n",
      "dtype: boolean\n"
     ]
    }
   ],
   "source": [
    "ser = pd.Series([True, False], dtype=\"boolean\")\n",
    "ser.iloc[0] = None\n",
    "print(ser)\n"
   ]
  },
  {
   "cell_type": "code",
   "execution_count": 19,
   "id": "d3f69f09-324a-4cee-98ac-cf3f205765c2",
   "metadata": {},
   "outputs": [
    {
     "name": "stdout",
     "output_type": "stream",
     "text": [
      "0    2.0\n",
      "1    NaN\n",
      "2    3.0\n",
      "3    NaN\n",
      "dtype: float64\n",
      "\n",
      "0    2.0\n",
      "1    NaN\n",
      "2    5.0\n",
      "3    NaN\n",
      "dtype: float64\n",
      "\n",
      "0    2.0\n",
      "1    NaN\n",
      "2    NaN\n",
      "3    NaN\n",
      "dtype: float64\n"
     ]
    }
   ],
   "source": [
    "ser = pd.Series([2, np.nan, 3, np.nan])\n",
    "print(ser, end = '\\n\\n')\n",
    "print(ser.cumsum(), end = '\\n\\n')\n",
    "print(ser.cumsum(skipna = False))\n",
    "\n",
    "\n"
   ]
  },
  {
   "cell_type": "code",
   "execution_count": 22,
   "id": "5da135e6-f06c-44e3-a1e8-1f123be936fd",
   "metadata": {},
   "outputs": [
    {
     "name": "stdout",
     "output_type": "stream",
     "text": [
      "     0  1    2\n",
      "0  NaN  1  2.0\n",
      "1  1.0  2  NaN\n",
      "2  1.0  2  3.0\n",
      "\n",
      "   1\n",
      "0  1\n",
      "1  2\n",
      "2  2\n",
      "\n"
     ]
    }
   ],
   "source": [
    "df = pd.DataFrame([[np.nan, 1, 2], [1, 2, np.nan], [1, 2, 3]])\n",
    "print(df, end = '\\n\\n')\n",
    "df1 = df.dropna(axis =1)\n",
    "print(df1, end = '\\n\\n')\n"
   ]
  },
  {
   "cell_type": "code",
   "execution_count": 25,
   "id": "4914520f-d802-44ff-b1bf-96a5231fc141",
   "metadata": {},
   "outputs": [
    {
     "name": "stdout",
     "output_type": "stream",
     "text": [
      "    np  arrow\n",
      "0  1.0    1.0\n",
      "1  NaN   <NA>\n",
      "2  NaN   <NA>\n",
      "3  2.0    2.0\n",
      "\n",
      "    np  arrow\n",
      "0  1.0    1.0\n",
      "1  1.0    1.0\n",
      "2  1.0    1.0\n",
      "3  2.0    2.0\n",
      "\n",
      "    np  arrow\n",
      "0  1.0    1.0\n",
      "1  2.0    2.0\n",
      "2  2.0    2.0\n",
      "3  2.0    2.0\n"
     ]
    }
   ],
   "source": [
    "data = {\"np\": [1.0, np.nan, np.nan, 2], \"arrow\": pd.array([1.0, pd.NA, pd.NA, 2], dtype=\"Float64\")}\n",
    "df = pd.DataFrame(data)\n",
    "print(df, end = '\\n\\n')\n",
    "# print(df.fillna(0))\n",
    "\n",
    "print(df.ffill(), end = '\\n\\n')\n",
    "print(df.bfill())\n"
   ]
  },
  {
   "cell_type": "code",
   "execution_count": 28,
   "id": "b7e55987-b76f-4717-8292-761d05041d4c",
   "metadata": {},
   "outputs": [
    {
     "name": "stdout",
     "output_type": "stream",
     "text": [
      "           angles  degrees\n",
      "circle          0      360\n",
      "triangle        3      180\n",
      "rectangle       4      360\n",
      "           angles  degrees\n",
      "circle          1      361\n",
      "triangle        4      181\n",
      "rectangle       5      361\n",
      "           angles  degrees\n",
      "circle          1      361\n",
      "triangle        4      181\n",
      "rectangle       5      361\n"
     ]
    }
   ],
   "source": [
    "\n",
    "dFrame1 = pd.DataFrame(\n",
    "  {\n",
    "    'angles': [0, 3, 4],\n",
    "    'degrees': [360, 180, 360]\n",
    "  },\n",
    "  index=['circle', 'triangle', 'rectangle']\n",
    ")\n",
    "print(dFrame1)\n",
    "print(dFrame1 + 1)\n",
    "# print(dFrame1.add(1))\n"
   ]
  },
  {
   "cell_type": "code",
   "execution_count": 33,
   "id": "ab0e7f6c-2888-4d15-9ec9-02ee1bf283ce",
   "metadata": {},
   "outputs": [
    {
     "name": "stdout",
     "output_type": "stream",
     "text": [
      "       A      B\n",
      "R1     0  360.0\n",
      "R2     3  180.0\n",
      "R3     4  360.0\n",
      "R4  <NA>   <NA>\n",
      "       A      B\n",
      "R1    10  370.0\n",
      "R2    23  200.0\n",
      "R3    34  390.0\n",
      "R4  <NA>   <NA>\n"
     ]
    }
   ],
   "source": [
    "dFrame2 = pd.DataFrame(\n",
    "  {\n",
    "    'A': pd.Series([0, 3, 4, np.nan], dtype = 'Int64', index=['R1', 'R2', 'R3', 'R4']),\n",
    "    'B': pd.Series([360, 180, 360, np.nan], dtype = 'Float64', index=['R1', 'R2', 'R3', 'R4'])\n",
    "  }\n",
    ")\n",
    "print(dFrame2)\n",
    "# print(dFrame2 + 1)\n",
    "# print(dFrame2.add(1, fill_value = 0))\n",
    "# print(dFrame2 + [10, 20])\n",
    "print(dFrame2.add(pd.Series([10, 20, 30, 40], index = [\"R1\", \"R2\", \"R3\", \"R4\"]), axis = 0))\n"
   ]
  },
  {
   "cell_type": "code",
   "execution_count": 36,
   "id": "c625afc1-6205-45d5-992e-6dbd56f946ca",
   "metadata": {},
   "outputs": [
    {
     "name": "stdout",
     "output_type": "stream",
     "text": [
      "NewDelhi\n",
      "NewDelhi\n"
     ]
    }
   ],
   "source": [
    "country_cap_series = pd.Series(['NewDelhi', 'WashingtonDC', 'London', 'Paris'], index=['India', 'USA', 'UK', 'France'])\n",
    "print(country_cap_series['India'])\n",
    "print(country_cap_series.iloc[0])\n",
    "print(country_cap_series.iloc[1:3])"
   ]
  },
  {
   "cell_type": "code",
   "execution_count": null,
   "id": "211e3711-55f4-46be-b51f-b375f74fc224",
   "metadata": {},
   "outputs": [],
   "source": []
  }
 ],
 "metadata": {
  "kernelspec": {
   "display_name": "Python 3 (ipykernel)",
   "language": "python",
   "name": "python3"
  },
  "language_info": {
   "codemirror_mode": {
    "name": "ipython",
    "version": 3
   },
   "file_extension": ".py",
   "mimetype": "text/x-python",
   "name": "python",
   "nbconvert_exporter": "python",
   "pygments_lexer": "ipython3",
   "version": "3.12.8"
  }
 },
 "nbformat": 4,
 "nbformat_minor": 5
}
