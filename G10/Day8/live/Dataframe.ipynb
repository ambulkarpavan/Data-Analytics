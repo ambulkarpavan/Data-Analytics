{
 "cells": [
  {
   "cell_type": "code",
   "execution_count": 14,
   "id": "74ed253d-9269-4c7c-be06-b2382d41c7a7",
   "metadata": {},
   "outputs": [
    {
     "name": "stdout",
     "output_type": "stream",
     "text": [
      "    State  GArea      VDF\n",
      "0   Assam  78438  2797.00\n",
      "1   Delhi   1483     6.72\n",
      "2  Kerala  38852  1663.00\n",
      "    State      VDF  GArea\n",
      "0   Assam  2797.00  78438\n",
      "1   Delhi     6.72   1483\n",
      "2  Kerala  1663.00  38852\n"
     ]
    }
   ],
   "source": [
    "import numpy as np \n",
    "import pandas as pd\n",
    "\n",
    "dictForest = {'State': ['Assam', 'Delhi', 'Kerala'], 'GArea': [78438, 1483, 38852] ,'VDF' : [2797, 6.72,1663]}\n",
    "dFrame4 = pd.DataFrame(dictForest)\n",
    "print(dFrame4)\n",
    "\n",
    "dFrame5 = pd.DataFrame(dictForest, columns = ['State','VDF', 'GArea'])\n",
    "print(dFrame5)\n",
    "\n"
   ]
  },
  {
   "cell_type": "code",
   "execution_count": 3,
   "id": "29c34f34-16f2-4e73-91e7-5a6229e57bef",
   "metadata": {},
   "outputs": [
    {
     "name": "stdout",
     "output_type": "stream",
     "text": [
      "        a       b       c       d       e     z     y\n",
      "0     1.0     2.0     3.0     4.0     5.0   NaN   NaN\n",
      "1  1000.0  2000.0 -1000.0 -5000.0  1000.0   NaN   NaN\n",
      "2   -10.0     NaN   -50.0     NaN   100.0  10.0  20.0\n"
     ]
    }
   ],
   "source": [
    "seriesA = pd.Series([1,2,3,4,5], index = ['a', 'b', 'c', 'd', 'e'])\n",
    "seriesB = pd.Series ([1000,2000,-1000,-5000,1000], index = ['a', 'b', 'c', 'd', 'e'])\n",
    "seriesC = pd.Series([10,20,-10,-50,100], index = ['z', 'y', 'a', 'c', 'e'])\n",
    "dFrame6 = pd.DataFrame([seriesA, seriesB, seriesC])\n",
    "print(dFrame6)\n"
   ]
  },
  {
   "cell_type": "code",
   "execution_count": 5,
   "id": "a1a040b3-068f-45d0-b71c-8f927edfd9b2",
   "metadata": {},
   "outputs": [
    {
     "name": "stdout",
     "output_type": "stream",
     "text": [
      "         Arnab  Ramit  Samridhi  Riya  Mallika\n",
      "Maths       90     92        89    81       94\n",
      "Science     91     81        91    71       95\n",
      "Hindi       97     96        88    67       99\n",
      "[[90 92 89 81 94]\n",
      " [91 81 91 71 95]\n",
      " [97 96 88 67 99]]\n"
     ]
    }
   ],
   "source": [
    "ResultSheet={\n",
    "  'Arnab': pd.Series([90, 91, 97], index=['Maths','Science','Hindi']),\n",
    "  'Ramit': pd.Series([92, 81, 96], index=['Maths','Science','Hindi']),\n",
    "  'Samridhi': pd.Series([89, 91, 88], index=['Maths','Science','Hindi']), \n",
    "  'Riya': pd.Series([81, 71, 67], index=['Maths','Science','Hindi']),\n",
    "  'Mallika': pd.Series([94, 95, 99], index=['Maths','Science','Hindi'])\n",
    "}\n",
    "dFrame7 = pd.DataFrame(ResultSheet)\n",
    "print(dFrame7)\n",
    "print(dFrame7.to_numpy())\n"
   ]
  },
  {
   "cell_type": "code",
   "execution_count": 12,
   "id": "b2be1cb2-7385-41db-8768-2b8f95c39269",
   "metadata": {},
   "outputs": [
    {
     "name": "stdout",
     "output_type": "stream",
     "text": [
      "    C1  C2  C3   C4\n",
      "R1   1   2   3  4.0\n",
      "R2  10   9   8  7.0\n",
      "R3  15  14  13  NaN\n",
      "      C1  C2  C3   C4\n",
      "Sub1   1   2   3  4.0\n",
      "Sub2  10   9   8  7.0\n",
      "Sub3  15  14  13  NaN\n"
     ]
    }
   ],
   "source": [
    "array_2D = [np.arange(1, 5, 1), np.arange(10, 6, -1), np.arange(15, 12, -1)]\n",
    "dFrame8 = pd.DataFrame(array_2D,\n",
    "                       index = ['R1', 'R2', 'R3'],\n",
    "                       columns = ['C1', 'C2', 'C3', 'C4'])\n",
    "print(dFrame8)\n",
    "# dFrame8.info()\n",
    "dFrame9 = dFrame8.rename({'R1':'Sub1', 'R2':'Sub2','R3':'Sub3'}, axis='index')\n",
    "print(dFrame9)\n"
   ]
  },
  {
   "cell_type": "code",
   "execution_count": 11,
   "id": "93a15fbf-06ec-4b44-bb99-89951d47417f",
   "metadata": {
    "scrolled": true
   },
   "outputs": [
    {
     "name": "stdout",
     "output_type": "stream",
     "text": [
      "      Name   Age      City\n",
      "0    Alice  25.0  New York\n",
      "1      Bob   NaN     Paris\n",
      "2  Charlie  35.0    London\n",
      "df.dtypes :\n",
      " Name     object\n",
      "Age     float64\n",
      "City     object\n",
      "dtype: object\n",
      "\n",
      "df.shape : (3, 3)\n",
      "df.size : 9\n",
      "df.empty : False\n"
     ]
    }
   ],
   "source": [
    "data = {\n",
    "    'Name': ['Alice', 'Bob', 'Charlie'],\n",
    "    'Age': [25, np.nan, 35],\n",
    "    'City': ['New York', 'Paris', 'London']\n",
    "}\n",
    "\n",
    "df = pd.DataFrame(data)\n",
    "print(df)\n",
    "# print(\"df.index :\", df.index)\n",
    "# print(\"df.columns :\", df.columns)\n",
    "# print(\"df.values :\\n\", df.values)\n",
    "# print(\"df.T :\\n\", df.T)\n",
    "\n",
    "\n",
    "print(\"df.dtypes :\\n\", df.dtypes)\n",
    "print(\"\\ndf.shape :\", df.shape)\n",
    "print(\"df.size :\", df.size)\n",
    "print(\"df.empty :\", df.empty)\n"
   ]
  },
  {
   "cell_type": "code",
   "execution_count": 23,
   "id": "f8a2a11f-42f1-46ef-9ecf-00af2ebb1746",
   "metadata": {},
   "outputs": [
    {
     "name": "stdout",
     "output_type": "stream",
     "text": [
      "         Arnab  Ramit  Samridhi  Riya  Mallika\n",
      "Maths       90     92        89    81       94\n",
      "Science     91     81        91    71       95\n",
      "Hindi       97     96        88    67       99\n",
      "Arnab       False\n",
      "Ramit        True\n",
      "Samridhi    False\n",
      "Riya        False\n",
      "Mallika      True\n",
      "Name: Maths, dtype: bool\n"
     ]
    }
   ],
   "source": [
    "ResultSheet = {\n",
    "  'Arnab': pd.Series([90, 91, 97], index=['Maths','Science','Hindi']),\n",
    "  'Ramit': pd.Series([92, 81, 96], index=['Maths','Science','Hindi']),\n",
    "  'Samridhi': pd.Series([89, 91, 88], index=['Maths','Science','Hindi']), \n",
    "  'Riya': pd.Series([81, 71, 67], index=['Maths','Science','Hindi']),\n",
    "  'Mallika': pd.Series([94, 95, 99], index=['Maths','Science','Hindi'])\n",
    "}\n",
    "dFrame1 = pd.DataFrame(ResultSheet)\n",
    "print(dFrame1)\n",
    "\n",
    "# print(dFrame1.at['Maths', 'Samridhi'], end = '\\n\\n')\n",
    "\n",
    "# print(dFrame1.iat[0, 2], end = '\\n\\n')\n",
    "# print(dFrame1['Arnab'])\n",
    "\n",
    "# print(dFrame1[['Arnab', 'Riya']])\n",
    "\n",
    "# print(dFrame1['Maths' : 'Science'])\n",
    "# print(dFrame1.iloc[0])\n",
    "# print(dFrame1.loc['Science'])\n",
    "\n",
    "# print(dFrame1.loc[:,'Arnab'])\n",
    "# print(dFrame1.loc[['Science', 'Hindi']])\n",
    "\n",
    "print(dFrame1.loc['Maths'] > 90)\n"
   ]
  },
  {
   "cell_type": "code",
   "execution_count": 6,
   "id": "b24c648b-760b-406b-b3b6-22edb561bac4",
   "metadata": {},
   "outputs": [
    {
     "name": "stdout",
     "output_type": "stream",
     "text": [
      "[('Arthur', 1.8, 41) ('Lancelot', 1.9, 38) ('Galahad', 1.7, 38)]\n",
      "\n",
      "[('Galahad', 1.7, 38) ('Lancelot', 1.9, 38) ('Arthur', 1.8, 41)]\n",
      "\n"
     ]
    }
   ],
   "source": [
    "values = [('Arthur', 1.8, 41), ('Lancelot', 1.9, 38), ('Galahad', 1.7, 38)]\n",
    "dtype = [('name', 'U10'), ('height', float), ('age', int)]\n",
    "ar_5 = np.array(values, dtype=dtype)\n",
    "print(ar_5, end = '\\n\\n')\n",
    "ar_6 = np.sort(ar_5, order='age', kind='stable')\n",
    "print(ar_6, end = '\\n\\n')\n",
    "\n"
   ]
  },
  {
   "cell_type": "code",
   "execution_count": 31,
   "id": "2fd5ad6b-b3ca-4f2e-89f6-7fa6817fca88",
   "metadata": {},
   "outputs": [
    {
     "name": "stdout",
     "output_type": "stream",
     "text": [
      "         Arnab  Ramit  Samridhi  Riya  Mallika\n",
      "Maths       90     92        89    81       94\n",
      "Science     91     81        91    71       95\n",
      "Hindi       97     96        88    67       99\n",
      "         Arnab  Ramit  Samridhi  Riya  Mallika\n",
      "Science     91     81        91    71       95\n",
      "Hindi       97     96        88    67       99\n",
      "         Ramit  Samridhi  Riya  Mallika\n",
      "Science     81        91    71       95\n",
      "Hindi       96        88    67       99\n"
     ]
    }
   ],
   "source": [
    "\n",
    "ResultSheet={\n",
    "  'Arnab': pd.Series([90, 91, 97], index=['Maths','Science','Hindi']),\n",
    "  'Ramit': pd.Series([92, 81, 96], index=['Maths','Science','Hindi']),\n",
    "  'Samridhi': pd.Series([89, 91, 88], index=['Maths','Science','Hindi']), \n",
    "  'Riya': pd.Series([81, 71, 67], index=['Maths','Science','Hindi']),\n",
    "  'Mallika': pd.Series([94, 95, 99], index=['Maths','Science','Hindi'])\n",
    "}\n",
    "dFrame1 = pd.DataFrame(ResultSheet)\n",
    "print(dFrame1)\n",
    "dFrame1 = dFrame1.drop('Maths', axis=0)\n",
    "# dFrame1 = dFrame1.drop(['Samridhi','Ramit','Riya'], axis=1)\n",
    "# print(dFrame1)\n",
    "# del dFrame1['Arnab']\n",
    "print(dFrame1)\n",
    " dFrame1.pop('Arnab')\n",
    "print(dFrame1)\n",
    "\n",
    "\n",
    "\n",
    "\n"
   ]
  },
  {
   "cell_type": "code",
   "execution_count": 35,
   "id": "19227c83-ae5d-4826-b252-aa829d80e57c",
   "metadata": {},
   "outputs": [
    {
     "name": "stdout",
     "output_type": "stream",
     "text": [
      "Id of original dataframe 2394147578480\n",
      "   A  B   C\n",
      "0  1  5   8\n",
      "1  2  6   9\n",
      "2  3  7  10\n",
      "Id of modified dataframe 2394147578480\n",
      "   A   C\n",
      "0  1   8\n",
      "1  2   9\n",
      "2  3  10\n"
     ]
    }
   ],
   "source": [
    "df = pd.DataFrame({'A': [1, 2, 3], 'B': [5, 6, 7], 'C': [8, 9, 10]})\n",
    "print(\"Id of original dataframe\",id(df))\n",
    "print(df)\n",
    "\n",
    "df.drop('B',inplace = True, axis = 1)\n",
    "print(\"Id of modified dataframe\",id(df))\n",
    "print(df)"
   ]
  },
  {
   "cell_type": "code",
   "execution_count": 37,
   "id": "19d9674b-930d-4f28-b5aa-88695aace9f7",
   "metadata": {},
   "outputs": [
    {
     "name": "stdout",
     "output_type": "stream",
     "text": [
      "0       1\n",
      "1       2\n",
      "2    <NA>\n",
      "dtype: Int64\n"
     ]
    }
   ],
   "source": [
    "import numpy as np\n",
    "import pandas as pd\n",
    "# series_1 = pd.Series([1, 2, np.nan], dtype=\"Int64\")\n",
    "series_1 = pd.Series([1, 2, np.nan], dtype=pd.Int64Dtype())\n",
    "print(series_1)\n"
   ]
  },
  {
   "cell_type": "code",
   "execution_count": 38,
   "id": "b55ea9e5-8fda-48e9-ac54-88906d8882de",
   "metadata": {},
   "outputs": [
    {
     "name": "stdout",
     "output_type": "stream",
     "text": [
      "True\n",
      "False\n"
     ]
    }
   ],
   "source": [
    "print(pd.isna(None))  #True\n",
    "print(pd.notna(None))\n"
   ]
  },
  {
   "cell_type": "code",
   "execution_count": 40,
   "id": "2d334ae0-b436-4eb2-8c1b-8b13349a0efc",
   "metadata": {},
   "outputs": [
    {
     "name": "stdout",
     "output_type": "stream",
     "text": [
      "0    1.5\n",
      "1    2.3\n",
      "2    NaN\n",
      "dtype: float64\n"
     ]
    }
   ],
   "source": [
    "series_2 = pd.Series([1.5, 2.3, np.nan], dtype=\"Float64)\n",
    "#is same as series_2 = pd.Series([1.5, 2.3, np.nan], dtype=pd.Float64Dtype())\n",
    "print(series_2)\n"
   ]
  },
  {
   "cell_type": "code",
   "execution_count": 41,
   "id": "9c49bd89-cdfc-4053-8103-9515a4dd526b",
   "metadata": {},
   "outputs": [
    {
     "name": "stdout",
     "output_type": "stream",
     "text": [
      "0    2.0\n",
      "1    NaN\n",
      "2    3.0\n",
      "3    NaN\n",
      "dtype: float64\n",
      "\n",
      "0    2.0\n",
      "1    NaN\n",
      "2    5.0\n",
      "3    NaN\n",
      "dtype: float64\n",
      "\n",
      "0    2.0\n",
      "1    NaN\n",
      "2    NaN\n",
      "3    NaN\n",
      "dtype: float64\n"
     ]
    }
   ],
   "source": [
    "import pandas as pd\n",
    "import numpy as np\n",
    "\n",
    "ser = pd.Series([2, np.nan, 3, np.nan])\n",
    "print(ser, end = '\\n\\n')\n",
    "print(ser.cumsum(), end = '\\n\\n')\n",
    "print(ser.cumsum(skipna=False))\n",
    "\n"
   ]
  },
  {
   "cell_type": "code",
   "execution_count": null,
   "id": "4c5e85a4-3f50-4b4a-8dce-784c5f401406",
   "metadata": {},
   "outputs": [],
   "source": []
  }
 ],
 "metadata": {
  "kernelspec": {
   "display_name": "Python 3 (ipykernel)",
   "language": "python",
   "name": "python3"
  },
  "language_info": {
   "codemirror_mode": {
    "name": "ipython",
    "version": 3
   },
   "file_extension": ".py",
   "mimetype": "text/x-python",
   "name": "python",
   "nbconvert_exporter": "python",
   "pygments_lexer": "ipython3",
   "version": "3.12.8"
  }
 },
 "nbformat": 4,
 "nbformat_minor": 5
}
