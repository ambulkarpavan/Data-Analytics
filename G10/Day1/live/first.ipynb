{
 "cells": [
  {
   "cell_type": "code",
   "execution_count": 1,
   "id": "121ed6c9-5bd2-4f2f-9abb-41ddfe293b51",
   "metadata": {},
   "outputs": [
    {
     "name": "stdout",
     "output_type": "stream",
     "text": [
      "This is my first program in jupyter notebook\n"
     ]
    }
   ],
   "source": [
    "# print(\"This is my first program in jupyter notebook\")"
   ]
  },
  {
   "cell_type": "code",
   "execution_count": null,
   "id": "6cd8e8b0-b101-4316-bc54-23fcee7050cc",
   "metadata": {},
   "outputs": [],
   "source": []
  }
 ],
 "metadata": {
  "kernelspec": {
   "display_name": "Python 3 (ipykernel)",
   "language": "python",
   "name": "python3"
  },
  "language_info": {
   "codemirror_mode": {
    "name": "ipython",
    "version": 3
   },
   "file_extension": ".py",
   "mimetype": "text/x-python",
   "name": "python",
   "nbconvert_exporter": "python",
   "pygments_lexer": "ipython3",
   "version": "3.12.8"
  }
 },
 "nbformat": 4,
 "nbformat_minor": 5
}
