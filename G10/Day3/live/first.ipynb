{
 "cells": [
  {
   "cell_type": "code",
   "execution_count": 2,
   "id": "7ccf4ef6-f3a8-4cc0-acc6-c7d21a3cf6b3",
   "metadata": {},
   "outputs": [
    {
     "name": "stdout",
     "output_type": "stream",
     "text": [
      "[1, 2, 3, 4, 4, 3, 2, 1]\n"
     ]
    }
   ],
   "source": [
    "\n",
    "l1 = [1,2,3,4]\n",
    "l2 = [4,3,2,1]\n",
    "print(l1 + l2)"
   ]
  },
  {
   "cell_type": "code",
   "execution_count": 13,
   "id": "2bd290a5-e892-4c0f-b50d-d70f09959b46",
   "metadata": {},
   "outputs": [
    {
     "name": "stdout",
     "output_type": "stream",
     "text": [
      "[ True  True  True  True]\n"
     ]
    }
   ],
   "source": [
    "import numpy as np\n",
    "\n",
    "ar1 = np.array([1,2,3,4])\n",
    "ar2 = np.array([5,6,7,8])\n",
    "# print(ar1+ar2)\n",
    "# print(ar1-ar2)\n",
    "# print(ar1*ar2)\n",
    "# print(ar1/ar2) \n",
    "# print(ar1%ar2)  \n",
    "# print(ar1**ar2)  \n",
    "print(ar1 < ar2)"
   ]
  },
  {
   "cell_type": "code",
   "execution_count": 14,
   "id": "10f75831-e9f0-4cdf-b303-1d88d5ab4902",
   "metadata": {},
   "outputs": [
    {
     "name": "stdout",
     "output_type": "stream",
     "text": [
      "[[11 22 33]\n",
      " [14 25 36]]\n"
     ]
    }
   ],
   "source": [
    "a = np.array([[1, 2, 3], [4, 5, 6]])\n",
    "b = np.array([10, 20, 30])\n",
    "result = a + b\n",
    "print(result)\n"
   ]
  },
  {
   "cell_type": "code",
   "execution_count": 15,
   "id": "85994819-d015-4cf6-a8b2-880c0d8233e2",
   "metadata": {},
   "outputs": [
    {
     "name": "stdout",
     "output_type": "stream",
     "text": [
      "[1 2 3 4 5 6]\n"
     ]
    }
   ],
   "source": [
    "ar_4 = np.array([[1, 2, 3], [4, 5, 6]]) \n",
    "ar_5 = np.reshape(ar_4 , -1)\n",
    "print(ar_5)\n"
   ]
  },
  {
   "cell_type": "code",
   "execution_count": 17,
   "id": "479a2761-c7db-47fd-8417-0d102b25a76c",
   "metadata": {},
   "outputs": [
    {
     "name": "stdout",
     "output_type": "stream",
     "text": [
      "[ 0  1  2  3  4  5  6  7  8  9 10 11 12 13 14 15]\n",
      "[[ 0  1  2  3]\n",
      " [ 4  5  6  7]\n",
      " [ 8  9 10 11]\n",
      " [12 13 14 15]]\n"
     ]
    }
   ],
   "source": [
    "ar_6 = np.arange(0, 16)\n",
    "print(ar_6)\n",
    "ar_7 = np.reshape(ar_6, (4, 4))\n",
    "print(ar_7)\n"
   ]
  },
  {
   "cell_type": "code",
   "execution_count": 19,
   "id": "d8dc9779-8a48-42e0-afe8-509032a589ad",
   "metadata": {},
   "outputs": [
    {
     "name": "stdout",
     "output_type": "stream",
     "text": [
      "[0. 0. 0. 0. 0. 0. 0. 0. 0. 0. 0. 0. 0. 0. 0. 0.]\n",
      "[[0. 0. 0. 0. 0. 0. 0. 0.]\n",
      " [0. 0. 0. 0. 0. 0. 0. 0.]]\n"
     ]
    }
   ],
   "source": [
    "a = np.zeros((16, ))\n",
    "b = np.reshape(a, (3,5))\n",
    "print(a)\n",
    "print(b)\n"
   ]
  },
  {
   "cell_type": "code",
   "execution_count": 26,
   "id": "495ecd82-23c2-44a2-9fac-7ae687436138",
   "metadata": {},
   "outputs": [
    {
     "name": "stdout",
     "output_type": "stream",
     "text": [
      "[[1 2 3 4 5 6 1 2]\n",
      " [3 4 5 6 1 2 3 4]\n",
      " [5 6 1 2 3 4 5 6]]\n",
      "[1 2 3 4 5 6 1 2 3 4 5 6 1 2 3 4 5 6 1 2 3 4 5 6]\n",
      "[[1 4]\n",
      " [2 5]\n",
      " [3 6]]\n"
     ]
    }
   ],
   "source": [
    "ar_8 = np.array([[1, 2, 3], [4, 5, 6]])\n",
    "ar_9 = np.resize(ar_8 , (3, 8))\n",
    "print(ar_9)\n",
    "ar_14 = ar_9.flatten()\n",
    "print(ar_14)\n",
    "ar_15 = np.transpose(ar_8)\n",
    "print(ar_15)\n",
    "\n"
   ]
  },
  {
   "cell_type": "code",
   "execution_count": 31,
   "id": "8460f11e-7fbb-4e1e-927b-0410262102d4",
   "metadata": {},
   "outputs": [
    {
     "name": "stdout",
     "output_type": "stream",
     "text": [
      "[[1 2]\n",
      " [3 4]\n",
      " [5 6]]\n"
     ]
    }
   ],
   "source": [
    "ar_1 = np.array([[1, 2], [3, 4]]) \n",
    "ar_2 = np.array([[5, 6]]) \n",
    "ar_3 = np.concatenate((ar_1, ar_2))\n",
    "print(ar_3)\n"
   ]
  },
  {
   "cell_type": "code",
   "execution_count": null,
   "id": "4ea2b807-ac3e-4f69-a520-0c7a8c215884",
   "metadata": {},
   "outputs": [],
   "source": []
  }
 ],
 "metadata": {
  "kernelspec": {
   "display_name": "Python 3 (ipykernel)",
   "language": "python",
   "name": "python3"
  },
  "language_info": {
   "codemirror_mode": {
    "name": "ipython",
    "version": 3
   },
   "file_extension": ".py",
   "mimetype": "text/x-python",
   "name": "python",
   "nbconvert_exporter": "python",
   "pygments_lexer": "ipython3",
   "version": "3.12.8"
  }
 },
 "nbformat": 4,
 "nbformat_minor": 5
}
