{
 "cells": [
  {
   "cell_type": "code",
   "execution_count": 2,
   "id": "6fb77556-3145-45f3-971d-47bf5c80b3ed",
   "metadata": {},
   "outputs": [
    {
     "name": "stdout",
     "output_type": "stream",
     "text": [
      "0       4\n",
      "1    <NA>\n",
      "2       2\n",
      "dtype: Int64\n",
      "0    4\n",
      "2    2\n",
      "dtype: Int64\n"
     ]
    }
   ],
   "source": [
    "import numpy as np\n",
    "import pandas as pd\n",
    "\n",
    "s1 = pd.Series([\"agartala\", None, \"bathinda\"], dtype=\"string\")\n",
    "print(s1.str.count(\"a\"))\n",
    "print(s1.dropna().str.count(\"a\"))"
   ]
  },
  {
   "cell_type": "code",
   "execution_count": 3,
   "id": "b0082c4f-cc3f-4205-8cc9-842a8da64e62",
   "metadata": {},
   "outputs": [
    {
     "name": "stdout",
     "output_type": "stream",
     "text": [
      "0       a\n",
      "1       b\n",
      "2       c\n",
      "3    aaba\n",
      "4    baca\n",
      "5    <NA>\n",
      "6    caba\n",
      "7     dog\n",
      "8     cat\n",
      "dtype: string\n"
     ]
    }
   ],
   "source": [
    "s = pd.Series([\"A\", \"B\", \"C\", \"Aaba\", \"Baca\", np.nan, \"CABA\", \"dog\", \"cat\"], dtype=\"string\")\n",
    "print(s.str.lower())"
   ]
  },
  {
   "cell_type": "code",
   "execution_count": 4,
   "id": "ae2bb26f-3871-4839-a256-17d5eceaf6db",
   "metadata": {},
   "outputs": [
    {
     "name": "stdout",
     "output_type": "stream",
     "text": [
      "2023-10-15 08:30:00\n"
     ]
    }
   ],
   "source": [
    "print(pd.Timestamp(\"2023-10-15 08:30:00\"))"
   ]
  },
  {
   "cell_type": "code",
   "execution_count": 5,
   "id": "92f34fd4-a021-4e9e-a38a-0923803d035a",
   "metadata": {},
   "outputs": [
    {
     "name": "stdout",
     "output_type": "stream",
     "text": [
      "2023-10\n"
     ]
    }
   ],
   "source": [
    "print(pd.Period(\"2023-10\", freq='M'))"
   ]
  },
  {
   "cell_type": "code",
   "execution_count": 6,
   "id": "ffdf1857-5ca0-4e27-8785-9bbdde0b7b88",
   "metadata": {},
   "outputs": [
    {
     "name": "stdout",
     "output_type": "stream",
     "text": [
      "DatetimeIndex(['2023-01-01', '2023-01-02', '2023-01-03'], dtype='datetime64[ns]', freq='D')\n"
     ]
    }
   ],
   "source": [
    "print(pd.date_range(start=\"2023-01-01\", periods=3, freq='D'))\n"
   ]
  },
  {
   "cell_type": "code",
   "execution_count": 11,
   "id": "1b8c8d3e-69fe-4599-a7f0-eb19ecde5350",
   "metadata": {},
   "outputs": [
    {
     "name": "stdout",
     "output_type": "stream",
     "text": [
      "        Date  Temperature\n",
      "0 2023-10-01           22\n",
      "1 2023-10-02           24\n",
      "2 2023-10-03           19\n",
      "        Date  Temperature  Yesterday\n",
      "0 2023-10-01           22        NaN\n",
      "1 2023-10-02           24       22.0\n",
      "2 2023-10-03           19       24.0\n",
      "            Temperature  Yesterday\n",
      "Date                              \n",
      "2023-10-01           22        NaN\n",
      "2023-10-02           24       22.0\n",
      "2023-10-03           19       24.0\n",
      "            Temperature  Yesterday\n",
      "Date                              \n",
      "2023-10-01           22        NaN\n",
      "2023-10-02           24       22.0\n",
      "2023-10-03           19       24.0\n"
     ]
    }
   ],
   "source": [
    "dates = pd.date_range(\"2023-10-01\", periods=3, freq='D')\n",
    "temps = [22, 24, 19]\n",
    "dFrame1 = pd.DataFrame({\"Date\": dates, \"Temperature\": temps})\n",
    "print(dFrame1)\n",
    "\n",
    "dFrame1[\"Yesterday\"] = dFrame1[\"Temperature\"].shift(1)  \n",
    "print(dFrame1)\n",
    "\n",
    "dFrame1 = dFrame1.set_index(\"Date\")  # Now index is a DateTimeIndex!  \n",
    "print(dFrame1)\n",
    "\n",
    "oct_data = dFrame1.loc[\"2023-10\"]  \n",
    "print(oct_data)\n",
    "\n"
   ]
  },
  {
   "cell_type": "code",
   "execution_count": 12,
   "id": "598db50a-9049-42e4-ae4b-b184bb571710",
   "metadata": {},
   "outputs": [
    {
     "name": "stdout",
     "output_type": "stream",
     "text": [
      "            Temperature  Yesterday\n",
      "Date                              \n",
      "2023-10-01           22        NaN\n",
      "2023-10-02           24       22.0\n"
     ]
    }
   ],
   "source": [
    "date_range = dFrame1.loc[\"2023-10-01\":\"2023-10-02\"]\n",
    "print(date_range)\n"
   ]
  },
  {
   "cell_type": "code",
   "execution_count": 13,
   "id": "d41c9a73-cb89-48ca-ae9f-a3dc02de01ea",
   "metadata": {},
   "outputs": [
    {
     "name": "stdout",
     "output_type": "stream",
     "text": [
      "Date\n",
      "2023-10-31    21.666667\n",
      "Freq: ME, Name: Temperature, dtype: float64\n"
     ]
    }
   ],
   "source": [
    "monthly_avg = dFrame1.resample(\"ME\").mean()\n",
    "print(monthly_avg[\"Temperature\"])\n"
   ]
  },
  {
   "cell_type": "code",
   "execution_count": 14,
   "id": "81afeb67-3d44-4a63-a79c-ae3e59ca34a4",
   "metadata": {},
   "outputs": [
    {
     "name": "stdout",
     "output_type": "stream",
     "text": [
      "            Temperature  Yesterday  Hour  DayOfWeek\n",
      "Date                                               \n",
      "2023-10-01           22        NaN     0          6\n",
      "2023-10-02           24       22.0     0          0\n",
      "2023-10-03           19       24.0     0          1\n"
     ]
    }
   ],
   "source": [
    "dFrame1[\"Hour\"] = dFrame1.index.hour     \n",
    "dFrame1[\"DayOfWeek\"] = dFrame1.index.dayofweek  \n",
    "print(dFrame1)\n"
   ]
  },
  {
   "cell_type": "code",
   "execution_count": 15,
   "id": "bb3e62b1-a2a5-4364-9d8d-5f2dce0c4013",
   "metadata": {},
   "outputs": [
    {
     "name": "stdout",
     "output_type": "stream",
     "text": [
      "0   2023-10-01\n",
      "1          NaT\n",
      "2   2023-10-03\n",
      "dtype: datetime64[ns]\n"
     ]
    }
   ],
   "source": [
    "dates = pd.Series([pd.Timestamp(\"2023-10-01\"), None, pd.Timestamp(\"2023-10-03\")])\n",
    "print(dates)\n"
   ]
  },
  {
   "cell_type": "code",
   "execution_count": 16,
   "id": "5e2d3ade-74fb-4976-b66e-0242ca78e518",
   "metadata": {},
   "outputs": [
    {
     "name": "stdout",
     "output_type": "stream",
     "text": [
      "NaT\n",
      "False\n"
     ]
    }
   ],
   "source": [
    "print(pd.Timestamp(\"2023-10-01\") + pd.NaT)  \n",
    "print(pd.notna(pd.NaT))\n"
   ]
  },
  {
   "cell_type": "code",
   "execution_count": 17,
   "id": "27b69b32-5e6f-402a-8005-77fe284a26b3",
   "metadata": {},
   "outputs": [
    {
     "name": "stdout",
     "output_type": "stream",
     "text": [
      "2 days 03:30:00\n"
     ]
    }
   ],
   "source": [
    "print(pd.Timedelta(\"2 days 3 hours 30 minutes\"))"
   ]
  },
  {
   "cell_type": "code",
   "execution_count": 18,
   "id": "5b7c14f6-78c1-40ca-bbeb-16af46b7172f",
   "metadata": {},
   "outputs": [
    {
     "name": "stdout",
     "output_type": "stream",
     "text": [
      "1 days 12:00:00\n",
      "7 days 05:00:00\n"
     ]
    }
   ],
   "source": [
    "print(pd.Timedelta(days=1.5))\n",
    "print(pd.Timedelta(weeks=1, hours=5))\n"
   ]
  },
  {
   "cell_type": "code",
   "execution_count": 19,
   "id": "f72b312c-a6d9-4936-b6f5-ff2cc2a7971e",
   "metadata": {},
   "outputs": [
    {
     "name": "stdout",
     "output_type": "stream",
     "text": [
      "1 days 02:10:00\n"
     ]
    }
   ],
   "source": [
    "print(pd.Timedelta(\"P1DT2H10M\"))"
   ]
  },
  {
   "cell_type": "code",
   "execution_count": 21,
   "id": "6acdb183-f834-4722-95af-d396ab0f6ac8",
   "metadata": {},
   "outputs": [
    {
     "name": "stdout",
     "output_type": "stream",
     "text": [
      "<class 'pandas._libs.tslibs.nattype.NaTType'>\n",
      "<class 'numpy.datetime64'>\n"
     ]
    }
   ],
   "source": [
    "\n",
    "print(type(pd.NaT))\n",
    "print(type(np.datetime64('NaT')))\n",
    "\n"
   ]
  },
  {
   "cell_type": "code",
   "execution_count": 22,
   "id": "21c1bc21-d8b0-4a6f-979b-c74e390209ae",
   "metadata": {},
   "outputs": [
    {
     "name": "stdout",
     "output_type": "stream",
     "text": [
      "2 days 03:30:15\n",
      "2 days, 3:30:15\n",
      "<class 'datetime.timedelta'>\n"
     ]
    }
   ],
   "source": [
    "pd_td = pd.Timedelta(\"2 days 3:30:15\")\n",
    "print(pd_td)\n",
    "\n",
    "py_td = pd_td.to_pytimedelta()\n",
    "print(py_td)\n",
    "print(type(py_td))\n"
   ]
  },
  {
   "cell_type": "code",
   "execution_count": 24,
   "id": "21a982c1-3ae5-4812-aa77-5db7b114a98d",
   "metadata": {},
   "outputs": [
    {
     "name": "stdout",
     "output_type": "stream",
     "text": [
      "1 day, 5:30:00\n",
      "1 days 05:30:00\n",
      "<class 'pandas._libs.tslibs.timedeltas.Timedelta'>\n"
     ]
    }
   ],
   "source": [
    "from datetime import timedelta\n",
    "py_td = timedelta(days=1, hours=5, minutes=30)\n",
    "print(py_td)\n",
    "\n",
    "pd_td = pd.Timedelta(py_td)\n",
    "print(pd_td)\n",
    "print(type(pd_td))\n"
   ]
  },
  {
   "cell_type": "code",
   "execution_count": 25,
   "id": "b2d65748-2b92-415e-a08c-153a37508080",
   "metadata": {},
   "outputs": [
    {
     "name": "stdout",
     "output_type": "stream",
     "text": [
      "0 days 03:45:00\n",
      "13500000000000 nanoseconds\n",
      "<class 'numpy.timedelta64'>\n"
     ]
    }
   ],
   "source": [
    "pd_td = pd.Timedelta(\"3 hours 45 minutes\")\n",
    "print(pd_td)\n",
    "\n",
    "np_td = pd_td.to_timedelta64()\n",
    "print(np_td)\n",
    "print(type(np_td))\n"
   ]
  },
  {
   "cell_type": "code",
   "execution_count": 26,
   "id": "34418b7f-26ea-4703-9149-4edab93f654f",
   "metadata": {},
   "outputs": [
    {
     "name": "stdout",
     "output_type": "stream",
     "text": [
      "2 days\n",
      "2 days 00:00:00\n",
      "<class 'pandas._libs.tslibs.timedeltas.Timedelta'>\n"
     ]
    }
   ],
   "source": [
    "np_td = np.timedelta64(2, 'D')\n",
    "print(np_td)\n",
    "\n",
    "pd_td = pd.Timedelta(np_td)\n",
    "print(pd_td)\n",
    "print(type(pd_td))\n"
   ]
  },
  {
   "cell_type": "code",
   "execution_count": 29,
   "id": "f6d4229a-fb4b-4075-ac32-8f7120d45ede",
   "metadata": {},
   "outputs": [
    {
     "name": "stdout",
     "output_type": "stream",
     "text": [
      "2023-10-01 00:00:00\n",
      "2023-10-01 06:00:00\n",
      "2 days 00:00:00\n"
     ]
    }
   ],
   "source": [
    "timestamp = pd.Timestamp(\"2023-10-01\")\n",
    "print(timestamp)\n",
    "print(timestamp + pd.Timedelta(hours=6))\n",
    "print(pd.Timestamp(\"2023-10-03\") - timestamp)"
   ]
  },
  {
   "cell_type": "code",
   "execution_count": 30,
   "id": "23a7a906-e046-49a9-a50e-1532e941f7c0",
   "metadata": {},
   "outputs": [
    {
     "name": "stdout",
     "output_type": "stream",
     "text": [
      "0 days 06:00:00\n",
      "0 days 01:00:00\n"
     ]
    }
   ],
   "source": [
    "td = pd.Timedelta(\"2 hours\")\n",
    "print(td * 3)\n",
    "print(td / 2)\n"
   ]
  },
  {
   "cell_type": "code",
   "execution_count": 31,
   "id": "fa6605e7-65a5-415e-aab8-ea49e64e00da",
   "metadata": {},
   "outputs": [
    {
     "name": "stdout",
     "output_type": "stream",
     "text": [
      "0 days 03:00:00\n",
      "0 days 03:30:00\n"
     ]
    }
   ],
   "source": [
    "td = pd.Timedelta(\"3 hours 29 min 45 sec\")\n",
    "print(td.round(\"h\"))\n",
    "print(td.round(\"15min\"))\n"
   ]
  },
  {
   "cell_type": "code",
   "execution_count": null,
   "id": "2f77469b-ad91-46a6-a663-cf094195bb7b",
   "metadata": {},
   "outputs": [],
   "source": []
  }
 ],
 "metadata": {
  "kernelspec": {
   "display_name": "Python 3 (ipykernel)",
   "language": "python",
   "name": "python3"
  },
  "language_info": {
   "codemirror_mode": {
    "name": "ipython",
    "version": 3
   },
   "file_extension": ".py",
   "mimetype": "text/x-python",
   "name": "python",
   "nbconvert_exporter": "python",
   "pygments_lexer": "ipython3",
   "version": "3.12.8"
  }
 },
 "nbformat": 4,
 "nbformat_minor": 5
}
