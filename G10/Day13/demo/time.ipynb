{
 "cells": [
  {
   "cell_type": "code",
   "execution_count": null,
   "id": "8cff453e-bc44-4c03-a38c-e4b4b4b7ff19",
   "metadata": {},
   "outputs": [],
   "source": []
  }
 ],
 "metadata": {
  "kernelspec": {
   "display_name": "",
   "name": ""
  },
  "language_info": {
   "name": ""
  }
 },
 "nbformat": 4,
 "nbformat_minor": 5
}
