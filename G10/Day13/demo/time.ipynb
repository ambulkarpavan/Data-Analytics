{
 "cells": [
  {
   "cell_type": "code",
   "execution_count": 4,
   "id": "8cff453e-bc44-4c03-a38c-e4b4b4b7ff19",
   "metadata": {},
   "outputs": [
    {
     "name": "stdout",
     "output_type": "stream",
     "text": [
      "2023-10-15 08:30:00\n",
      "2023-10\n",
      "DatetimeIndex(['2023-01-01', '2023-01-02', '2023-01-03'], dtype='datetime64[ns]', freq='D')\n"
     ]
    }
   ],
   "source": [
    "import  numpy as np\n",
    "import pandas as pd\n",
    "\n",
    "print(pd.Timestamp(\"2023-10-15 08:30:00\"))\n",
    "print(pd.Period(\"2023-10\", freq='M'))\n",
    "print(pd.date_range(start=\"2023-01-01\", periods=3, freq='D'))"
   ]
  },
  {
   "cell_type": "code",
   "execution_count": 8,
   "id": "b63c5b24-5564-4765-b616-e52e5e3ee7a0",
   "metadata": {},
   "outputs": [
    {
     "name": "stdout",
     "output_type": "stream",
     "text": [
      "        Date  Temperature\n",
      "0 2023-10-01           22\n",
      "1 2023-10-02           24\n",
      "2 2023-10-03           19\n",
      "        Date  Temperature  Yesterday\n",
      "0 2023-10-01           22        NaN\n",
      "1 2023-10-02           24       22.0\n",
      "2 2023-10-03           19       24.0\n",
      "            Temperature  Yesterday\n",
      "Date                              \n",
      "2023-10-01           22        NaN\n",
      "2023-10-02           24       22.0\n",
      "2023-10-03           19       24.0\n"
     ]
    }
   ],
   "source": [
    "dates = pd.date_range(\"2023-10-01\", periods=3, freq='D')\n",
    "temps = [22, 24, 19]\n",
    "dFrame1 = pd.DataFrame({\"Date\": dates, \"Temperature\": temps})\n",
    "print(dFrame1)\n",
    "dFrame1[\"Yesterday\"] = dFrame1[\"Temperature\"].shift(1)  \n",
    "print(dFrame1)\n",
    "\n",
    "\n",
    "dFrame1[\"Date\"] = pd.to_datetime(dFrame1[\"Date\"])  \n",
    "dFrame1 = dFrame1.set_index(\"Date\")  # Now index is a DateTimeIndex!  \n",
    "print(dFrame1)\n",
    "\n"
   ]
  },
  {
   "cell_type": "code",
   "execution_count": 11,
   "id": "0c5729b9-54f0-4543-b4c4-807d51c9e669",
   "metadata": {},
   "outputs": [
    {
     "name": "stdout",
     "output_type": "stream",
     "text": [
      "            Temperature  Yesterday\n",
      "Date                              \n",
      "2023-10-01           22        NaN\n",
      "2023-10-02           24       22.0\n",
      "2023-10-03           19       24.0\n",
      "Date\n",
      "2023-10-31    21.666667\n",
      "Freq: ME, Name: Temperature, dtype: float64\n",
      "Date\n",
      "2023-10-31    21.666667\n",
      "Freq: ME, Name: Temperature, dtype: float64\n"
     ]
    },
    {
     "name": "stderr",
     "output_type": "stream",
     "text": [
      "C:\\Users\\pavan\\AppData\\Local\\Temp\\ipykernel_25380\\3969677407.py:5: FutureWarning: 'M' is deprecated and will be removed in a future version, please use 'ME' instead.\n",
      "  monthly_avg = dFrame1.resample(\"M\").mean()\n"
     ]
    }
   ],
   "source": [
    "oct_data = dFrame1.loc[\"2023-10\"]  \n",
    "print(oct_data)\n",
    "monthly_avg = dFrame1.resample(\"ME\").mean()\n",
    "print(monthly_avg[\"Temperature\"])\n",
    "monthly_avg = dFrame1.resample(\"M\").mean()\n",
    "print(monthly_avg[\"Temperature\"])\n"
   ]
  },
  {
   "cell_type": "code",
   "execution_count": 12,
   "id": "f295a10e-76f0-4d8a-abda-cf9534c7c1b7",
   "metadata": {},
   "outputs": [
    {
     "name": "stdout",
     "output_type": "stream",
     "text": [
      "            Temperature  Yesterday  Hour  DayOfWeek\n",
      "Date                                               \n",
      "2023-10-01           22        NaN     0          6\n",
      "2023-10-02           24       22.0     0          0\n",
      "2023-10-03           19       24.0     0          1\n"
     ]
    }
   ],
   "source": [
    "dFrame1[\"Hour\"] = dFrame1.index.hour      # Extract hour  \n",
    "dFrame1[\"DayOfWeek\"] = dFrame1.index.dayofweek  # Monday=0, Sunday=6 \n",
    "print(dFrame1)\n"
   ]
  },
  {
   "cell_type": "code",
   "execution_count": 13,
   "id": "53b9a346-651c-4654-8ea7-c819ed07ad3f",
   "metadata": {},
   "outputs": [
    {
     "name": "stdout",
     "output_type": "stream",
     "text": [
      "2 days 03:30:15\n",
      "2 days, 3:30:15\n",
      "<class 'datetime.timedelta'>\n"
     ]
    }
   ],
   "source": [
    "pd_td = pd.Timedelta(\"2 days 3:30:15\")\n",
    "print(pd_td)\n",
    "\n",
    "py_td = pd_td.to_pytimedelta()\n",
    "print(py_td)\n",
    "print(type(py_td))\n"
   ]
  },
  {
   "cell_type": "code",
   "execution_count": 14,
   "id": "9d4e7315-2afe-44e5-ba0d-422b0b9d558c",
   "metadata": {},
   "outputs": [
    {
     "name": "stdout",
     "output_type": "stream",
     "text": [
      "2023-10-01 06:00:00\n",
      "2 days 00:00:00\n"
     ]
    }
   ],
   "source": [
    "timestamp = pd.Timestamp(\"2023-10-01\")\n",
    "print(timestamp + pd.Timedelta(hours=6))\n",
    "print(pd.Timestamp(\"2023-10-03\") - timestamp)\n"
   ]
  },
  {
   "cell_type": "code",
   "execution_count": 15,
   "id": "ca3019eb-231a-49fd-b7ea-7f23e0ebe22b",
   "metadata": {},
   "outputs": [
    {
     "name": "stdout",
     "output_type": "stream",
     "text": [
      "0 days 03:00:00\n",
      "0 days 03:30:00\n"
     ]
    }
   ],
   "source": [
    "td = pd.Timedelta(\"3 hours 29 min 45 sec\")\n",
    "print(td.round(\"h\"))\n",
    "print(td.round(\"15min\"))\n"
   ]
  },
  {
   "cell_type": "code",
   "execution_count": 16,
   "id": "eb8ad4dd-8ccc-45f1-935c-9250a5e83a9d",
   "metadata": {},
   "outputs": [
    {
     "name": "stdout",
     "output_type": "stream",
     "text": [
      "2023-10-01 06:00:00\n",
      "2 days 00:00:00\n"
     ]
    }
   ],
   "source": [
    "timestamp = pd.Timestamp(\"2023-10-01\")\n",
    "print(timestamp + pd.Timedelta(hours=6))\n",
    "print(pd.Timestamp(\"2023-10-03\") - timestamp)\n"
   ]
  },
  {
   "cell_type": "code",
   "execution_count": 17,
   "id": "74781ba2-b9c0-4702-9cc9-0c5dfae7db61",
   "metadata": {},
   "outputs": [
    {
     "name": "stdout",
     "output_type": "stream",
     "text": [
      "                        Activity\n",
      "TimeSinceMidnight               \n",
      "0 days 07:00:00           Get up\n",
      "0 days 09:00:00        Breakfast\n",
      "0 days 09:30:00    Working (1st)\n",
      "0 days 11:15:00        Tea (1st)\n",
      "0 days 11:30:00    Working (2nd)\n",
      "0 days 14:00:00            Lunch\n",
      "0 days 14:30:00    Working (3rd)\n",
      "0 days 16:30:00        Tea (2nd)\n",
      "0 days 16:45:00    Working (4th)\n",
      "0 days 18:30:00     Leave office\n",
      "0 days 19:00:00           Social\n",
      "0 days 21:30:00           Dinner\n",
      "0 days 22:30:00            Sleep\n"
     ]
    }
   ],
   "source": [
    "\n",
    "events = {\n",
    "    \"Get up\": \"07:00\",\n",
    "    \"Breakfast\": \"09:00\",\n",
    "    \"Working (1st)\": \"09:30\",\n",
    "    \"Tea (1st)\": \"11:15\",\n",
    "    \"Working (2nd)\": \"11:30\",\n",
    "    \"Lunch\": \"14:00\",  # 2 PM\n",
    "    \"Working (3rd)\": \"14:30\",\n",
    "    \"Tea (2nd)\": \"16:30\",\n",
    "    \"Working (4th)\": \"16:45\",\n",
    "    \"Leave office\": \"18:30\",\n",
    "    \"Social\": \"19:00\",\n",
    "    \"Dinner\": \"21:30\",\n",
    "    \"Sleep\": \"22:30\"\n",
    "}\n",
    "\n",
    "# Convert to TimedeltaIndex (durations since midnight)\n",
    "time_gaps = pd.to_timedelta([t + \":00\" for t in events.values()])\n",
    "df = pd.DataFrame(\n",
    "    {\"Activity\": events.keys()},\n",
    "    index=pd.TimedeltaIndex(time_gaps, name=\"TimeSinceMidnight\")\n",
    ")\n",
    "\n",
    "print(df)\n"
   ]
  },
  {
   "cell_type": "code",
   "execution_count": 18,
   "id": "2ebf0ecb-afdf-45e2-9ed2-bf8ceff192c7",
   "metadata": {},
   "outputs": [
    {
     "name": "stdout",
     "output_type": "stream",
     "text": [
      "                        Activity       TimeSpent\n",
      "TimeSinceMidnight                               \n",
      "0 days 07:00:00           Get up 0 days 02:00:00\n",
      "0 days 09:00:00        Breakfast 0 days 00:30:00\n",
      "0 days 09:30:00    Working (1st) 0 days 01:45:00\n",
      "0 days 11:15:00        Tea (1st) 0 days 00:15:00\n",
      "0 days 11:30:00    Working (2nd) 0 days 02:30:00\n",
      "0 days 14:00:00            Lunch 0 days 00:30:00\n",
      "0 days 14:30:00    Working (3rd) 0 days 02:00:00\n",
      "0 days 16:30:00        Tea (2nd) 0 days 00:15:00\n",
      "0 days 16:45:00    Working (4th) 0 days 01:45:00\n",
      "0 days 18:30:00     Leave office 0 days 00:30:00\n",
      "0 days 19:00:00           Social 0 days 02:30:00\n",
      "0 days 21:30:00           Dinner 0 days 01:00:00\n",
      "0 days 22:30:00            Sleep             NaT\n"
     ]
    }
   ],
   "source": [
    "df[\"TimeSpent\"] = df.index.to_series().diff().shift(-1)\n",
    "print(df[[\"Activity\", \"TimeSpent\"]])\n"
   ]
  },
  {
   "cell_type": "code",
   "execution_count": 19,
   "id": "0e056b33-422a-4934-b8d1-0ee8d87c7180",
   "metadata": {},
   "outputs": [
    {
     "name": "stdout",
     "output_type": "stream",
     "text": [
      "Total working time: 0 days 08:00:00\n"
     ]
    }
   ],
   "source": [
    "\n",
    "working_time = df[df[\"Activity\"].str.contains(\"Working\")][\"TimeSpent\"].sum()\n",
    "print(f\"Total working time: {working_time}\")\n"
   ]
  },
  {
   "cell_type": "code",
   "execution_count": 20,
   "id": "a2a524a7-fd00-4ca5-9bfa-47ea29e5eaad",
   "metadata": {},
   "outputs": [
    {
     "name": "stdout",
     "output_type": "stream",
     "text": [
      "                   Activity\n",
      "TimeSinceMidnight          \n",
      "0 days 07:00:00           1\n",
      "0 days 09:00:00           2\n",
      "0 days 11:00:00           2\n",
      "0 days 13:00:00           2\n",
      "0 days 15:00:00           2\n",
      "0 days 17:00:00           1\n",
      "0 days 19:00:00           1\n",
      "0 days 21:00:00           2\n"
     ]
    }
   ],
   "source": [
    "\n",
    "activity_counts = df.resample(\"2h\").count()\n",
    "print(activity_counts[[\"Activity\"]])\n"
   ]
  },
  {
   "cell_type": "code",
   "execution_count": null,
   "id": "aef06519-6c82-4e2e-a8e8-24cf5c508e8b",
   "metadata": {},
   "outputs": [],
   "source": []
  }
 ],
 "metadata": {
  "kernelspec": {
   "display_name": "Python 3 (ipykernel)",
   "language": "python",
   "name": "python3"
  },
  "language_info": {
   "codemirror_mode": {
    "name": "ipython",
    "version": 3
   },
   "file_extension": ".py",
   "mimetype": "text/x-python",
   "name": "python",
   "nbconvert_exporter": "python",
   "pygments_lexer": "ipython3",
   "version": "3.12.8"
  }
 },
 "nbformat": 4,
 "nbformat_minor": 5
}
